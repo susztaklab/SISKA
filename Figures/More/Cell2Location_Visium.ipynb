{
 "cells": [
  {
   "cell_type": "code",
   "execution_count": null,
   "metadata": {
    "colab": {
     "base_uri": "https://localhost:8080/"
    },
    "id": "dYdEm4BN_asa",
    "outputId": "33340bb3-e0aa-4ee8-976f-25ec10878a3f",
    "tags": []
   },
   "outputs": [],
   "source": [
    "import sys\n",
    "\n",
    "import sys\n",
    "IN_COLAB = \"google.colab\" in sys.modules\n",
    "if IN_COLAB:\n",
    "    !pip install --quiet scvi-colab\n",
    "    from scvi_colab import install\n",
    "    install()\n",
    "    !pip install --quiet git+https://github.com/BayraktarLab/cell2location#egg=cell2location[tutorials]\n",
    "\n",
    "import scanpy as sc\n",
    "import numpy as np\n",
    "import matplotlib.pyplot as plt\n",
    "import matplotlib as mpl\n",
    "\n",
    "import cell2location\n",
    "\n",
    "from matplotlib import rcParams\n",
    "rcParams['pdf.fonttype'] = 42 # enables correct plotting of text for PDFs"
   ]
  },
  {
   "cell_type": "code",
   "execution_count": null,
   "metadata": {
    "id": "b5WCJ5TJ-Cxw"
   },
   "outputs": [],
   "source": [
    "# Set paths to data and results used through the document:\n",
    "results_folder = '.../Spatial'\n",
    "ref_run_name = f'{results_folder}/reference_signatures'\n",
    "run_name = f'{results_folder}/cell2location_map'"
   ]
  },
  {
   "cell_type": "code",
   "execution_count": null,
   "metadata": {
    "id": "j629oEO7-VKh"
   },
   "outputs": [],
   "source": [
    "adata_ref = sc.read(\".../Atlas6/Atlas6.6_3000HVG_integrated_V2.h5ad\")"
   ]
  },
  {
   "cell_type": "code",
   "execution_count": null,
   "metadata": {
    "id": "syM2W1dU-olY"
   },
   "outputs": [],
   "source": [
    "adata = sc.read(\".../Atlas6/10X_healthy_mouse_HUMAN.h5ad\")"
   ]
  },
  {
   "cell_type": "code",
   "execution_count": null,
   "metadata": {
    "id": "1tAIcDUnMyuq"
   },
   "outputs": [],
   "source": [
    "adata_vis = adata"
   ]
  },
  {
   "cell_type": "code",
   "execution_count": null,
   "metadata": {
    "id": "SimbouuBNV3Q"
   },
   "outputs": [],
   "source": [
    "adata_vis.var['SYMBOL'] = adata_vis.var_names"
   ]
  },
  {
   "cell_type": "code",
   "execution_count": null,
   "metadata": {
    "id": "6gPDxs_UNAko"
   },
   "outputs": [],
   "source": [
    "# find mitochondria-encoded (MT) genes\n",
    "adata_vis.var['MT_gene'] = [gene.startswith('MT-') for gene in adata_vis.var['SYMBOL']]\n",
    "\n",
    "# remove MT genes for spatial mapping (keeping their counts in the object)\n",
    "adata_vis.obsm['MT'] = adata_vis[:, adata_vis.var['MT_gene'].values].X.toarray()\n",
    "adata_vis = adata_vis[:, ~adata_vis.var['MT_gene'].values]"
   ]
  },
  {
   "cell_type": "code",
   "execution_count": null,
   "metadata": {
    "colab": {
     "base_uri": "https://localhost:8080/",
     "height": 472
    },
    "id": "s4qUyDakEY9D",
    "outputId": "1fc8cbac-a2c9-4d94-f86b-c2f76ed0fa41"
   },
   "outputs": [],
   "source": [
    "from cell2location.utils.filtering import filter_genes\n",
    "selected = filter_genes(adata_ref, cell_count_cutoff=5, cell_percentage_cutoff2=0.03, nonz_mean_cutoff=1.12)"
   ]
  },
  {
   "cell_type": "code",
   "execution_count": null,
   "metadata": {
    "id": "xtjyECfGXSYq"
   },
   "outputs": [],
   "source": [
    "adata_ref = adata_ref[adata_ref.obs.species == \"mouse\"]"
   ]
  },
  {
   "cell_type": "code",
   "execution_count": null,
   "metadata": {
    "id": "IILr0E3IfOOG"
   },
   "outputs": [],
   "source": [
    "adata_ref.X = adata_ref.layers[\"counts\"]"
   ]
  },
  {
   "cell_type": "code",
   "execution_count": null,
   "metadata": {
    "id": "tae6YZY_W-Py"
   },
   "outputs": [],
   "source": [
    "# prepare anndata for the regression model\n",
    "cell2location.models.RegressionModel.setup_anndata(adata=adata_ref,\n",
    "                        # 10X reaction / sample / batch\n",
    "                        batch_key='orig_ident',\n",
    "                        # cell type, covariate used for constructing signatures\n",
    "                        labels_key='annotation_final_level1B',\n",
    "                        # multiplicative technical effects (platform, 3' vs 5', donor effect)\n",
    "                        categorical_covariate_keys=['proj']\n",
    "                       )"
   ]
  },
  {
   "cell_type": "code",
   "execution_count": null,
   "metadata": {
    "colab": {
     "base_uri": "https://localhost:8080/",
     "height": 1000
    },
    "id": "qaU_pr0TXr2z",
    "outputId": "053bc9e2-2c52-422c-de9a-f84c12e74099"
   },
   "outputs": [],
   "source": [
    "# create the regression model\n",
    "from cell2location.models import RegressionModel\n",
    "mod = RegressionModel(adata_ref)\n",
    "\n",
    "# view anndata_setup as a sanity check\n",
    "mod.view_anndata_setup()"
   ]
  },
  {
   "cell_type": "code",
   "execution_count": null,
   "metadata": {
    "colab": {
     "base_uri": "https://localhost:8080/"
    },
    "id": "n5f_m__wa3lG",
    "outputId": "148ce7ad-b0be-48ee-dd5d-87d3b25029ca"
   },
   "outputs": [],
   "source": [
    "mod.train(max_epochs=250, use_gpu=True)"
   ]
  },
  {
   "cell_type": "code",
   "execution_count": null,
   "metadata": {
    "colab": {
     "base_uri": "https://localhost:8080/",
     "height": 487
    },
    "id": "gQJmBRGya3h-",
    "outputId": "911c120f-9161-4c78-9b97-079902cbd397"
   },
   "outputs": [],
   "source": [
    "mod.plot_history(20)"
   ]
  },
  {
   "cell_type": "code",
   "execution_count": null,
   "metadata": {
    "colab": {
     "base_uri": "https://localhost:8080/"
    },
    "id": "ACGW7oxLa3cn",
    "outputId": "f7c22b7f-6d00-4726-beef-2f636dc00d41"
   },
   "outputs": [],
   "source": [
    "# In this section, we export the estimated cell abundance (summary of the posterior distribution).\n",
    "adata_ref = mod.export_posterior(\n",
    "    adata_ref, sample_kwargs={'num_samples': 1000, 'batch_size': 2500, 'use_gpu': True}\n",
    ")\n",
    "\n",
    "# Save model\n",
    "mod.save(f\"{ref_run_name}\", overwrite=True)\n",
    "\n"
   ]
  },
  {
   "cell_type": "code",
   "execution_count": null,
   "metadata": {
    "colab": {
     "base_uri": "https://localhost:8080/",
     "height": 35
    },
    "id": "cd311oKMu3K9",
    "outputId": "30be2f3d-e470-41b6-ff4f-7c5760c96d68"
   },
   "outputs": [],
   "source": [
    "# Save anndata object with results\n",
    "adata_file = f\"{ref_run_name}/sc.h5ad\"\n",
    "adata_ref.write(adata_file)\n",
    "adata_file"
   ]
  },
  {
   "cell_type": "code",
   "execution_count": null,
   "metadata": {
    "colab": {
     "base_uri": "https://localhost:8080/",
     "height": 920
    },
    "id": "9zkIFCMta3ZZ",
    "outputId": "d767bf2d-1146-4804-8de2-3b1cac494a48"
   },
   "outputs": [],
   "source": [
    "mod.plot_QC()"
   ]
  },
  {
   "cell_type": "code",
   "execution_count": null,
   "metadata": {
    "colab": {
     "base_uri": "https://localhost:8080/",
     "height": 206
    },
    "id": "CTV7UVz5vGJw",
    "outputId": "7303164f-c699-4cba-b6b3-4f3fa77478c4"
   },
   "outputs": [],
   "source": [
    "# export estimated expression in each cluster\n",
    "if 'means_per_cluster_mu_fg' in adata_ref.varm.keys():\n",
    "    inf_aver = adata_ref.varm['means_per_cluster_mu_fg'][[f'means_per_cluster_mu_fg_{i}'\n",
    "                                    for i in adata_ref.uns['mod']['factor_names']]].copy()\n",
    "else:\n",
    "    inf_aver = adata_ref.var[[f'means_per_cluster_mu_fg_{i}'\n",
    "                                    for i in adata_ref.uns['mod']['factor_names']]].copy()\n",
    "inf_aver.columns = adata_ref.uns['mod']['factor_names']\n",
    "inf_aver.iloc[0:5, 0:5]"
   ]
  },
  {
   "cell_type": "code",
   "execution_count": null,
   "metadata": {
    "id": "V2AlhEkbzrZt"
   },
   "outputs": [],
   "source": [
    "adata_vis = sc.read(\".../Atlas6/10X_healthy_mouse_HUMAN.h5ad\")"
   ]
  },
  {
   "cell_type": "code",
   "execution_count": null,
   "metadata": {
    "id": "BWlz8QLS0AS9"
   },
   "outputs": [],
   "source": [
    "adata_vis.X = adata_vis.layers[\"counts\"]"
   ]
  },
  {
   "cell_type": "code",
   "execution_count": null,
   "metadata": {
    "colab": {
     "base_uri": "https://localhost:8080/"
    },
    "id": "_A_WzHnf0MVO",
    "outputId": "b031b086-67db-4dc1-c07a-5578d3e70773"
   },
   "outputs": [],
   "source": [
    "adata_vis"
   ]
  },
  {
   "cell_type": "code",
   "execution_count": null,
   "metadata": {
    "id": "6aDbZXoVvGHr"
   },
   "outputs": [],
   "source": [
    "# find shared genes and subset both anndata and reference signatures\n",
    "intersect = np.intersect1d(adata_vis.var_names, inf_aver.index)\n",
    "adata_vis = adata_vis[:, intersect].copy()\n",
    "inf_aver = inf_aver.loc[intersect, :].copy()\n",
    "\n",
    "# prepare anndata for cell2location model\n",
    "cell2location.models.Cell2location.setup_anndata(adata=adata_vis)"
   ]
  },
  {
   "cell_type": "code",
   "execution_count": null,
   "metadata": {
    "colab": {
     "base_uri": "https://localhost:8080/",
     "height": 694
    },
    "id": "fk2QPNuTvGFP",
    "outputId": "dedc58d3-578d-4afc-afc1-31a00f396ccd"
   },
   "outputs": [],
   "source": [
    "# create and train the model\n",
    "mod = cell2location.models.Cell2location(\n",
    "    adata_vis, cell_state_df=inf_aver,\n",
    "    # the expected average cell abundance: tissue-dependent\n",
    "    # hyper-prior which can be estimated from paired histology:\n",
    "    N_cells_per_location=30,\n",
    "    # hyperparameter controlling normalisation of\n",
    "    # within-experiment variation in RNA detection:\n",
    "    detection_alpha=20\n",
    ")\n",
    "mod.view_anndata_setup()"
   ]
  },
  {
   "cell_type": "code",
   "execution_count": null,
   "metadata": {
    "colab": {
     "background_save": true,
     "base_uri": "https://localhost:8080/"
    },
    "id": "kgxMaPXVvGC4",
    "outputId": "cc9dbf17-720f-481d-e8aa-2717ce79062e"
   },
   "outputs": [],
   "source": [
    "mod.train(max_epochs=30000,\n",
    "          # train using full data (batch_size=None)\n",
    "          batch_size=None,\n",
    "          # use all data points in training because\n",
    "          # we need to estimate cell abundance at all locations\n",
    "          train_size=1,\n",
    "          use_gpu=True,\n",
    "         )\n",
    "\n",
    "# plot ELBO loss history during training, removing first 100 epochs from the plot\n",
    "mod.plot_history(1000)\n",
    "plt.legend(labels=['full data training']);"
   ]
  },
  {
   "cell_type": "code",
   "execution_count": null,
   "metadata": {
    "colab": {
     "background_save": true
    },
    "id": "AFrKQoPhvF95",
    "outputId": "88831891-e1e4-4e69-e301-854437e4ff3a"
   },
   "outputs": [],
   "source": [
    "# In this section, we export the estimated cell abundance (summary of the posterior distribution).\n",
    "adata_vis = mod.export_posterior(\n",
    "    adata_vis, sample_kwargs={'num_samples': 1000, 'batch_size': mod.adata.n_obs, 'use_gpu': True}\n",
    ")\n",
    "\n",
    "# Save model\n",
    "mod.save(f\"{run_name}\", overwrite=True)\n",
    "\n",
    "# mod = cell2location.models.Cell2location.load(f\"{run_name}\", adata_vis)\n",
    "\n",
    "# Save anndata object with results\n",
    "adata_file = f\"{run_name}/sp.h5ad\"\n",
    "adata_vis.write(adata_file)\n",
    "adata_file"
   ]
  },
  {
   "cell_type": "code",
   "execution_count": null,
   "metadata": {
    "colab": {
     "background_save": true
    },
    "id": "-fJ-BRaNvF6z",
    "outputId": "b254a7b4-b216-48f5-8088-8b109b7bc8e9"
   },
   "outputs": [],
   "source": [
    "mod.plot_QC()"
   ]
  },
  {
   "cell_type": "code",
   "execution_count": null,
   "metadata": {
    "colab": {
     "background_save": true,
     "base_uri": "https://localhost:8080/",
     "height": 1000
    },
    "id": "UnvyViC7vFye",
    "outputId": "80c40727-d137-46ae-b8a2-a6d2a91daf29"
   },
   "outputs": [],
   "source": [
    "# add 5% quantile, representing confident cell abundance, 'at least this amount is present',\n",
    "# to adata.obs with nice names for plotting\n",
    "adata_vis.obs[adata_vis.uns['mod']['factor_names']] = adata_vis.obsm['q05_cell_abundance_w_sf']\n",
    "\n",
    "# select one slide\n",
    "from cell2location.utils import select_slide\n",
    "#slide = select_slide(adata_vis, 'spatial')\n",
    "\n",
    "# plot in spatial coordinates\n",
    "with mpl.rc_context({'axes.facecolor':  'black',\n",
    "                     'figure.figsize': [4.5, 5]}):\n",
    "\n",
    "    sc.pl.spatial(adata_vis, cmap='magma',\n",
    "                  # show first 8 cell types\n",
    "                  color=['CD_PC', 'CNT', 'DCT', 'DCT2', 'ICA', 'ICB', 'Podo', 'PEC', 'PTS1', 'PTS2', 'PTS3', 'injPT', 'prolif_Tubule', 'MD', 'TAL', 'DTL_ATL', 'Immune', 'EC', 'Stromal', 'injTAL', 'injDCT_CNT'],\n",
    "                  ncols=4, size=1.3,\n",
    "                  img_key='hires',\n",
    "                  # limit color scale at 99.2% quantile of cell abundance\n",
    "                  vmin=0, vmax='p99.2'\n",
    "                 )"
   ]
  }
 ],
 "metadata": {
  "accelerator": "GPU",
  "colab": {
   "machine_shape": "hm",
   "provenance": []
  },
  "gpuClass": "standard",
  "kernelspec": {
   "display_name": "Python 3 (ipykernel)",
   "language": "python",
   "name": "python3"
  },
  "language_info": {
   "codemirror_mode": {
    "name": "ipython",
    "version": 3
   },
   "file_extension": ".py",
   "mimetype": "text/x-python",
   "name": "python",
   "nbconvert_exporter": "python",
   "pygments_lexer": "ipython3",
   "version": "3.8.15"
  }
 },
 "nbformat": 4,
 "nbformat_minor": 4
}
