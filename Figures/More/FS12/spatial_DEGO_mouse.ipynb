{
 "cells": [
  {
   "cell_type": "code",
   "execution_count": null,
   "id": "fb070ffa",
   "metadata": {},
   "outputs": [],
   "source": [
    "import scanpy as sc\n",
    "import pandas as pd\n",
    "import matplotlib.pyplot as plt\n",
    "import seaborn as sns\n",
    "import anndata\n",
    "from scipy.sparse import csr_matrix\n",
    "import numpy as np"
   ]
  },
  {
   "cell_type": "code",
   "execution_count": null,
   "id": "c3943e13",
   "metadata": {},
   "outputs": [],
   "source": [
    "go_term_gene_matrix = pd.read_csv(\".../Atlas/MN/go_sets_human.csv\", index_col=\"Unnamed: 0\")"
   ]
  },
  {
   "cell_type": "code",
   "execution_count": null,
   "id": "728708ed",
   "metadata": {},
   "outputs": [],
   "source": [
    "sc.logging.print_versions()\n",
    "sc.set_figure_params(facecolor=\"white\", figsize=(8, 8))\n",
    "sc.settings.verbosity = 3"
   ]
  },
  {
   "cell_type": "code",
   "execution_count": null,
   "id": "3500548c",
   "metadata": {},
   "outputs": [],
   "source": [
    "import os\n",
    "os.chdir(\".../Atlas/10X_data/mouse_spatial/\")\n",
    "adata = sc.read_visium(\".../Atlas/10X_data/mouse_spatial/spatial\", genome=None, count_file='Visium_FFPE_Mouse_Kidney_filtered_feature_bc_matrix.h5', library_id=None, load_images=True, source_image_path=\"/home/kloetzer/Atlas/10X_data/mouse_spatial/spatial\")\n",
    "adata.var_names_make_unique()\n",
    "adata.var[\"mt\"] = adata.var_names.str.startswith(\"mt-\")\n",
    "sc.pp.calculate_qc_metrics(adata, qc_vars=[\"mt\"], inplace=True)"
   ]
  },
  {
   "cell_type": "code",
   "execution_count": null,
   "id": "cd520d22",
   "metadata": {},
   "outputs": [],
   "source": [
    "adata"
   ]
  },
  {
   "cell_type": "code",
   "execution_count": null,
   "id": "beca3929",
   "metadata": {},
   "outputs": [],
   "source": [
    "fig, axs = plt.subplots(1, 4, figsize=(15, 4))\n",
    "sns.distplot(adata.obs[\"total_counts\"], kde=False, ax=axs[0])\n",
    "sns.distplot(adata.obs[\"total_counts\"][adata.obs[\"total_counts\"] < 20000], kde=False, bins=40, ax=axs[1])\n",
    "sns.distplot(adata.obs[\"n_genes_by_counts\"], kde=False, bins=60, ax=axs[2])\n",
    "sns.distplot(adata.obs[\"n_genes_by_counts\"][adata.obs[\"n_genes_by_counts\"] < 5000], kde=False, bins=60, ax=axs[3])"
   ]
  },
  {
   "cell_type": "code",
   "execution_count": null,
   "id": "6403d00a",
   "metadata": {},
   "outputs": [],
   "source": [
    "sns.distplot(adata.obs[\"pct_counts_mt\"])"
   ]
  },
  {
   "cell_type": "code",
   "execution_count": null,
   "id": "3f5bf967",
   "metadata": {},
   "outputs": [],
   "source": [
    "sc.pp.filter_cells(adata, min_counts=10000)\n",
    "sc.pp.filter_cells(adata, max_counts=55000)\n",
    "adata = adata[adata.obs[\"pct_counts_mt\"] < 20]\n",
    "print(f\"#cells after MT filter: {adata.n_obs}\")\n",
    "sc.pp.filter_genes(adata, min_cells=5)"
   ]
  },
  {
   "cell_type": "code",
   "execution_count": null,
   "id": "a0189813",
   "metadata": {},
   "outputs": [],
   "source": [
    "# Read the table with one-to-one orthologous human and mouse gene names\n",
    "orthologs_table = pd.read_csv('/home/kloetzer/Atlas/EnsemblGeneLists/Genelist_V2_subset.csv')  \n",
    "\n",
    "# Create a dictionary mapping mouse gene names to human gene names\n",
    "orthologs_dict = dict(zip(orthologs_table['Mouse.gene.name'], orthologs_table['Gene.name']))\n",
    "\n",
    "#subset\n",
    "list_subset = orthologs_table['Mouse.gene.name'].tolist()\n",
    "\n",
    "adata = adata[:, adata.var_names.isin(list_subset)]\n",
    "\n",
    "# Change the gene names in the AnnData object to the corresponding human gene names\n",
    "adata.var_names = adata.var_names.map(orthologs_dict)"
   ]
  },
  {
   "cell_type": "code",
   "execution_count": null,
   "id": "e7f59cfa",
   "metadata": {},
   "outputs": [],
   "source": [
    "#we increase hvg to 3000"
   ]
  },
  {
   "cell_type": "code",
   "execution_count": null,
   "id": "0cca1b69",
   "metadata": {},
   "outputs": [],
   "source": [
    "sc.pp.normalize_total(adata, inplace=True)\n",
    "sc.pp.log1p(adata)\n",
    "sc.pp.highly_variable_genes(adata, flavor=\"seurat\", n_top_genes=3000, subset = True)"
   ]
  },
  {
   "cell_type": "code",
   "execution_count": null,
   "id": "9d86b188",
   "metadata": {},
   "outputs": [],
   "source": [
    "# Filter genes in AnnData object and GO-term_gene table\n",
    "genes_to_keep = adata.var_names.intersection(go_term_gene_matrix.index)\n",
    "adata_filtered = adata[:, genes_to_keep]\n",
    "go_term_gene_matrix = go_term_gene_matrix.loc[genes_to_keep]\n",
    "\n",
    "\n",
    "\n",
    "# Subsetting gene sets with more than 10 genes\n",
    "go_term_gene_matrix = go_term_gene_matrix.loc[:, (go_term_gene_matrix == 1).sum() > 10]\n",
    "\n",
    "\n",
    "mean_expression_df = pd.DataFrame(index=adata.obs_names)\n",
    "\n",
    "\n",
    "mean_expression_dict = {}\n",
    "\n",
    "for go_term in go_term_gene_matrix.columns:\n",
    "\n",
    "    # Define an example gene set (use the first 10 genes in the dataset)\n",
    "    gene_set = go_term_gene_matrix.index[go_term_gene_matrix[go_term] == 1].tolist()\n",
    "\n",
    "    # Get the expression values for all cells and the gene set\n",
    "    cell_expr = adata_filtered[:, gene_set].X\n",
    "\n",
    "    mean_expression = np.asarray(cell_expr.mean(axis=1)).flatten()\n",
    "    \n",
    "    # Add the mean_expression values to the dictionary with the key as go_term\n",
    "    mean_expression_dict[go_term] = mean_expression\n",
    "\n",
    "# Convert the dictionary to a DataFrame\n",
    "mean_expression_df = pd.DataFrame(mean_expression_dict, index=adata.obs_names)"
   ]
  },
  {
   "cell_type": "code",
   "execution_count": null,
   "id": "272cf4ef",
   "metadata": {},
   "outputs": [],
   "source": [
    "import anndata\n",
    "from scipy.sparse import csr_matrix"
   ]
  },
  {
   "cell_type": "code",
   "execution_count": null,
   "id": "7b33db4f",
   "metadata": {},
   "outputs": [],
   "source": [
    "# Convert the mean_expression_df DataFrame to a sparse matrix\n",
    "mean_expression_sparse = csr_matrix(mean_expression_df.values)"
   ]
  },
  {
   "cell_type": "code",
   "execution_count": null,
   "id": "de23c5fd",
   "metadata": {},
   "outputs": [],
   "source": [
    "# Create a new AnnData object with the mean expression matrix as adata_new.X and copy UMAP information\n",
    "adata_new = anndata.AnnData(X=mean_expression_sparse, obs=adata.obs, var=pd.DataFrame(index=mean_expression_df.columns), obsm=adata.obsm, uns=adata.uns)\n"
   ]
  },
  {
   "cell_type": "code",
   "execution_count": null,
   "id": "21c4fd00",
   "metadata": {},
   "outputs": [],
   "source": [
    "sc.pp.pca(adata_new)\n",
    "sc.pp.neighbors(adata_new)\n",
    "sc.tl.umap(adata_new)\n",
    "sc.tl.leiden(adata_new, key_added=\"clusters\")"
   ]
  },
  {
   "cell_type": "code",
   "execution_count": null,
   "id": "2b85f8ee",
   "metadata": {},
   "outputs": [],
   "source": [
    "sc.settings.set_figure_params(dpi=200, frameon=False)\n",
    "sc.set_figure_params(dpi=200)\n",
    "sc.set_figure_params(figsize=(4, 4))\n",
    "plt.rcParams['figure.dpi'] = 200\n",
    "plt.rcParams['figure.figsize'] = (4, 4)"
   ]
  },
  {
   "cell_type": "code",
   "execution_count": null,
   "id": "8f6b11de",
   "metadata": {},
   "outputs": [],
   "source": [
    "sc.pl.spatial(adata_new, img_key=\"hires\", color=\"GO.0071470.cellular.response.to.osmotic.stress.BP\", cmap = \"rocket\", frameon = False, title = \"\")\n",
    "\n",
    "sc.pl.spatial(adata_new, img_key=\"hires\", color=\"GO.0030104.water.homeostasis.BP\", cmap = \"rocket\", frameon = False, title = \"\")\n",
    "\n",
    "sc.pl.spatial(adata_new, img_key=\"hires\", color=\"GO.0006885.regulation.of.pH.BP\", cmap = \"rocket\", frameon = False, title = \"\")\n"
   ]
  }
 ],
 "metadata": {
  "kernelspec": {
   "display_name": "Python 3 (ipykernel)",
   "language": "python",
   "name": "python3"
  },
  "language_info": {
   "codemirror_mode": {
    "name": "ipython",
    "version": 3
   },
   "file_extension": ".py",
   "mimetype": "text/x-python",
   "name": "python",
   "nbconvert_exporter": "python",
   "pygments_lexer": "ipython3",
   "version": "3.9.1"
  }
 },
 "nbformat": 4,
 "nbformat_minor": 5
}
