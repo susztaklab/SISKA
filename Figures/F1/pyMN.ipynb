{
 "cells": [
  {
   "cell_type": "code",
   "execution_count": null,
   "id": "37b4d1bf",
   "metadata": {
    "tags": []
   },
   "outputs": [],
   "source": [
    "import numpy as np\n",
    "import pandas as pd\n",
    "import scanpy as sc\n",
    "import matplotlib.pyplot as plt\n",
    "import seaborn as sns\n",
    "import pymn\n",
    "import os\n",
    "seed=10\n",
    "os.chdir(\".../Atlas/objects\")\n",
    "sc.logging.print_versions()\n",
    "!pip list "
   ]
  },
  {
   "cell_type": "code",
   "execution_count": null,
   "id": "4734a286",
   "metadata": {},
   "outputs": [],
   "source": [
    "%matplotlib inline"
   ]
  },
  {
   "cell_type": "code",
   "execution_count": null,
   "id": "e389b13f",
   "metadata": {},
   "outputs": [],
   "source": [
    "#These save characters as text in PDFs\n",
    "import matplotlib\n",
    "matplotlib.rcParams['pdf.fonttype'] = 42\n",
    "matplotlib.rcParams['ps.fonttype'] = 42\n",
    "\n",
    "#These change plot aesthetics\n",
    "\n",
    "sns.set(style='white', font_scale=1.25)\n",
    "plt.rc(\"axes.spines\", top=False, right=False)\n",
    "plt.rc('xtick', bottom=True)\n",
    "plt.rc('ytick', left=True)"
   ]
  },
  {
   "cell_type": "code",
   "execution_count": null,
   "id": "fc749e64",
   "metadata": {},
   "outputs": [],
   "source": [
    "adata = sc.read(\"Atlas6.5_raw.h5ad\")\n",
    "go_sets = pd.read_csv(\".../Atlas/MN/go_sets_human.csv\", index_col=\"Unnamed: 0\")"
   ]
  },
  {
   "cell_type": "code",
   "execution_count": null,
   "id": "8bc8199c",
   "metadata": {},
   "outputs": [],
   "source": [
    "adata.obs['cell.type'] = adata.obs['annotation_final_level1'].astype(str)\n",
    "adata.obs['study_id'] = adata.obs['proj'].astype(str)"
   ]
  },
  {
   "cell_type": "code",
   "execution_count": null,
   "id": "de43ee40",
   "metadata": {},
   "outputs": [],
   "source": [
    "nan_count = pd.isna(adata.obs.annotation_final_level1).sum()\n",
    "nan_count"
   ]
  },
  {
   "cell_type": "code",
   "execution_count": null,
   "id": "9e1764e6",
   "metadata": {},
   "outputs": [],
   "source": [
    "os.chdir(\".../Atlas/MN/Atlas6.5_all_proj\")"
   ]
  },
  {
   "cell_type": "code",
   "execution_count": null,
   "id": "ef839048",
   "metadata": {},
   "outputs": [],
   "source": [
    "pymn.variableGenes(adata, study_col='study_id')"
   ]
  },
  {
   "cell_type": "code",
   "execution_count": null,
   "id": "18d929f7",
   "metadata": {},
   "outputs": [],
   "source": [
    "pymn.MetaNeighborUS(adata,\n",
    "                    study_col='study_id',\n",
    "                    ct_col='cell.type',\n",
    "                    fast_version=True)"
   ]
  },
  {
   "cell_type": "code",
   "execution_count": null,
   "id": "435671c5",
   "metadata": {},
   "outputs": [],
   "source": [
    "pymn.plotMetaNeighborUS(adata, figsize=(50, 50), cmap='coolwarm', fontsize=35)"
   ]
  }
 ],
 "metadata": {
  "kernelspec": {
   "display_name": "Python 3 (ipykernel)",
   "language": "python",
   "name": "python3"
  },
  "language_info": {
   "codemirror_mode": {
    "name": "ipython",
    "version": 3
   },
   "file_extension": ".py",
   "mimetype": "text/x-python",
   "name": "python",
   "nbconvert_exporter": "python",
   "pygments_lexer": "ipython3",
   "version": "3.8.15"
  }
 },
 "nbformat": 4,
 "nbformat_minor": 5
}
