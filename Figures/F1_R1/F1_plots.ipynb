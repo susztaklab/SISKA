{
 "cells": [
  {
   "cell_type": "code",
   "execution_count": null,
   "id": "7ea9576b",
   "metadata": {},
   "outputs": [],
   "source": [
    "import sys\n",
    "import pandas as pd\n",
    "import numpy as np\n",
    "import matplotlib.pyplot as plt\n",
    "import anndata\n",
    "import scvi\n",
    "import scanpy as sc\n",
    "import matplotlib\n",
    "import csv\n",
    "import os\n",
    "import seaborn as sns\n",
    "from pySankey.sankey import sankey\n",
    "seed=10\n",
    "os.chdir(\".../Atlas/objects\")\n",
    "sc.logging.print_versions()\n",
    "!pip list"
   ]
  },
  {
   "cell_type": "code",
   "execution_count": null,
   "id": "09b628c9",
   "metadata": {},
   "outputs": [],
   "source": [
    "#new adata 6.4_heathy\n",
    "adata_raw = sc.read(\"Atlas6.4_raw.h5ad\")\n",
    "adata = sc.read(\"Atlas6.5_3000HVG_integrated_V2.h5ad\")\n"
   ]
  },
  {
   "cell_type": "code",
   "execution_count": null,
   "id": "2535aa8f",
   "metadata": {},
   "outputs": [],
   "source": [
    "#get relevant metadata\n",
    "adata.obs.species.value_counts()"
   ]
  },
  {
   "cell_type": "code",
   "execution_count": null,
   "id": "17acaf16",
   "metadata": {},
   "outputs": [],
   "source": [
    "adata_M = adata[adata.obs.species == \"mouse\"]\n",
    "adata_H = adata[adata.obs.species == \"human\"]\n",
    "adata_R = adata[adata.obs.species == \"rat\"]"
   ]
  },
  {
   "cell_type": "code",
   "execution_count": null,
   "id": "719fdd10",
   "metadata": {},
   "outputs": [],
   "source": [
    "#get relevant metadata\n",
    "len(adata_M.obs.orig_ident.unique().tolist())\n"
   ]
  },
  {
   "cell_type": "code",
   "execution_count": null,
   "id": "0fa6c9a5",
   "metadata": {},
   "outputs": [],
   "source": [
    "len(adata_H.obs.orig_ident.unique().tolist())\n"
   ]
  },
  {
   "cell_type": "code",
   "execution_count": null,
   "id": "ee923e17",
   "metadata": {},
   "outputs": [],
   "source": [
    "len(adata_R.obs.orig_ident.unique().tolist())"
   ]
  },
  {
   "cell_type": "code",
   "execution_count": null,
   "id": "f0419e3b",
   "metadata": {},
   "outputs": [],
   "source": [
    "adata_M.obs.disease.value_counts(), adata_H.obs.disease.value_counts(), adata_R.obs.disease.value_counts()"
   ]
  },
  {
   "cell_type": "code",
   "execution_count": null,
   "id": "da16ffaf",
   "metadata": {},
   "outputs": [],
   "source": [
    "model = scvi.model.SCVI.load(\".../Atlas/Models/Model_Atlas6.1_V2\", adata=adata, use_gpu=False)"
   ]
  },
  {
   "cell_type": "code",
   "execution_count": null,
   "id": "3ae50d93",
   "metadata": {},
   "outputs": [],
   "source": [
    "sc.settings.set_figure_params(dpi=200, frameon=False)\n",
    "sc.set_figure_params(dpi=200)\n",
    "sc.set_figure_params(figsize=(4, 4))\n",
    "plt.rcParams['figure.dpi'] = 200\n",
    "plt.rcParams['figure.figsize'] = (4, 4)\n",
    "\n",
    "\n",
    "#wd for figures\n",
    "os.chdir(\".../Atlas/Figures/Atlas6\")\n"
   ]
  },
  {
   "cell_type": "code",
   "execution_count": null,
   "id": "60ec0c0d",
   "metadata": {},
   "outputs": [],
   "source": [
    "adata.obs[\"annotation_visualization\"] = adata.obs[\"annotation_final_level2\"]\n",
    "\n",
    "Rename_cluster = {\n",
    "    'TAL2': 'TAL',\n",
    "    'CD_PC': 'CD_PC',\n",
    "    'PTS1': 'PTS1',\n",
    "    'CD_Pap': 'CD_PC',\n",
    "    'PTS2': 'PTS2',\n",
    "    'ICA': 'ICA',\n",
    "    'EC_Peritub': 'EC',\n",
    "    'DCT': 'DCT',\n",
    "    'Fib2': 'Stromal',\n",
    "    'PTS3': 'PTS3',\n",
    "    'ICB': 'ICB',\n",
    "    'CNT': 'CNT',\n",
    "    'Myeloid': 'Immune',\n",
    "    'PEC': 'PEC',\n",
    "    'injPT': 'injPT',\n",
    "    'DTL_ATL': 'DTL_ATL',\n",
    "    'MD': 'MD',\n",
    "    'TAL1': 'TAL',\n",
    "    'Fib1': 'Stromal',\n",
    "    'EC_DVR': 'EC',\n",
    "    'VSMC': 'Stromal',\n",
    "    'MC1': 'Stromal',\n",
    "    'Podo': 'Podo',\n",
    "    'injDCT_CNT': 'injDCT_CNT',\n",
    "    'injTAL': 'injTAL',\n",
    "    'EC_glom': 'EC',\n",
    "    'prolif_Tubule': 'prolif_Tubule',\n",
    "    'B': 'Immune',\n",
    "    'Lymphocyte': 'Immune',\n",
    "    'EC_Lymph': 'EC',\n",
    "    'Myeloid_prolif': 'Immune',\n",
    "    'Myofib': 'Stromal',\n",
    "    'EC_prolif': 'EC',\n",
    "    'Lymph_prolif': 'Immune',\n",
    "    'Plasma': 'Immune',\n",
    "    'Neural': 'Stromal'\n",
    "}\n",
    "\n",
    "adata.obs['annotation_visualization'] = adata.obs['annotation_visualization'].replace(Rename_cluster).astype('category')\n",
    "\n"
   ]
  },
  {
   "cell_type": "code",
   "execution_count": null,
   "id": "613fc454",
   "metadata": {},
   "outputs": [],
   "source": [
    "sc.pl.umap(adata, color=[\"species\"], frameon=False, title=\"\")\n"
   ]
  },
  {
   "cell_type": "code",
   "execution_count": null,
   "id": "65258314",
   "metadata": {},
   "outputs": [],
   "source": [
    "sc.pl.umap(adata, color=[\"proj\"], frameon=False, title=\"\")"
   ]
  },
  {
   "cell_type": "code",
   "execution_count": null,
   "id": "06e25713",
   "metadata": {},
   "outputs": [],
   "source": [
    "# Create a dictionary that maps the different species to specific colors\n",
    "\n",
    "cell_colors = {\"CD_PC\": \"#c6dbef\", \n",
    "               \"CNT\": \"#bcbddc\", \n",
    "               \"DCT\": \"#3182bd\",\n",
    "               \"DCT2\": \"mediumturquoise\", \n",
    "               \"DTL_ATL\": \"#fdd0a2\",\n",
    "               \"EC\": \"seagreen\", \n",
    "               \"ICA\": \"orange\",\n",
    "               \"ICB\": \"red\", \n",
    "               \"Immune\": \"#c7e9c0\",\n",
    "               \"Podo\": \"#000004\", \n",
    "               \"Stromal\": \"limegreen\",\n",
    "               \"PEC\": \"#fde725\",\n",
    "               \"PTS1\": \"royalblue\", \n",
    "               \"PTS2\": \"navy\",\n",
    "               \"PTS3\": \"darkcyan\", \n",
    "               \"injPT\": \"darkorchid\",\n",
    "               \"prolif_Tubule\": \"darkred\", \n",
    "               \"MD\": \"crimson\", \n",
    "               \"TAL\": \"lightcoral\",\n",
    "               \"injTAL\": \"IndianRed\",\n",
    "               \"injDCT_CNT\": \"midnightblue\",  \n",
    "              }\n",
    "\n",
    "\n",
    "sc.pl.umap(adata, color=[\"annotation_visualization\"], palette = cell_colors, frameon=False, title=\"\", add_outline=True)\n"
   ]
  },
  {
   "cell_type": "code",
   "execution_count": null,
   "id": "3d882940",
   "metadata": {},
   "outputs": [],
   "source": [
    "# Create a dictionary that maps the different species to specific colors\n",
    "\n",
    "cell_colors = {\"CD_PC\": \"#c6dbef\", \n",
    "               \"CNT\": \"#bcbddc\", \n",
    "               \"DCT\": \"#3182bd\",\n",
    "               \"DCT2\": \"mediumturquoise\", \n",
    "               \"DTL_ATL\": \"#fdd0a2\",\n",
    "               \"EC\": \"seagreen\", \n",
    "               \"ICA\": \"orange\",\n",
    "               \"ICB\": \"red\", \n",
    "               \"Immune\": \"#c7e9c0\",\n",
    "               \"Podo\": \"#000004\", \n",
    "               \"Stromal\": \"limegreen\",\n",
    "               \"PEC\": \"#fde725\",\n",
    "               \"PTS1\": \"royalblue\", \n",
    "               \"PTS2\": \"navy\",\n",
    "               \"PTS3\": \"darkcyan\", \n",
    "               \"injPT\": \"darkorchid\",\n",
    "               \"prolif_Tubule\": \"darkred\", \n",
    "               \"MD\": \"crimson\", \n",
    "               \"TAL\": \"lightcoral\",\n",
    "               \"injTAL\": \"IndianRed\",\n",
    "               \"injDCT_CNT\": \"midnightblue\",  \n",
    "              }\n",
    "\n",
    "\n",
    "sc.pl.umap(adata, color=[\"annotation_visualization\"], palette = cell_colors, frameon=False, title=\"\", legend_loc = False, add_outline=True)\n"
   ]
  },
  {
   "cell_type": "code",
   "execution_count": null,
   "id": "94576d61",
   "metadata": {},
   "outputs": [],
   "source": [
    "\n",
    "\n",
    "\n",
    "order = [\"Podo\", \"PEC\", \"PTS1\", \"PTS2\", \"PTS3\", \"injPT\", \n",
    "         \"prolif_Tubule\", \"DTL_ATL\", \"MD\", \"TAL\", \"injTAL\",\n",
    "         \"DCT\", \"DCT2\", \"CNT\", \"CD_PC\", \"injDCT_CNT\", \"ICA\", \"ICB\", \n",
    "         \"Immune\", \"Stromal\", \"EC\"]\n",
    "\n",
    "\n"
   ]
  },
  {
   "cell_type": "code",
   "execution_count": null,
   "id": "fe0448ba",
   "metadata": {},
   "outputs": [],
   "source": [
    "goi = [\"NPHS1\", \"NPHS2\", \"WT1\", \"ALDH1A2\", \n",
    "       \"FAM189A1\", \"SLC5A2\", \"SLC7A7\", \n",
    "       \"SLC5A12\", \"SLC13A1\", \"SLC13A3\", \"SLC13A2\", \"GRAMD1B\", \"SLC6A18\",\n",
    "       \"SLC7A13\", \"CREB5\", \"ADAMTS1\", \"C3\", \"DIAPH3\", \"TOP2A\", \n",
    "       \"SMC4\", \"PROSER2\", \"CRYAB\", \"EPHA7\", \"NOS1\", \"PAPPA2\", \"ENOX1\", \"SLC12A1\", \"CASR\", \n",
    "       \"UMOD\", \"LAMC2\", \"TRPM7\", \"SLC12A3\", \n",
    "       \"KLHL3\", \"SLC8A1\", \"SCNN1B\", \n",
    "       \"SCNN1G\", \"AQP2\", \"AQP3\", \"FXYD4\", \"ELF5\", \"DCDC2\", \"KIT\", \n",
    "       \"SLC4A1\", \"DMRT2\", \"ATP6V0D2\", \"SLC26A4\", \"INSRR\", \"ARHGAP15\", \"PTPRC\", \"IKZF1\", \"LAMA2\", \n",
    "       \"MEIS1\", \"EBF1\", \"FLT1\", \"PTPRB\", \"EMCN\"]\n",
    "\n",
    "#dot plot with marker genes\n",
    "sc.pl.dotplot(\n",
    "adata,\n",
    "goi,\n",
    "groupby='annotation_visualization',\n",
    "dendrogram=False,\n",
    "color_map=\"Blues\",\n",
    "swap_axes=True,\n",
    "standard_scale=\"var\",\n",
    "categories_order = order\n",
    ")"
   ]
  },
  {
   "cell_type": "code",
   "execution_count": null,
   "id": "c9c87f50",
   "metadata": {
    "scrolled": true
   },
   "outputs": [],
   "source": [
    "goi = [\"NPHS1\", \"NPHS2\", \"WT1\", \"ALDH1A2\", \n",
    "       \"FAM189A1\", \"SLC5A2\", \"SLC7A7\", \n",
    "       \"SLC5A12\", \"SLC13A1\", \"SLC13A3\", \"SLC13A2\", \"GRAMD1B\", \"SLC6A18\",\n",
    "       \"SLC7A13\", \"CREB5\", \"ADAMTS1\", \"C3\", \"DIAPH3\", \"TOP2A\", \n",
    "       \"SMC4\", \"PROSER2\", \"CRYAB\", \"EPHA7\", \"NOS1\", \"PAPPA2\", \"ENOX1\", \"SLC12A1\", \"CASR\", \n",
    "       \"UMOD\", \"LAMC2\", \"TRPM7\", \"SLC12A3\", \n",
    "       \"KLHL3\", \"SLC8A1\", \"SCNN1B\", \n",
    "       \"SCNN1G\", \"AQP2\", \"AQP3\", \"FXYD4\", \"ELF5\", \"DCDC2\", \"KIT\", \n",
    "       \"SLC4A1\", \"DMRT2\", \"ATP6V0D2\", \"SLC26A4\", \"INSRR\", \"ARHGAP15\", \"PTPRC\", \"IKZF1\", \"LAMA2\", \n",
    "       \"MEIS1\", \"EBF1\", \"FLT1\", \"PTPRB\", \"EMCN\"]\n",
    "\n",
    "#dot plot with marker genes\n",
    "sc.pl.dotplot(\n",
    "adata,\n",
    "goi,\n",
    "groupby='annotation_visualization',\n",
    "dendrogram=False,\n",
    "color_map=\"Blues\",\n",
    "swap_axes=False,\n",
    "standard_scale=\"var\",\n",
    "categories_order = order\n",
    ")"
   ]
  },
  {
   "cell_type": "code",
   "execution_count": null,
   "id": "06d73056",
   "metadata": {},
   "outputs": [],
   "source": [
    "###Sankey: compare KPMP original annotation and new annotation \n",
    "\n",
    "adata_KPMP = adata[adata.obs.proj == \"h_KPMP\"]\n",
    "\n",
    "# Add \"\" to the list of categories for the annotation column\n",
    "#adata_KPMP.obs['annotation_Atlas_level3'].cat.add_categories([\"unknown\"], inplace=True)\n",
    "\n",
    "#adata_KPMP.obs[\"annotation_Atlas_level3\"] = adata_KPMP.obs[\"annotation_Atlas_level3\"].fillna(\"unknown\")\n",
    "\n",
    "df = pd.DataFrame(adata_KPMP.obs, columns=[\"subclass.l1\", \"annotation_final_level1\"])\n",
    "\n",
    "df['sort_order1'] = df['subclass.l1'].map({'PT':1, 'FIB':12, 'NEU':13, 'VSM/P':14, 'TAL':4, 'IMM':15, 'IC':9,\n",
    "'EC':16, 'DTL':2, 'POD':11, 'ATL':3, 'PC':7, 'CNT':6, 'DCT':5, 'PEC':10, 'PapE':8}).astype(\"float\")\n",
    "\n",
    "df['sort_order2'] = df['annotation_final_level1'].map({'TAL_MD':4, 'DCT_CNT_CD':5, 'PT':1,\n",
    "'IC':6, 'prolif_Tubule':7, 'PEC':8, 'DTL_ATL':3, 'Podo':9, 'Stromal':10, 'Immune':11, 'EC':12}).astype(\"float\") \n",
    "\n",
    "df = df.sort_values([\"sort_order1\", \"sort_order2\"])\n",
    "\n",
    "colorDict = {'PT': 'blue', 'FIB': 'limegreen', 'TAL': 'lightcoral', 'IMM': '#c7e9c0', 'IC': 'orange',\n",
    "             'EC': 'seagreen', 'DTL': '#fdd0a2', 'POD': '#000004', 'ATL': '#fdd0a2', 'PC': '#c6dbef',\n",
    "             'CNT': '#bcbddc', 'DCT': '#3182bd', 'VSM/P': 'limegreen', 'PEC': '#fde725', 'NEU': 'limegreen', 'PapE': '#c6dbef',\n",
    "             'TAL_MD': 'lightcoral', 'DCT_CNT_CD': '#bcbddc', \n",
    "             'Stromal': 'limegreen', 'Immune': '#c7e9c0', \n",
    "             'DTL_ATL': '#fdd0a2', 'Podo': '#000004', 'prolif_Tubule': 'darkred'}\n",
    "\n",
    "\n",
    "sankey(df[\"subclass.l1\"], df[\"annotation_final_level1\"], aspect=20, fontsize=5, colorDict=colorDict)"
   ]
  },
  {
   "cell_type": "code",
   "execution_count": null,
   "id": "9bf87d88",
   "metadata": {},
   "outputs": [],
   "source": [
    "#venndiagram from MetaMarker output\n",
    "\n",
    "from matplotlib_venn import venn3, venn3_circles\n",
    "\n",
    "%matplotlib inline"
   ]
  },
  {
   "cell_type": "code",
   "execution_count": null,
   "id": "55079fa9",
   "metadata": {},
   "outputs": [],
   "source": [
    "venn3(subsets = (2042, 1865, 221, 1920, 351, 797, 906), \n",
    "      set_labels = ('Human', 'Mouse', 'Rat'), \n",
    "      set_colors=('blue', 'orange', 'green'), alpha = 0.7)\n",
    "\n",
    "venn3_circles(subsets = (2042, 1865, 221, 1920, 351, 797, 906), \n",
    "      linestyle='dashed', linewidth=2, color='k')\n",
    "      \n",
    "\n",
    "plt.title(\"Shared Marker Genes\")\n"
   ]
  },
  {
   "cell_type": "code",
   "execution_count": null,
   "id": "07d37f02",
   "metadata": {},
   "outputs": [],
   "source": [
    "   #create crosstab for diagramm\n",
    "\n",
    "species_celltype_percentage = pd.crosstab(adata.obs.disease, adata.obs.species)\n",
    "species_celltype_percentage = (\n",
    "    species_celltype_percentage.div(species_celltype_percentage.sum(axis=1), axis=0)\n",
    "    * 100\n",
    ")\n",
    "print(species_celltype_percentage)                 "
   ]
  },
  {
   "cell_type": "code",
   "execution_count": null,
   "id": "88b361cf",
   "metadata": {},
   "outputs": [],
   "source": [
    "celltypes = adata.obs[\"species\"].unique().to_list()"
   ]
  },
  {
   "cell_type": "code",
   "execution_count": null,
   "id": "a02948c2",
   "metadata": {},
   "outputs": [],
   "source": [
    "import scanpy as sc\n",
    "import seaborn as sns\n",
    "import matplotlib.pyplot as plt\n",
    "\n",
    "sns.set_style(\"white\")\n",
    "\n",
    "fz = 8\n",
    "with plt.rc_context(\n",
    "    {\n",
    "        \"figure.figsize\": (5, 10),\n",
    "        \"xtick.labelsize\": fz,\n",
    "        \"ytick.labelsize\": fz,\n",
    "        \"axes.spines.right\": False,\n",
    "        \"axes.spines.top\": False,\n",
    "    }\n",
    "):\n",
    "    ax = species_celltype_percentage.loc[\n",
    "        [\"healthy\", \"diseased\"], celltypes\n",
    "    ].plot(\n",
    "        kind=\"bar\",\n",
    "        stacked=True,\n",
    "        edgecolor=\"none\",\n",
    "    )\n",
    "    ax.tick_params(which=\"minor\")\n",
    "    plt.grid(False)\n",
    "    handles, labels = ax.get_legend_handles_labels()\n",
    "    ax.legend(handles[::-1], labels[::-1], loc=(1.02, 0.57), fontsize=fz, frameon=False)\n",
    "    plt.ylabel(\"percentage\", fontsize=fz)\n",
    "    plt.xlabel(\"\", fontsize=fz)\n",
    "    plt.yticks(np.arange(0, 101, 20), fontsize=fz)\n",
    "    \n",
    "plt.show()"
   ]
  },
  {
   "cell_type": "code",
   "execution_count": null,
   "id": "3d158883",
   "metadata": {},
   "outputs": [],
   "source": []
  }
 ],
 "metadata": {
  "kernelspec": {
   "display_name": "Python 3 (ipykernel)",
   "language": "python",
   "name": "python3"
  },
  "language_info": {
   "codemirror_mode": {
    "name": "ipython",
    "version": 3
   },
   "file_extension": ".py",
   "mimetype": "text/x-python",
   "name": "python",
   "nbconvert_exporter": "python",
   "pygments_lexer": "ipython3",
   "version": "3.8.15"
  }
 },
 "nbformat": 4,
 "nbformat_minor": 5
}
