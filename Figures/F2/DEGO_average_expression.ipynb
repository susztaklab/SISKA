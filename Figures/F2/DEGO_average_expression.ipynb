{
 "cells": [
  {
   "cell_type": "code",
   "execution_count": null,
   "id": "9cde4145",
   "metadata": {},
   "outputs": [],
   "source": [
    "import numpy as np\n",
    "import pandas as pd\n",
    "import scanpy as sc\n",
    "import matplotlib.pyplot as plt\n",
    "import seaborn as sns\n",
    "import os\n",
    "go_term_gene_matrix = pd.read_csv(\".../Atlas/MN/go_sets_human.csv\", index_col=\"Unnamed: 0\")\n",
    "seed=10\n",
    "os.chdir(\".../Atlas/objects\")\n",
    "sc.logging.print_versions()\n",
    "!pip list "
   ]
  },
  {
   "cell_type": "code",
   "execution_count": null,
   "id": "3c865ede",
   "metadata": {},
   "outputs": [],
   "source": [
    "adata = sc.read(\"Atlas6.6_3000HVG_integrated_V2.h5ad\")"
   ]
  },
  {
   "cell_type": "code",
   "execution_count": null,
   "id": "e98aa88d",
   "metadata": {},
   "outputs": [],
   "source": [
    "# Filter genes in AnnData object and GO-term_gene table\n",
    "genes_to_keep = adata.var_names.intersection(go_term_gene_matrix.index)\n",
    "adata_filtered = adata[:, genes_to_keep]\n",
    "go_term_gene_matrix = go_term_gene_matrix.loc[genes_to_keep]\n",
    "\n",
    "\n",
    "\n",
    "# Subsetting gene sets with more than 10 genes\n",
    "go_term_gene_matrix = go_term_gene_matrix.loc[:, (go_term_gene_matrix == 1).sum() > 10]\n",
    "\n",
    "\n",
    "mean_expression_df = pd.DataFrame(index=adata.obs_names)\n",
    "\n",
    "\n",
    "mean_expression_dict = {}\n",
    "\n",
    "for go_term in go_term_gene_matrix.columns:\n",
    "\n",
    "    # Define an example gene set (use the first 10 genes in the dataset)\n",
    "    gene_set = go_term_gene_matrix.index[go_term_gene_matrix[go_term] == 1].tolist()\n",
    "\n",
    "    # Get the expression values for all cells and the gene set\n",
    "    cell_expr = adata_filtered.raw[:, gene_set].X\n",
    "\n",
    "    mean_expression = np.asarray(cell_expr.mean(axis=1)).flatten()\n",
    "    \n",
    "    # Add the mean_expression values to the dictionary with the key as go_term\n",
    "    mean_expression_dict[go_term] = mean_expression\n",
    "\n",
    "# Convert the dictionary to a DataFrame\n",
    "mean_expression_df = pd.DataFrame(mean_expression_dict, index=adata.obs_names)"
   ]
  },
  {
   "cell_type": "code",
   "execution_count": null,
   "id": "28cdb41b",
   "metadata": {},
   "outputs": [],
   "source": [
    "import anndata\n",
    "from scipy.sparse import csr_matrix\n",
    "\n",
    "# Convert the mean_expression_df DataFrame to a sparse matrix\n",
    "mean_expression_sparse = csr_matrix(mean_expression_df.values)\n",
    "\n"
   ]
  },
  {
   "cell_type": "code",
   "execution_count": null,
   "id": "0080834e",
   "metadata": {},
   "outputs": [],
   "source": [
    "# Create a new AnnData object with the mean expression matrix as adata_new.X and copy UMAP information\n",
    "adata_new = anndata.AnnData(X=mean_expression_sparse, obs=adata.obs, var=pd.DataFrame(index=mean_expression_df.columns), obsm=adata.obsm)\n"
   ]
  },
  {
   "cell_type": "code",
   "execution_count": null,
   "id": "73218101",
   "metadata": {},
   "outputs": [],
   "source": [
    "adata_new.write(\".../Atlas/objects/Atlas6.6_Genesets.h5ad\")"
   ]
  },
  {
   "cell_type": "code",
   "execution_count": null,
   "id": "6f691057",
   "metadata": {},
   "outputs": [],
   "source": []
  },
  {
   "cell_type": "code",
   "execution_count": null,
   "id": "7436bbfb",
   "metadata": {},
   "outputs": [],
   "source": []
  },
  {
   "cell_type": "code",
   "execution_count": null,
   "id": "6f4d7f64",
   "metadata": {},
   "outputs": [],
   "source": []
  }
 ],
 "metadata": {
  "kernelspec": {
   "display_name": "Python 3 (ipykernel)",
   "language": "python",
   "name": "python3"
  },
  "language_info": {
   "codemirror_mode": {
    "name": "ipython",
    "version": 3
   },
   "file_extension": ".py",
   "mimetype": "text/x-python",
   "name": "python",
   "nbconvert_exporter": "python",
   "pygments_lexer": "ipython3",
   "version": "3.9.1"
  }
 },
 "nbformat": 4,
 "nbformat_minor": 5
}
