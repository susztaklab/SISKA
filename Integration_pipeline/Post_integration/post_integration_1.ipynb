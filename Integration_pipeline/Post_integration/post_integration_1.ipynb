{
 "cells": [
  {
   "cell_type": "code",
   "execution_count": null,
   "id": "b741ee4e",
   "metadata": {},
   "outputs": [],
   "source": [
    "#Atlas 6.1 - cleaned after 6.0"
   ]
  },
  {
   "cell_type": "code",
   "execution_count": null,
   "id": "4eea88ec",
   "metadata": {},
   "outputs": [],
   "source": [
    "import sys\n",
    "import pandas as pd\n",
    "import numpy as np\n",
    "import matplotlib.pyplot as plt\n",
    "import anndata\n",
    "import scvi\n",
    "import scanpy as sc\n",
    "import matplotlib\n",
    "import csv\n",
    "import os\n",
    "seed=10\n",
    "os.chdir(\".../Atlas/objects\")\n",
    "sc.logging.print_versions()"
   ]
  },
  {
   "cell_type": "code",
   "execution_count": null,
   "id": "25665718",
   "metadata": {},
   "outputs": [],
   "source": [
    "#original file\n",
    "adata= scvi.data.read_h5ad('Atlas6.1_3000HVG.h5ad')\n",
    "adata"
   ]
  },
  {
   "cell_type": "code",
   "execution_count": null,
   "id": "f8a0f4ae",
   "metadata": {},
   "outputs": [],
   "source": [
    "model = scvi.model.SCVI.load(\".../Atlas/Models/Model_Atlas6.1_V2\", adata=adata, use_gpu=False)"
   ]
  },
  {
   "cell_type": "code",
   "execution_count": null,
   "id": "9d55a26a",
   "metadata": {},
   "outputs": [],
   "source": [
    "latent = model.get_latent_representation()\n",
    "adata.obsm[\"X_scVI\"] = latent\n",
    "adata.layers[\"scvi_normalized\"] = model.get_normalized_expression(\n",
    "    library_size=10e4)"
   ]
  },
  {
   "cell_type": "code",
   "execution_count": null,
   "id": "b517226b",
   "metadata": {},
   "outputs": [],
   "source": [
    "sc.pp.neighbors(adata, n_pcs=30, use_rep=\"X_scVI\", random_state=seed)\n",
    "sc.tl.umap(adata, min_dist=0.3, random_state=seed)"
   ]
  },
  {
   "cell_type": "code",
   "execution_count": null,
   "id": "c9486f23",
   "metadata": {
    "scrolled": false
   },
   "outputs": [],
   "source": [
    "adata_M=adata[adata.obs.species=='mouse']\n",
    "adata_R=adata[adata.obs.species=='rat']\n",
    "adata_H=adata[adata.obs.species=='human']\n",
    "\n",
    "sc.pl.umap(adata_M, color=['proj'])\n",
    "sc.pl.umap(adata_R, color=['proj'])\n",
    "sc.pl.umap(adata_H, color=['proj'])"
   ]
  },
  {
   "cell_type": "code",
   "execution_count": null,
   "id": "dd6cbb61",
   "metadata": {},
   "outputs": [],
   "source": [
    "sc.pl.umap(adata_M, color=['original_annotation'])\n",
    "sc.pl.umap(adata_M, color=['original_annotation'])"
   ]
  },
  {
   "cell_type": "code",
   "execution_count": null,
   "id": "244854ff",
   "metadata": {},
   "outputs": [],
   "source": [
    "sc.pl.umap(adata, color=['original_annotation'], legend_loc='on data')\n",
    "sc.pl.umap(adata, color=['original_annotation'])"
   ]
  },
  {
   "cell_type": "code",
   "execution_count": null,
   "id": "7c0fe465",
   "metadata": {},
   "outputs": [],
   "source": [
    "sc.pl.umap(adata, color=['percent.mt'], vmax=25)\n",
    "sc.pl.umap(adata, color=['nCount_RNA'], vmax=20000)\n",
    "sc.pl.umap(adata, color=['nFeature_RNA'], vmax=5000)"
   ]
  },
  {
   "cell_type": "code",
   "execution_count": null,
   "id": "c591a3ed",
   "metadata": {},
   "outputs": [],
   "source": [
    "sc.set_figure_params(figsize=(40,20))\n",
    "sc.pl.violin(adata, keys='nFeature_RNA', groupby='proj')\n",
    "sc.pl.violin(adata, keys='nCount_RNA', groupby='proj')\n",
    "sc.pl.violin(adata, keys='percent.mt', groupby='proj')"
   ]
  },
  {
   "cell_type": "code",
   "execution_count": null,
   "id": "940bf7f3",
   "metadata": {},
   "outputs": [],
   "source": [
    "fig, ax = plt.subplots()\n",
    "sc.pl.violin(adata, keys='nCount_RNA', groupby='proj',\n",
    "             rotation=90,\n",
    "             jitter=0.4,ax=ax, show=False)\n",
    "\n",
    "ax.set_ylim(0, 2000)\n",
    "\n",
    "plt.show()"
   ]
  },
  {
   "cell_type": "code",
   "execution_count": null,
   "id": "6a9d24bd",
   "metadata": {},
   "outputs": [],
   "source": [
    "fig, ax = plt.subplots()\n",
    "sc.pl.violin(adata, keys='nFeature_RNA', groupby='proj',\n",
    "             rotation=90,\n",
    "             jitter=0.4,ax=ax, show=False)\n",
    "\n",
    "ax.set_ylim(0, 2000)\n",
    "\n",
    "plt.show()"
   ]
  },
  {
   "cell_type": "code",
   "execution_count": null,
   "id": "302810ed",
   "metadata": {},
   "outputs": [],
   "source": [
    "sc.set_figure_params(figsize=(5,5))\n",
    "sc.pl.umap(adata, color=['percent.mt'], vmax=15)\n",
    "sc.pl.umap(adata, color=['nCount_RNA'], vmax=15000)\n",
    "sc.pl.umap(adata, color=['nFeature_RNA'], vmax=3000)\n",
    "adata"
   ]
  },
  {
   "cell_type": "code",
   "execution_count": null,
   "id": "3cd70836",
   "metadata": {},
   "outputs": [],
   "source": [
    "sc.tl.leiden(adata, key_added=\"leiden_scVI_0_3\", resolution=0.3, random_state=seed)\n",
    "sc.tl.leiden(adata, key_added=\"leiden_scVI_0_5\", resolution=0.5, random_state=seed)\n",
    "sc.tl.leiden(adata, key_added=\"leiden_scVI_0_7\", resolution=0.7, random_state=seed)"
   ]
  },
  {
   "cell_type": "code",
   "execution_count": null,
   "id": "94e84fa5",
   "metadata": {},
   "outputs": [],
   "source": [
    "sc.tl.leiden(adata, key_added=\"leiden_scVI_1_0\", resolution=1.0, random_state=seed)\n",
    "sc.tl.leiden(adata, key_added=\"leiden_scVI_1_5\", resolution=1.5, random_state=seed)\n",
    "sc.tl.leiden(adata, key_added=\"leiden_scVI_2_0\", resolution=2.0, random_state=seed)"
   ]
  },
  {
   "cell_type": "code",
   "execution_count": null,
   "id": "c2e7bee9",
   "metadata": {
    "scrolled": false
   },
   "outputs": [],
   "source": [
    "sc.set_figure_params(figsize=(5,5))\n",
    "sc.pl.umap(adata, color=['leiden_scVI_0_3'], legend_loc='on data')\n",
    "sc.pl.umap(adata, color=['leiden_scVI_0_5'], legend_loc='on data')\n",
    "sc.pl.umap(adata, color=['leiden_scVI_0_7'], legend_loc='on data')\n",
    "sc.pl.umap(adata, color=['leiden_scVI_1_0'], legend_loc='on data')\n",
    "sc.pl.umap(adata, color=['leiden_scVI_1_5'], legend_loc='on data')\n",
    "sc.pl.umap(adata, color=['leiden_scVI_2_0'], legend_loc='on data')"
   ]
  },
  {
   "cell_type": "code",
   "execution_count": null,
   "id": "0a8782c6",
   "metadata": {},
   "outputs": [],
   "source": [
    "adata_M=adata[adata.obs.species=='mouse']\n",
    "adata_R=adata[adata.obs.species=='rat']\n",
    "adata_H=adata[adata.obs.species=='human']\n",
    "sc.pl.umap(adata_M, color=['leiden_scVI_1_5'])\n",
    "sc.pl.umap(adata_R, color=['leiden_scVI_1_5'])\n",
    "sc.pl.umap(adata_H, color=['leiden_scVI_1_5'])"
   ]
  },
  {
   "cell_type": "code",
   "execution_count": null,
   "id": "bd14c4ef",
   "metadata": {
    "scrolled": false
   },
   "outputs": [],
   "source": [
    "adata_M=adata[adata.obs.species=='mouse']\n",
    "adata_R=adata[adata.obs.species=='rat']\n",
    "adata_H=adata[adata.obs.species=='human']\n",
    "\n",
    "sc.pl.umap(adata_M, color=['proj'])\n",
    "sc.pl.umap(adata_R, color=['proj'])\n",
    "sc.pl.umap(adata_H, color=['proj'])\n",
    "sc.pl.umap(adata_M, color=['leiden_scVI_2_0'])\n",
    "sc.pl.umap(adata_R, color=['leiden_scVI_2_0'])\n",
    "sc.pl.umap(adata_H, color=['leiden_scVI_2_0'])\n",
    "sc.pl.umap(adata, color=['leiden_scVI_2_0'], legend_loc = \"on data\")"
   ]
  },
  {
   "cell_type": "code",
   "execution_count": null,
   "id": "24ad77d0",
   "metadata": {},
   "outputs": [],
   "source": [
    "adata_M=adata[adata.obs.species=='mouse']\n",
    "adata_R=adata[adata.obs.species=='rat']\n",
    "adata_H=adata[adata.obs.species=='human']\n",
    "\n",
    "sc.set_figure_params(figsize=(5,5))\n",
    "sc.pl.umap(adata_M, color=['condition_harmonized'])\n",
    "sc.pl.umap(adata_R, color=['condition_harmonized'])\n",
    "sc.pl.umap(adata_H, color=['condition_harmonized'])"
   ]
  },
  {
   "cell_type": "code",
   "execution_count": null,
   "id": "21581863",
   "metadata": {},
   "outputs": [],
   "source": [
    "#set clustering of interest\n",
    "adata.obs['leiden'] = adata.obs['leiden_scVI_0_3']\n",
    "#get marker genes\n",
    "de_df = model.differential_expression(\n",
    "    groupby=\"leiden\")\n",
    "de_df.head()\n",
    "markers = {}\n",
    "cats = adata.obs.leiden.cat.categories\n",
    "for i, c in enumerate(cats):\n",
    "    cid = \"{} vs Rest\".format(c)\n",
    "    leiden_scVI_df = de_df.loc[de_df.comparison == cid]\n",
    "    leiden_scVI_df = leiden_scVI_df[leiden_scVI_df.lfc_mean > 0]\n",
    "    leiden_scVI_df = leiden_scVI_df[leiden_scVI_df[\"bayes_factor\"] > 3]\n",
    "    leiden_scVI_df = leiden_scVI_df[leiden_scVI_df[\"non_zeros_proportion1\"] > 0.1]\n",
    "    leiden_scVI_df = leiden_scVI_df[leiden_scVI_df[\"lfc_mean\"] > 0.75]\n",
    "    markers[c] = leiden_scVI_df.index.tolist()[:5]\n",
    "    sc.tl.dendrogram(adata, groupby=\"leiden\", use_rep=\"X_scVI\")\n",
    "    sc.pl.dotplot(\n",
    "    adata,\n",
    "    markers,\n",
    "    groupby='leiden',\n",
    "    dendrogram=True,\n",
    "    color_map=\"Blues\",\n",
    "    swap_axes=True,\n",
    "    use_raw=True,\n",
    "    standard_scale=\"var\",\n",
    ")"
   ]
  },
  {
   "cell_type": "code",
   "execution_count": null,
   "id": "29a79e0a",
   "metadata": {},
   "outputs": [],
   "source": [
    "#set clustering of interest\n",
    "adata.obs['leiden'] = adata.obs['leiden_scVI_0_5']\n",
    "#get marker genes\n",
    "de_df = model.differential_expression(\n",
    "    groupby=\"leiden\")\n",
    "de_df.head()\n",
    "markers = {}\n",
    "cats = adata.obs.leiden.cat.categories\n",
    "for i, c in enumerate(cats):\n",
    "    cid = \"{} vs Rest\".format(c)\n",
    "    leiden_scVI_df = de_df.loc[de_df.comparison == cid]\n",
    "    leiden_scVI_df = leiden_scVI_df[leiden_scVI_df.lfc_mean > 0]\n",
    "    leiden_scVI_df = leiden_scVI_df[leiden_scVI_df[\"bayes_factor\"] > 3]\n",
    "    leiden_scVI_df = leiden_scVI_df[leiden_scVI_df[\"non_zeros_proportion1\"] > 0.1]\n",
    "    leiden_scVI_df = leiden_scVI_df[leiden_scVI_df[\"lfc_mean\"] > 0.75]\n",
    "    markers[c] = leiden_scVI_df.index.tolist()[:5]\n",
    "    sc.tl.dendrogram(adata, groupby=\"leiden\", use_rep=\"X_scVI\")\n",
    "    sc.pl.dotplot(\n",
    "    adata,\n",
    "    markers,\n",
    "    groupby='leiden',\n",
    "    dendrogram=True,\n",
    "    color_map=\"Blues\",\n",
    "    swap_axes=True,\n",
    "    use_raw=True,\n",
    "    standard_scale=\"var\",\n",
    ")"
   ]
  },
  {
   "cell_type": "code",
   "execution_count": null,
   "id": "4648ef1c",
   "metadata": {},
   "outputs": [],
   "source": [
    "#set clustering of interest\n",
    "adata.obs['leiden'] = adata.obs['leiden_scVI_0_7']\n",
    "#get marker genes\n",
    "de_df = model.differential_expression(\n",
    "    groupby=\"leiden\")\n",
    "de_df.head()\n",
    "markers = {}\n",
    "cats = adata.obs.leiden.cat.categories\n",
    "for i, c in enumerate(cats):\n",
    "    cid = \"{} vs Rest\".format(c)\n",
    "    leiden_scVI_df = de_df.loc[de_df.comparison == cid]\n",
    "    leiden_scVI_df = leiden_scVI_df[leiden_scVI_df.lfc_mean > 0]\n",
    "    leiden_scVI_df = leiden_scVI_df[leiden_scVI_df[\"bayes_factor\"] > 3]\n",
    "    leiden_scVI_df = leiden_scVI_df[leiden_scVI_df[\"non_zeros_proportion1\"] > 0.1]\n",
    "    leiden_scVI_df = leiden_scVI_df[leiden_scVI_df[\"lfc_mean\"] > 0.75]\n",
    "    markers[c] = leiden_scVI_df.index.tolist()[:10]\n",
    "    sc.tl.dendrogram(adata, groupby=\"leiden\", use_rep=\"X_scVI\")\n",
    "    sc.pl.dotplot(\n",
    "    adata,\n",
    "    markers,\n",
    "    groupby='leiden',\n",
    "    dendrogram=True,\n",
    "    color_map=\"Blues\",\n",
    "    swap_axes=True,\n",
    "    use_raw=True,\n",
    "    standard_scale=\"var\",\n",
    ")"
   ]
  },
  {
   "cell_type": "code",
   "execution_count": null,
   "id": "251d93fc",
   "metadata": {
    "scrolled": true
   },
   "outputs": [],
   "source": [
    "#set clustering of interest\n",
    "adata.obs['leiden'] = adata.obs['leiden_scVI_1_0']\n",
    "#get marker genes\n",
    "de_df = model.differential_expression(\n",
    "    groupby=\"leiden\")\n",
    "de_df.head()\n",
    "markers = {}\n",
    "cats = adata.obs.leiden.cat.categories\n",
    "for i, c in enumerate(cats):\n",
    "    cid = \"{} vs Rest\".format(c)\n",
    "    leiden_scVI_df = de_df.loc[de_df.comparison == cid]\n",
    "    leiden_scVI_df = leiden_scVI_df[leiden_scVI_df.lfc_mean > 0]\n",
    "    leiden_scVI_df = leiden_scVI_df[leiden_scVI_df[\"bayes_factor\"] > 3]\n",
    "    leiden_scVI_df = leiden_scVI_df[leiden_scVI_df[\"non_zeros_proportion1\"] > 0.1]\n",
    "    leiden_scVI_df = leiden_scVI_df[leiden_scVI_df[\"lfc_mean\"] > 0.75]\n",
    "    markers[c] = leiden_scVI_df.index.tolist()[:5]\n",
    "    sc.tl.dendrogram(adata, groupby=\"leiden\", use_rep=\"X_scVI\")\n",
    "    sc.pl.dotplot(\n",
    "    adata,\n",
    "    markers,\n",
    "    groupby='leiden',\n",
    "    dendrogram=True,\n",
    "    color_map=\"Blues\",\n",
    "    swap_axes=True,\n",
    "    use_raw=True,\n",
    "    standard_scale=\"var\",\n",
    ")"
   ]
  },
  {
   "cell_type": "code",
   "execution_count": null,
   "id": "f79c8af5",
   "metadata": {},
   "outputs": [],
   "source": [
    "#set clustering of interest\n",
    "adata.obs['leiden'] = adata.obs['leiden_scVI_1_5']\n",
    "#get marker genes\n",
    "de_df = model.differential_expression(\n",
    "    groupby=\"leiden\")\n",
    "de_df.head()\n",
    "markers = {}\n",
    "cats = adata.obs.leiden.cat.categories\n",
    "for i, c in enumerate(cats):\n",
    "    cid = \"{} vs Rest\".format(c)\n",
    "    leiden_scVI_df = de_df.loc[de_df.comparison == cid]\n",
    "    leiden_scVI_df = leiden_scVI_df[leiden_scVI_df.lfc_mean > 0]\n",
    "    leiden_scVI_df = leiden_scVI_df[leiden_scVI_df[\"bayes_factor\"] > 3]\n",
    "    leiden_scVI_df = leiden_scVI_df[leiden_scVI_df[\"non_zeros_proportion1\"] > 0.1]\n",
    "    leiden_scVI_df = leiden_scVI_df[leiden_scVI_df[\"lfc_mean\"] > 0.75]\n",
    "    markers[c] = leiden_scVI_df.index.tolist()[:5]\n",
    "    sc.tl.dendrogram(adata, groupby=\"leiden\", use_rep=\"X_scVI\")\n",
    "    sc.pl.dotplot(\n",
    "    adata,\n",
    "    markers,\n",
    "    groupby='leiden',\n",
    "    dendrogram=True,\n",
    "    color_map=\"Blues\",\n",
    "    swap_axes=True,\n",
    "    use_raw=True,\n",
    "    standard_scale=\"var\",\n",
    ")"
   ]
  },
  {
   "cell_type": "code",
   "execution_count": null,
   "id": "c5095440",
   "metadata": {},
   "outputs": [],
   "source": [
    "#set clustering of interest\n",
    "adata.obs['leiden'] = adata.obs['leiden_scVI_2_0']\n",
    "#get marker genes\n",
    "de_df = model.differential_expression(\n",
    "    groupby=\"leiden\")\n",
    "de_df.head()\n",
    "markers = {}\n",
    "cats = adata.obs.leiden.cat.categories\n",
    "for i, c in enumerate(cats):\n",
    "    cid = \"{} vs Rest\".format(c)\n",
    "    leiden_scVI_df = de_df.loc[de_df.comparison == cid]\n",
    "    leiden_scVI_df = leiden_scVI_df[leiden_scVI_df.lfc_mean > 0]\n",
    "    leiden_scVI_df = leiden_scVI_df[leiden_scVI_df[\"bayes_factor\"] > 3]\n",
    "    leiden_scVI_df = leiden_scVI_df[leiden_scVI_df[\"non_zeros_proportion1\"] > 0.1]\n",
    "    leiden_scVI_df = leiden_scVI_df[leiden_scVI_df[\"lfc_mean\"] > 0.75]\n",
    "    markers[c] = leiden_scVI_df.index.tolist()[:5]\n",
    "    sc.tl.dendrogram(adata, groupby=\"leiden\", use_rep=\"X_scVI\")\n",
    "    sc.pl.dotplot(\n",
    "    adata,\n",
    "    markers,\n",
    "    groupby='leiden',\n",
    "    dendrogram=True,\n",
    "    color_map=\"Blues\",\n",
    "    swap_axes=True,\n",
    "    use_raw=True,\n",
    "    standard_scale=\"var\",\n",
    ")"
   ]
  },
  {
   "cell_type": "code",
   "execution_count": null,
   "id": "a2a2ce38",
   "metadata": {},
   "outputs": [],
   "source": [
    "#set clustering of interest\n",
    "adata.obs['leiden'] = adata.obs['leiden_scVI_1_5']\n",
    "#get marker genes\n",
    "de_df = model.differential_expression(\n",
    "    groupby=\"leiden\")\n",
    "de_df.head()\n",
    "markers = {}\n",
    "cats = adata.obs.leiden.cat.categories\n",
    "for i, c in enumerate(cats):\n",
    "    cid = \"{} vs Rest\".format(c)\n",
    "    leiden_scVI_df = de_df.loc[de_df.comparison == cid]\n",
    "    leiden_scVI_df = leiden_scVI_df[leiden_scVI_df.lfc_mean > 0]\n",
    "    leiden_scVI_df = leiden_scVI_df[leiden_scVI_df[\"bayes_factor\"] > 3]\n",
    "    leiden_scVI_df = leiden_scVI_df[leiden_scVI_df[\"non_zeros_proportion1\"] > 0.1]\n",
    "    leiden_scVI_df = leiden_scVI_df[leiden_scVI_df[\"lfc_mean\"] > 0.75]\n",
    "    markers[c] = leiden_scVI_df.index.tolist()[:10]\n",
    "    sc.tl.dendrogram(adata, groupby=\"leiden\", use_rep=\"X_scVI\")\n",
    "    sc.pl.dotplot(\n",
    "    adata,\n",
    "    markers,\n",
    "    groupby='leiden',\n",
    "    dendrogram=True,\n",
    "    color_map=\"Blues\",\n",
    "    swap_axes=True,\n",
    "    use_raw=True,\n",
    "    standard_scale=\"var\",\n",
    ")"
   ]
  },
  {
   "cell_type": "code",
   "execution_count": null,
   "id": "07d338c7",
   "metadata": {
    "scrolled": true
   },
   "outputs": [],
   "source": [
    "#set clustering of interest\n",
    "adata.obs['leiden'] = adata.obs['leiden_scVI_1_0']\n",
    "#get marker genes\n",
    "de_df = model.differential_expression(\n",
    "    groupby=\"leiden\")\n",
    "de_df.head()\n",
    "markers = {}\n",
    "cats = adata.obs.leiden.cat.categories\n",
    "for i, c in enumerate(cats):\n",
    "    cid = \"{} vs Rest\".format(c)\n",
    "    leiden_scVI_df = de_df.loc[de_df.comparison == cid]\n",
    "    leiden_scVI_df = leiden_scVI_df[leiden_scVI_df.lfc_mean > 0]\n",
    "    leiden_scVI_df = leiden_scVI_df[leiden_scVI_df[\"bayes_factor\"] > 3]\n",
    "    leiden_scVI_df = leiden_scVI_df[leiden_scVI_df[\"non_zeros_proportion1\"] > 0.1]\n",
    "    leiden_scVI_df = leiden_scVI_df[leiden_scVI_df[\"lfc_mean\"] > 0.75]\n",
    "    markers[c] = leiden_scVI_df.index.tolist()[:10]\n",
    "    sc.tl.dendrogram(adata, groupby=\"leiden\", use_rep=\"X_scVI\")\n",
    "    sc.pl.dotplot(\n",
    "    adata,\n",
    "    markers,\n",
    "    groupby='leiden',\n",
    "    dendrogram=True,\n",
    "    color_map=\"Blues\",\n",
    "    swap_axes=True,\n",
    "    use_raw=True,\n",
    "    standard_scale=\"var\",\n",
    ")"
   ]
  },
  {
   "cell_type": "code",
   "execution_count": null,
   "id": "32c1f20e",
   "metadata": {},
   "outputs": [],
   "source": [
    "sc.set_figure_params(figsize=(40,10))\n",
    "sc.pl.violin(adata, keys='nFeature_RNA', groupby='leiden_scVI_1_5')\n",
    "sc.pl.violin(adata, keys='nCount_RNA', groupby='leiden_scVI_1_5')\n",
    "sc.pl.violin(adata, keys='percent.mt', groupby='leiden_scVI_1_5')"
   ]
  },
  {
   "cell_type": "code",
   "execution_count": null,
   "id": "71694a05",
   "metadata": {},
   "outputs": [],
   "source": [
    "sc.set_figure_params(figsize=(40,10))\n",
    "sc.pl.violin(adata, keys='nFeature_RNA', groupby='leiden_scVI_2_0')\n",
    "sc.pl.violin(adata, keys='nCount_RNA', groupby='leiden_scVI_2_0')\n",
    "sc.pl.violin(adata, keys='percent.mt', groupby='leiden_scVI_2_0')"
   ]
  },
  {
   "cell_type": "code",
   "execution_count": null,
   "id": "1d05f96b",
   "metadata": {},
   "outputs": [],
   "source": [
    "PTS1 = ['SLC6A19', 'SLC5A12', 'PRODH2', 'NOX4', 'SLC34A1']\n",
    "\n",
    "sc.set_figure_params(figsize=(5,5))\n",
    "sc.pl.umap(adata, color=PTS1)"
   ]
  },
  {
   "cell_type": "code",
   "execution_count": null,
   "id": "56f01a02",
   "metadata": {},
   "outputs": [],
   "source": [
    "PTS2 = ['SLC34A1', 'SLC13A3', 'ACMSD', 'MIOX', 'PAH', 'SLC5A10']\n",
    "\n",
    "sc.set_figure_params(figsize=(5,5))\n",
    "sc.pl.umap(adata, color=PTS2)"
   ]
  },
  {
   "cell_type": "code",
   "execution_count": null,
   "id": "ac33daae",
   "metadata": {},
   "outputs": [],
   "source": [
    "PTS3 = ['SLC7A13', 'GRAMD1B', 'ACSS2', 'SLC23A1', 'SLC6A18']\n",
    "\n",
    "sc.set_figure_params(figsize=(5,5))\n",
    "sc.pl.umap(adata, color=PTS3)\n",
    "\n"
   ]
  },
  {
   "cell_type": "code",
   "execution_count": null,
   "id": "fa51a139",
   "metadata": {},
   "outputs": [],
   "source": [
    "#test\n",
    "clusters_remove=['32']\n",
    "adata_test = adata[~adata.obs['leiden_scVI_1_5'].isin(clusters_remove),:]\n",
    "sc.set_figure_params(figsize=(5,5))\n",
    "sc.pl.umap(adata_test, color=\"percent.mt\")"
   ]
  },
  {
   "cell_type": "code",
   "execution_count": null,
   "id": "7a75978f",
   "metadata": {},
   "outputs": [],
   "source": [
    "sc.pl.umap(adata_test, color=\"leiden_scVI_2_0\")"
   ]
  },
  {
   "cell_type": "code",
   "execution_count": null,
   "id": "2a1b588c",
   "metadata": {},
   "outputs": [],
   "source": [
    "adata.obs['annotation_Atlas_level1']=adata.obs.leiden_scVI_1_5\n",
    "Rename_cluster = {\n",
    "\"0\": 'PTS1_PTS2',\n",
    "\"1\": 'injPT',\n",
    "\"2\": 'PTS1_PTS2',\n",
    "\"3\": 'PTS1_PTS2',\n",
    "\"4\": 'DCT',\n",
    "\"5\": 'PTS3',\n",
    "\"6\": 'EC',\n",
    "\"7\": 'CNT',\n",
    "\"8\": 'TAL',\n",
    "\"9\": 'Stromal',\n",
    "\"10\": 'ICA',\n",
    "\"11\": 'TAL',\n",
    "\"12\": 'TAL',\n",
    "\"13\": 'CD_PC',\n",
    "\"14\": 'Immune',\n",
    "\"15\": 'DTL_ATL',\n",
    "\"16\": 'TAL',\n",
    "\"17\": 'EC',\n",
    "\"18\": 'ICB',\n",
    "\"19\": 'DCT_CNT',\n",
    "\"20\": 'PEC',\n",
    "\"21\": 'CD_Pap',\n",
    "\"22\": 'Immune',\n",
    "\"23\": 'Podo',\n",
    "\"24\": 'Stromal',\n",
    "\"25\": 'EC',\n",
    "\"26\": 'unknown1',\n",
    "\"27\": 'EC',\n",
    "\"28\": 'PT_prolif',\n",
    "\"29\": 'injPT',\n",
    "\"30\": 'Immune',\n",
    "\"31\": 'PTS1_PTS2',\n",
    "\"32\": 'PTS1_PTS2',\n",
    "\"33\": 'unknown2',\n",
    "\"34\": 'EC',\n",
    "\"35\": 'injPT',\n",
    "\"36\": 'EC',\n",
    "\"37\": 'Stromal',\n",
    "\"38\": 'Stromal',\n",
    "\"39\": 'CD_PC',\n",
    "\"40\": 'Stromal',\n",
    "}\n",
    "adata.obs['annotation_Atlas_level1'] = adata.obs['annotation_Atlas_level1'].replace(Rename_cluster).astype('category')\n",
    "\n"
   ]
  },
  {
   "cell_type": "code",
   "execution_count": null,
   "id": "e0791305",
   "metadata": {},
   "outputs": [],
   "source": [
    "sc.set_figure_params(figsize=(5,5))\n",
    "\n",
    "sc.pl.umap(adata, color=\"annotation_Atlas_level1\")\n",
    "sc.pl.umap(adata, color=\"annotation_Atlas_level1\", legend_loc = 'on data')"
   ]
  },
  {
   "cell_type": "code",
   "execution_count": null,
   "id": "21ab6b26",
   "metadata": {},
   "outputs": [],
   "source": [
    "#set clustering of interest\n",
    "adata.obs['leiden'] = adata.obs['annotation_Atlas_level1']\n",
    "#get marker genes\n",
    "de_df = model.differential_expression(\n",
    "    groupby=\"leiden\")\n",
    "de_df.head()\n",
    "markers = {}\n",
    "cats = adata.obs.leiden.cat.categories\n",
    "for i, c in enumerate(cats):\n",
    "    cid = \"{} vs Rest\".format(c)\n",
    "    leiden_scVI_df = de_df.loc[de_df.comparison == cid]\n",
    "    leiden_scVI_df = leiden_scVI_df[leiden_scVI_df.lfc_mean > 0]\n",
    "    leiden_scVI_df = leiden_scVI_df[leiden_scVI_df[\"bayes_factor\"] > 3]\n",
    "    leiden_scVI_df = leiden_scVI_df[leiden_scVI_df[\"non_zeros_proportion1\"] > 0.1]\n",
    "    leiden_scVI_df = leiden_scVI_df[leiden_scVI_df[\"lfc_mean\"] > 0.75]\n",
    "    markers[c] = leiden_scVI_df.index.tolist()[:5]\n",
    "    sc.tl.dendrogram(adata, groupby=\"leiden\", use_rep=\"X_scVI\")\n",
    "    sc.pl.dotplot(\n",
    "    adata,\n",
    "    markers,\n",
    "    groupby='leiden',\n",
    "    dendrogram=True,\n",
    "    color_map=\"Blues\",\n",
    "    swap_axes=True,\n",
    "    use_raw=True,\n",
    "    standard_scale=\"var\",\n",
    ")"
   ]
  },
  {
   "cell_type": "code",
   "execution_count": null,
   "id": "76a26c4b",
   "metadata": {},
   "outputs": [],
   "source": [
    "clusters_remove=['unknown1']\n",
    "adata = adata[~adata.obs['annotation_Atlas_level1'].isin(clusters_remove),:]\n",
    "adata"
   ]
  },
  {
   "cell_type": "code",
   "execution_count": null,
   "id": "620c8d73",
   "metadata": {},
   "outputs": [],
   "source": [
    "sc.set_figure_params(figsize=(5,5))\n",
    "\n",
    "sc.pl.umap(adata, color=\"annotation_Atlas_level1\")\n",
    "sc.pl.umap(adata, color=\"annotation_Atlas_level1\", legend_loc = 'on data')"
   ]
  },
  {
   "cell_type": "code",
   "execution_count": null,
   "id": "0b55c770",
   "metadata": {},
   "outputs": [],
   "source": [
    "adata.obs['annotation_Atlas_level2']=adata.obs.leiden_scVI_2_0\n",
    "Rename_cluster = {\n",
    "\"0\": 'PTS1_PTS2',\n",
    "\"1\": 'injPT',\n",
    "\"2\": 'PTS1_PTS2',\n",
    "\"3\": 'PTS1_PTS2',\n",
    "\"4\": 'DCT',\n",
    "\"5\": 'PTS3',\n",
    "\"6\": 'EC',\n",
    "\"7\": 'CNT',\n",
    "\"8\": 'TAL',\n",
    "\"9\": 'Stromal',\n",
    "\"10\": 'ICA',\n",
    "\"11\": 'TAL',\n",
    "\"12\": 'TAL',\n",
    "\"13\": 'CD_PC',\n",
    "\"14\": 'Immune',\n",
    "\"15\": 'DTL_ATL',\n",
    "\"16\": 'TAL',\n",
    "\"17\": 'EC',\n",
    "\"18\": 'ICB',\n",
    "\"19\": 'DCT_CNT',\n",
    "\"20\": 'PEC',\n",
    "\"21\": 'CD_Pap',\n",
    "\"22\": 'Immune',\n",
    "\"23\": 'Podo',\n",
    "\"24\": 'Stromal',\n",
    "\"25\": 'EC',\n",
    "\"26\": 'unknown1',\n",
    "\"27\": 'EC',\n",
    "\"28\": 'PT_prolif',\n",
    "\"29\": 'injPT',\n",
    "\"30\": 'Immune',\n",
    "\"31\": 'PTS1_PTS2',\n",
    "\"32\": 'PTS1_PTS2',\n",
    "\"33\": 'unknown2',\n",
    "\"34\": 'EC',\n",
    "\"35\": 'injPT',\n",
    "\"36\": 'EC',\n",
    "\"37\": 'Stromal',\n",
    "\"38\": 'Stromal',\n",
    "\"39\": 'CD_PC',\n",
    "\"40\": 'Stromal',\n",
    "}\n",
    "adata.obs['annotation_Atlas_level2'] = adata.obs['annotation_Atlas_level2'].replace(Rename_cluster).astype('category')\n",
    "\n"
   ]
  },
  {
   "cell_type": "code",
   "execution_count": null,
   "id": "6fdf0a79",
   "metadata": {},
   "outputs": [],
   "source": [
    "#subset clusters of interest - PT\n",
    "path_subset = '.../Atlas/Cellnames/Atlas6/Atlas6.1_subset_PT'\n",
    "clusters_subset=['PTS1_PTS2', 'injPT', 'PTS3', 'PEC', 'PT_prolif']\n",
    "adata_subset = adata[adata.obs['annotation_Atlas_level1'].isin(clusters_subset),:] \n",
    "sc.pl.umap(adata_subset, color=['annotation_Atlas_level1'], legend_loc='on data')\n",
    "\n",
    "cell_names = adata_subset.obs_names\n",
    "df = pd.DataFrame(cell_names)\n",
    "df.to_csv(path_subset, columns=[0], header=True)"
   ]
  },
  {
   "cell_type": "code",
   "execution_count": null,
   "id": "2309fc5c",
   "metadata": {},
   "outputs": [],
   "source": [
    "\n",
    "#subset clusters of interest - Immune\n",
    "path_subset = '.../Atlas/Cellnames/Atlas6/Atlas6.1_subset_Immune'\n",
    "clusters_subset=['Immune']\n",
    "adata_subset = adata[adata.obs['annotation_Atlas_level1'].isin(clusters_subset),:] \n",
    "sc.pl.umap(adata_subset, color=['annotation_Atlas_level1'], legend_loc='on data')\n",
    "\n",
    "cell_names = adata_subset.obs_names\n",
    "df = pd.DataFrame(cell_names)\n",
    "df.to_csv(path_subset, columns=[0], header=True)\n"
   ]
  },
  {
   "cell_type": "code",
   "execution_count": null,
   "id": "b506aafa",
   "metadata": {},
   "outputs": [],
   "source": [
    "\n",
    "#subset clusters of interest - ECs\n",
    "path_subset = '.../Atlas/Cellnames/Atlas6/Atlas6.1_subset_EC'\n",
    "clusters_subset=['EC']\n",
    "adata_subset = adata[adata.obs['annotation_Atlas_level1'].isin(clusters_subset),:] \n",
    "sc.pl.umap(adata_subset, color=['annotation_Atlas_level1'], legend_loc='on data')\n",
    "\n",
    "cell_names = adata_subset.obs_names\n",
    "df = pd.DataFrame(cell_names)\n",
    "df.to_csv(path_subset, columns=[0], header=True)"
   ]
  },
  {
   "cell_type": "code",
   "execution_count": null,
   "id": "30ad0d9a",
   "metadata": {},
   "outputs": [],
   "source": [
    "#save progress here and reload \n",
    "adata.write(\"Atlas6.1_3000HVG_integrated_V2.h5ad\")"
   ]
  }
 ],
 "metadata": {
  "kernelspec": {
   "display_name": "Python 3 (ipykernel)",
   "language": "python",
   "name": "python3"
  },
  "language_info": {
   "codemirror_mode": {
    "name": "ipython",
    "version": 3
   },
   "file_extension": ".py",
   "mimetype": "text/x-python",
   "name": "python",
   "nbconvert_exporter": "python",
   "pygments_lexer": "ipython3",
   "version": "3.9.1"
  }
 },
 "nbformat": 4,
 "nbformat_minor": 5
}
