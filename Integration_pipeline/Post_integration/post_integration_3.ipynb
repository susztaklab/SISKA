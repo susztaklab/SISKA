{
 "cells": [
  {
   "cell_type": "code",
   "execution_count": 1,
   "id": "dd54605b",
   "metadata": {},
   "outputs": [
    {
     "name": "stderr",
     "output_type": "stream",
     "text": [
      "Global seed set to 0\n"
     ]
    },
    {
     "name": "stdout",
     "output_type": "stream",
     "text": [
      "-----\n",
      "anndata     0.8.0\n",
      "scanpy      1.9.1\n",
      "-----\n",
      "PIL                 9.2.0\n",
      "absl                NA\n",
      "asttokens           NA\n",
      "attr                22.1.0\n",
      "backcall            0.2.0\n",
      "bottleneck          1.3.5\n",
      "cffi                1.15.1\n",
      "chex                0.1.5\n",
      "colorama            0.4.5\n",
      "cycler              0.10.0\n",
      "cython_runtime      NA\n",
      "dateutil            2.8.2\n",
      "debugpy             1.6.3\n",
      "decorator           4.4.2\n",
      "defusedxml          0.7.1\n",
      "deprecate           0.3.2\n",
      "docrep              0.3.2\n",
      "entrypoints         0.4\n",
      "etils               0.8.0\n",
      "executing           1.0.0\n",
      "flax                0.6.0\n",
      "fsspec              2022.8.2\n",
      "google              NA\n",
      "h5py                3.7.0\n",
      "igraph              0.9.11\n",
      "ipykernel           6.15.3\n",
      "ipython_genutils    0.2.0\n",
      "ipywidgets          8.0.2\n",
      "jax                 0.3.17\n",
      "jaxlib              0.3.15\n",
      "jedi                0.18.0\n",
      "joblib              1.2.0\n",
      "jupyter_server      2.0.4\n",
      "kiwisolver          1.4.4\n",
      "leidenalg           0.8.10\n",
      "llvmlite            0.39.1\n",
      "louvain             0.8.0\n",
      "matplotlib          3.6.0\n",
      "mpl_toolkits        NA\n",
      "msgpack             1.0.4\n",
      "mudata              0.2.0\n",
      "multipledispatch    0.6.0\n",
      "natsort             8.2.0\n",
      "numba               0.56.2\n",
      "numpy               1.23.5\n",
      "numpyro             0.10.1\n",
      "opt_einsum          v3.3.0\n",
      "optax               0.1.3\n",
      "packaging           21.3\n",
      "pandas              1.3.0\n",
      "parso               0.8.1\n",
      "pexpect             4.8.0\n",
      "pickleshare         0.7.5\n",
      "pkg_resources       NA\n",
      "platformdirs        2.6.2\n",
      "prompt_toolkit      3.0.16\n",
      "psutil              5.9.2\n",
      "ptyprocess          0.7.0\n",
      "pure_eval           0.2.2\n",
      "pydev_ipython       NA\n",
      "pydevconsole        NA\n",
      "pydevd              2.8.0\n",
      "pydevd_file_utils   NA\n",
      "pydevd_plugins      NA\n",
      "pydevd_tracing      NA\n",
      "pyexpat             NA\n",
      "pygments            2.13.0\n",
      "pyparsing           3.0.9\n",
      "pyro                1.8.2\n",
      "pytorch_lightning   1.6.5\n",
      "pytz                2021.1\n",
      "rich                NA\n",
      "scipy               1.10.0\n",
      "scvi                0.17.3\n",
      "session_info        1.0.0\n",
      "six                 1.15.0\n",
      "sklearn             1.1.2\n",
      "sphinxcontrib       NA\n",
      "stack_data          0.5.0\n",
      "tensorboard         2.10.0\n",
      "texttable           1.6.4\n",
      "threadpoolctl       3.1.0\n",
      "toolz               0.12.0\n",
      "torch               1.12.1+cu102\n",
      "torchmetrics        0.9.3\n",
      "tornado             6.2\n",
      "tqdm                4.64.1\n",
      "traitlets           5.4.0\n",
      "tree                0.1.7\n",
      "typing_extensions   NA\n",
      "virtualenvwrapper   NA\n",
      "wcwidth             0.2.5\n",
      "wrapt               1.14.1\n",
      "yaml                6.0\n",
      "zmq                 24.0.0\n",
      "-----\n",
      "IPython             8.5.0\n",
      "jupyter_client      7.3.5\n",
      "jupyter_core        5.1.0\n",
      "jupyterlab          3.5.2\n",
      "notebook            6.4.12\n",
      "-----\n",
      "Python 3.9.1 (default, Feb 11 2021, 12:28:03) [GCC 4.8.5 20150623 (Red Hat 4.8.5-39)]\n",
      "Linux-3.10.0-1160.76.1.el7.x86_64-x86_64-with-glibc2.17\n",
      "-----\n",
      "Session information updated at 2023-02-02 10:10\n"
     ]
    }
   ],
   "source": [
    "import sys\n",
    "import pandas as pd\n",
    "import numpy as np\n",
    "import matplotlib.pyplot as plt\n",
    "import anndata\n",
    "import scvi\n",
    "import scanpy as sc\n",
    "import matplotlib\n",
    "import csv\n",
    "import os\n",
    "seed=10\n",
    "os.chdir(\".../Atlas/objects\")\n",
    "sc.logging.print_versions()"
   ]
  },
  {
   "cell_type": "code",
   "execution_count": null,
   "id": "ff564c24",
   "metadata": {},
   "outputs": [],
   "source": [
    "#adata 6.2\n",
    "adata = scvi.data.read_h5ad('Atlas6.2_3000HVG_integrated_V2.h5ad')\n"
   ]
  },
  {
   "cell_type": "code",
   "execution_count": 3,
   "id": "bd92092f",
   "metadata": {},
   "outputs": [],
   "source": [
    "condition_list = adata.obs.condition_harmonized.unique().tolist()"
   ]
  },
  {
   "cell_type": "code",
   "execution_count": null,
   "id": "9412fdb4",
   "metadata": {
    "scrolled": true
   },
   "outputs": [],
   "source": [
    "#we check if all conditions / samples equally contribute to clusters or if we have problematic samples \n",
    "\n",
    "condition_list = adata.obs.condition_harmonized.unique().tolist()\n",
    "\n",
    "cell_colors = {\n",
    "        '1.db/m': \"red\", '2.db/db': \"red\", '4b.db/db+AAV+ACEi(2w)': \"red\", '3b.db/db+AAV+PBS(2w)': \"red\", '7b.db/db+AAV+SGLT2i(2w)': \"red\", '5b.db/db+AAV+Rosi(2w)': \"red\", 'Control': \"red\", '4hours': \"red\", '12hours': \"red\", '2days': \"red\", '14days': \"red\", '6weeks': \"red\", 'G2NA43': \"red\", 'LYZ2_eYFP': \"red\", 'FA3': \"red\", 'WT40': \"red\", 'CNU': \"red\", 'GGT_eYFP': \"red\", 'KD1': \"red\", 'PDGFR-eYFP': \"red\", 'APOL1': \"red\", 'Lean': \"red\", 'Obese': \"red\", 'Obese+sGCact': \"red\", 'Obese+sGCstim': \"red\", 'DOCA': \"red\", 'Spironolactone': \"red\", 'Finerenone': \"red\", 'Amiloride': \"red\", 'DKD': \"red\", 'H-CKD': \"red\", 'AKI': \"red\",\n",
    "    }\n",
    "\n",
    "\n",
    "for i in range(len(condition_list)):\n",
    "    \n",
    "    sc.pl.umap(adata, color=[\"condition_harmonized\"], palette = cell_colors, groups = condition_list[i])\n"
   ]
  },
  {
   "cell_type": "code",
   "execution_count": 4,
   "id": "a35c9696",
   "metadata": {},
   "outputs": [],
   "source": [
    "#we further calculate percentages to identify outlier samples\n",
    "\n",
    "cell_type_counts = adata.obs.annotation_Atlas_level3.value_counts()\n",
    "\n",
    "cell_type_percentages = cell_type_counts / cell_type_counts.sum() * 100\n",
    "\n",
    "cell_type_data = cell_type_percentages.to_frame(name='Percentage')"
   ]
  },
  {
   "cell_type": "code",
   "execution_count": 6,
   "id": "9c252c6c",
   "metadata": {},
   "outputs": [],
   "source": [
    "for i in range(len(condition_list)):\n",
    "    \n",
    "    adat = adata[adata.obs.condition_harmonized == condition_list[i]]\n",
    "    \n",
    "    cell_type_counts = adat.obs.annotation_Atlas_level3.value_counts()\n",
    "    \n",
    "    cell_type_percentages = cell_type_counts / cell_type_counts.sum() * 100\n",
    "    \n",
    "    cell_type_data[condition_list[i]] = cell_type_percentages"
   ]
  },
  {
   "cell_type": "code",
   "execution_count": 8,
   "id": "944c6d92",
   "metadata": {},
   "outputs": [],
   "source": [
    "cell_type_data.to_csv(\".../Tables/Atlas6.2_QC_afterannot_conditions_PercentCelltype.csv\")"
   ]
  },
  {
   "cell_type": "code",
   "execution_count": 10,
   "id": "9ed7f539",
   "metadata": {},
   "outputs": [],
   "source": [
    "ident_list = adata.obs.orig_ident.unique().tolist()\n",
    "\n",
    "ident_counts = adata.obs.annotation_Atlas_level3.value_counts()\n",
    "\n",
    "ident_percentage = ident_counts / ident_counts.sum() * 100\n",
    "\n",
    "ident_data = ident_percentage.to_frame(name='Percentage')"
   ]
  },
  {
   "cell_type": "code",
   "execution_count": null,
   "id": "dd96e929",
   "metadata": {
    "scrolled": true
   },
   "outputs": [],
   "source": [
    "for i in range(len(ident_list)):\n",
    "    \n",
    "    adat = adata[adata.obs.orig_ident == ident_list[i]]\n",
    "    \n",
    "    cell_type_counts = adat.obs.annotation_Atlas_level3.value_counts()\n",
    "    \n",
    "    cell_type_percentages = cell_type_counts / cell_type_counts.sum() * 100\n",
    "    \n",
    "    ident_data[ident_list[i]] = cell_type_percentages"
   ]
  },
  {
   "cell_type": "code",
   "execution_count": 13,
   "id": "7d3b7916",
   "metadata": {},
   "outputs": [],
   "source": [
    "ident_data = ident_data.copy()"
   ]
  },
  {
   "cell_type": "code",
   "execution_count": 14,
   "id": "f7a858bb",
   "metadata": {},
   "outputs": [],
   "source": [
    "ident_data.to_csv(\".../Tables/Atlas6.2_QC_afterannot_ident_PercentCelltype.csv\")"
   ]
  },
  {
   "cell_type": "code",
   "execution_count": null,
   "id": "a37c8445",
   "metadata": {},
   "outputs": [],
   "source": [
    "#Remove problematic samples \n",
    "samples_remove=['KD1', 'WT40', 'APOL1']\n",
    "adata = adata[~adata.obs['orig_ident'].isin(samples_remove),:]\n",
    "adata"
   ]
  },
  {
   "cell_type": "code",
   "execution_count": 4,
   "id": "1894c0eb",
   "metadata": {},
   "outputs": [],
   "source": [
    "adata.obs[\"annotation_Atlas_level0\"] = adata.obs[\"annotation_Atlas_level1\"]\n",
    "\n",
    "Rename_cluster = {\n",
    "'TAL': \"TAL_MD\", 'CD_PC': \"DCT_CNT_CD\", 'DCT_CNT': \"DCT_CNT_CD\", 'PTS1_PTS2': \"PT\", \n",
    "'CD_Pap': \"DCT_CNT_CD\", 'ICA': \"IC\", 'EC': \"EC\", 'DCT': \"DCT_CNT_CD\", 'Stromal': \"Stromal\", \n",
    "'injPT': \"PT\", 'ICB': \"IC\", 'CNT': \"DCT_CNT_CD\", 'Immune': \"Immune\", 'PEC': \"PEC\", \n",
    "'DTL_ATL': \"DTL_ATL\", 'PTS3': \"PT\", 'Podo': \"Podo\", 'PT_prolif': \"prolif_Tubule\",\n",
    "}\n",
    "adata.obs['annotation_Atlas_level0'] = adata.obs['annotation_Atlas_level0'].replace(Rename_cluster).astype('category')\n",
    "\n"
   ]
  },
  {
   "cell_type": "code",
   "execution_count": 5,
   "id": "0ce75e8c",
   "metadata": {},
   "outputs": [],
   "source": [
    "adata.write(\"Atlas6.3_3000HVG_integrated_V2.h5ad\")"
   ]
  },
  {
   "cell_type": "code",
   "execution_count": null,
   "id": "219d362a",
   "metadata": {},
   "outputs": [],
   "source": [
    "#subclustering: \n",
    "\n",
    "\n",
    "#subset clusters of interest \n",
    "path_subset = '.../Atlas/Cellnames/Atlas6/Atlas6.3_subset_PT_TAL'\n",
    "clusters_subset = [\"PTS1\", \"PTS2\", \"CTAL\", \"PTS3\", \"prolif_PT\", \"injPT\", \"MTAL\", \"MD\"]\n",
    "adata_subset = adata[adata.obs['annotation_Atlas_level3'].isin(clusters_subset),:] \n",
    "sc.pl.umap(adata_subset, color=['annotation_Atlas_level3'], legend_loc='on data')\n",
    "\n",
    "cell_names = adata_subset.obs_names\n",
    "df = pd.DataFrame(cell_names)\n",
    "df.to_csv(path_subset, columns=[0], header=True)"
   ]
  },
  {
   "cell_type": "code",
   "execution_count": null,
   "id": "0d4be1d6",
   "metadata": {},
   "outputs": [],
   "source": [
    "#subclustering: \n",
    "\n",
    "\n",
    "#subset clusters of interest \n",
    "path_subset = '.../Atlas/Cellnames/Atlas6/Atlas6.3_subset_DTL_ATL_injuredPT'\n",
    "clusters_subset = [\"prolif_PT\", \"injPT\", \"DTL\", \"ATL\"]\n",
    "adata_subset = adata[adata.obs['annotation_Atlas_level3'].isin(clusters_subset),:] \n",
    "sc.pl.umap(adata_subset, color=['annotation_Atlas_level3'], legend_loc='on data')\n",
    "\n",
    "cell_names = adata_subset.obs_names\n",
    "df = pd.DataFrame(cell_names)\n",
    "df.to_csv(path_subset, columns=[0], header=True)"
   ]
  },
  {
   "cell_type": "code",
   "execution_count": 3,
   "id": "5d663278",
   "metadata": {},
   "outputs": [],
   "source": [
    "adata_I = adata[adata.obs.annotation_Atlas_level3 == \"Immune\"]\n",
    "adata_S = adata[adata.obs.annotation_Atlas_level3 == \"Stromal\"]\n",
    "list_cluster = [\"EC\", \"PT_prolif_unknown_EBF1\"]\n",
    "adata_E = adata[adata.obs.annotation_Atlas_level3.isin(list_cluster)]"
   ]
  },
  {
   "cell_type": "code",
   "execution_count": 5,
   "id": "6dd9dde3",
   "metadata": {},
   "outputs": [],
   "source": [
    "sc.pp.neighbors(adata_I, n_pcs=30, use_rep=\"X_scVI\", random_state=seed)\n",
    "sc.tl.umap(adata_I, min_dist=0.3, random_state=seed)"
   ]
  },
  {
   "cell_type": "code",
   "execution_count": 6,
   "id": "3ecd47f9",
   "metadata": {},
   "outputs": [],
   "source": [
    "sc.pp.neighbors(adata_S, n_pcs=30, use_rep=\"X_scVI\", random_state=seed)\n",
    "sc.tl.umap(adata_S, min_dist=0.3, random_state=seed)"
   ]
  },
  {
   "cell_type": "code",
   "execution_count": 7,
   "id": "10dd7b1c",
   "metadata": {},
   "outputs": [],
   "source": [
    "sc.pp.neighbors(adata_E, n_pcs=30, use_rep=\"X_scVI\", random_state=seed)\n",
    "sc.tl.umap(adata_E, min_dist=0.3, random_state=seed)"
   ]
  },
  {
   "cell_type": "code",
   "execution_count": null,
   "id": "de3dcf54",
   "metadata": {},
   "outputs": [],
   "source": [
    "sc.set_figure_params(figsize=(5,5))\n",
    "sc.pl.umap(adata_I, color=['annotation_Atlas_level3'], legend_loc='on data')\n",
    "sc.pl.umap(adata_S, color=['annotation_Atlas_level3'], legend_loc='on data')\n",
    "sc.pl.umap(adata_E, color=['annotation_Atlas_level3'], legend_loc='on data')"
   ]
  },
  {
   "cell_type": "code",
   "execution_count": null,
   "id": "b242c529",
   "metadata": {},
   "outputs": [],
   "source": [
    "sc.pl.umap(adata_I, color=['percent_mt'])\n",
    "sc.pl.umap(adata_S, color=['percent_mt'])\n",
    "sc.pl.umap(adata_E, color=['percent_mt'])\n",
    "sc.pl.umap(adata_I, color=['nCount_RNA'])\n",
    "sc.pl.umap(adata_S, color=['nCount_RNA'])\n",
    "sc.pl.umap(adata_E, color=['nCount_RNA'])"
   ]
  },
  {
   "cell_type": "code",
   "execution_count": 15,
   "id": "b863e5fa",
   "metadata": {},
   "outputs": [],
   "source": [
    "marker_gene_list = [\"SLC5A2\", \"SLC5A12\", \"SLC4A4\", \"SLC22A6\", \"SLC13A2\", \"PCK1\", \"SLC7A13\", \"SLC23A1\", \"ACSS2\", \"CREB5\", \"CDH6\", \"TOP2A\", \n",
    "\"DTL\", \"FLT1\", \"PTPRB\", \"DOCK2\", \"PRKCB\", \"CD53\", \"NPHS1\", \"NPHS2\", \"WT1\", \"ALDH1A2\", \"FAM189A1\", \"COL12A1\", \"LAMA2\", \"MEIS1\",\n",
    "\"EHF\", \"GRIP1\", \"PROX1\", \"BCL6\", \"ANK2\", \"EPHA7\", \"JAG1\", \"SLC4A11\", \"AQP2\", \"SCNN1G\", \"SCNN1B\", \"TMEM178A\", \"ADAMTS16\",\n",
    "\"SLC12A1\", \"TMEM207\", \"UMOD\", \"ERBB4\", \"NOS1\", \"ENOX1\", \"LHX1\", \"TRPM7\", \"SLC12A3\", \"TRPM6\", \"KL\", \"WNK1\", \"CNNM2\", \"CALB1\", \"SLC8A1\",\n",
    "\"IRS1\", \"SLC4A9\", \"PDE1C\", \"SUSD1\", \"SLC4A1\", \"SLC26A7\", \"KIT\"]"
   ]
  },
  {
   "cell_type": "code",
   "execution_count": null,
   "id": "7c7b5c01",
   "metadata": {},
   "outputs": [],
   "source": [
    "sc.pl.umap(adata_I, color=marker_gene_list)"
   ]
  },
  {
   "cell_type": "code",
   "execution_count": null,
   "id": "00bc68b8",
   "metadata": {},
   "outputs": [],
   "source": [
    "sc.pl.umap(adata_E, color=marker_gene_list)"
   ]
  },
  {
   "cell_type": "code",
   "execution_count": null,
   "id": "cc7a5331",
   "metadata": {},
   "outputs": [],
   "source": [
    "sc.pl.umap(adata_S, color=marker_gene_list)"
   ]
  },
  {
   "cell_type": "code",
   "execution_count": 19,
   "id": "ffbd8adb",
   "metadata": {},
   "outputs": [],
   "source": [
    "sc.tl.leiden(adata_I, key_added=\"leiden_scVI_0_1\", resolution=0.1, random_state=seed)\n",
    "sc.tl.leiden(adata_I, key_added=\"leiden_scVI_0_3\", resolution=0.3, random_state=seed)\n",
    "sc.tl.leiden(adata_I, key_added=\"leiden_scVI_0_5\", resolution=0.5, random_state=seed)\n",
    "sc.tl.leiden(adata_I, key_added=\"leiden_scVI_0_7\", resolution=0.7, random_state=seed)\n",
    "sc.tl.leiden(adata_I, key_added=\"leiden_scVI_1_0\", resolution=1.0, random_state=seed)"
   ]
  },
  {
   "cell_type": "code",
   "execution_count": 20,
   "id": "7ac83b52",
   "metadata": {},
   "outputs": [],
   "source": [
    "sc.tl.leiden(adata_I, key_added=\"leiden_scVI_1_5\", resolution=1.5, random_state=seed)\n",
    "sc.tl.leiden(adata_I, key_added=\"leiden_scVI_2_0\", resolution=2.0, random_state=seed)"
   ]
  },
  {
   "cell_type": "code",
   "execution_count": 21,
   "id": "3845a3c2",
   "metadata": {},
   "outputs": [],
   "source": [
    "sc.tl.leiden(adata_S, key_added=\"leiden_scVI_0_1\", resolution=0.1, random_state=seed)\n",
    "sc.tl.leiden(adata_S, key_added=\"leiden_scVI_0_3\", resolution=0.3, random_state=seed)\n",
    "sc.tl.leiden(adata_S, key_added=\"leiden_scVI_0_5\", resolution=0.5, random_state=seed)\n",
    "sc.tl.leiden(adata_S, key_added=\"leiden_scVI_0_7\", resolution=0.7, random_state=seed)\n",
    "sc.tl.leiden(adata_S, key_added=\"leiden_scVI_1_0\", resolution=1.0, random_state=seed)"
   ]
  },
  {
   "cell_type": "code",
   "execution_count": 22,
   "id": "d15751a4",
   "metadata": {},
   "outputs": [],
   "source": [
    "sc.tl.leiden(adata_S, key_added=\"leiden_scVI_1_5\", resolution=1.5, random_state=seed)\n",
    "sc.tl.leiden(adata_S, key_added=\"leiden_scVI_2_0\", resolution=2.0, random_state=seed)"
   ]
  },
  {
   "cell_type": "code",
   "execution_count": 23,
   "id": "0bdcdea6",
   "metadata": {},
   "outputs": [],
   "source": [
    "sc.tl.leiden(adata_E, key_added=\"leiden_scVI_0_1\", resolution=0.1, random_state=seed)\n",
    "sc.tl.leiden(adata_E, key_added=\"leiden_scVI_0_3\", resolution=0.3, random_state=seed)\n",
    "sc.tl.leiden(adata_E, key_added=\"leiden_scVI_0_5\", resolution=0.5, random_state=seed)\n",
    "sc.tl.leiden(adata_E, key_added=\"leiden_scVI_0_7\", resolution=0.7, random_state=seed)\n",
    "sc.tl.leiden(adata_E, key_added=\"leiden_scVI_1_0\", resolution=1.0, random_state=seed)"
   ]
  },
  {
   "cell_type": "code",
   "execution_count": 24,
   "id": "9ba3b3fb",
   "metadata": {},
   "outputs": [],
   "source": [
    "sc.tl.leiden(adata_E, key_added=\"leiden_scVI_1_5\", resolution=1.5, random_state=seed)\n",
    "sc.tl.leiden(adata_E, key_added=\"leiden_scVI_2_0\", resolution=2.0, random_state=seed)"
   ]
  },
  {
   "cell_type": "code",
   "execution_count": 25,
   "id": "a0081ce7",
   "metadata": {},
   "outputs": [],
   "source": [
    "sc.tl.leiden(adata_E, key_added=\"leiden_scVI_3_0\", resolution=3.0, random_state=seed)"
   ]
  },
  {
   "cell_type": "code",
   "execution_count": null,
   "id": "69d035db",
   "metadata": {},
   "outputs": [],
   "source": [
    "sc.pl.umap(adata_I, color=['leiden_scVI_0_1'], legend_loc='on data')\n",
    "sc.pl.umap(adata_I, color=['leiden_scVI_0_3'], legend_loc='on data')\n",
    "sc.pl.umap(adata_I, color=['leiden_scVI_0_5'], legend_loc='on data')\n",
    "sc.pl.umap(adata_I, color=['leiden_scVI_0_7'], legend_loc='on data')\n",
    "sc.pl.umap(adata_I, color=['leiden_scVI_1_0'], legend_loc='on data')\n",
    "sc.pl.umap(adata_I, color=['leiden_scVI_1_5'], legend_loc='on data')\n",
    "sc.pl.umap(adata_I, color=['leiden_scVI_2_0'], legend_loc='on data')"
   ]
  },
  {
   "cell_type": "code",
   "execution_count": null,
   "id": "d780c175",
   "metadata": {
    "scrolled": true
   },
   "outputs": [],
   "source": [
    "sc.pl.umap(adata_S, color=['leiden_scVI_0_1'], legend_loc='on data')\n",
    "sc.pl.umap(adata_S, color=['leiden_scVI_0_3'], legend_loc='on data')\n",
    "sc.pl.umap(adata_S, color=['leiden_scVI_0_5'], legend_loc='on data')\n",
    "sc.pl.umap(adata_S, color=['leiden_scVI_0_7'], legend_loc='on data')\n",
    "sc.pl.umap(adata_S, color=['leiden_scVI_1_0'], legend_loc='on data')\n",
    "sc.pl.umap(adata_S, color=['leiden_scVI_1_5'], legend_loc='on data')\n",
    "sc.pl.umap(adata_S, color=['leiden_scVI_2_0'], legend_loc='on data')"
   ]
  },
  {
   "cell_type": "code",
   "execution_count": null,
   "id": "6502afa4",
   "metadata": {},
   "outputs": [],
   "source": [
    "sc.pl.umap(adata_E, color=['leiden_scVI_0_1'], legend_loc='on data')\n",
    "sc.pl.umap(adata_E, color=['leiden_scVI_0_3'], legend_loc='on data')\n",
    "sc.pl.umap(adata_E, color=['leiden_scVI_0_5'], legend_loc='on data')\n",
    "sc.pl.umap(adata_E, color=['leiden_scVI_0_7'], legend_loc='on data')\n",
    "sc.pl.umap(adata_E, color=['leiden_scVI_1_0'], legend_loc='on data')\n",
    "sc.pl.umap(adata_E, color=['leiden_scVI_1_5'], legend_loc='on data')\n",
    "sc.pl.umap(adata_E, color=['leiden_scVI_2_0'], legend_loc='on data')"
   ]
  },
  {
   "cell_type": "code",
   "execution_count": null,
   "id": "c1e1b367",
   "metadata": {},
   "outputs": [],
   "source": [
    "sc.pl.dotplot(\n",
    "adata_E,\n",
    "marker_gene_list,\n",
    "groupby='leiden_scVI_2_0',\n",
    "dendrogram=True,\n",
    "color_map=\"Blues\",\n",
    "swap_axes=False,\n",
    "standard_scale=\"var\",\n",
    ")"
   ]
  },
  {
   "cell_type": "code",
   "execution_count": null,
   "id": "2b578af5",
   "metadata": {},
   "outputs": [],
   "source": [
    "sc.pl.dotplot(\n",
    "adata_E,\n",
    "marker_gene_list,\n",
    "groupby='leiden_scVI_2_0',\n",
    "dendrogram=True,\n",
    "color_map=\"Blues\",\n",
    "swap_axes=False,\n",
    "standard_scale=\"var\",\n",
    ")"
   ]
  },
  {
   "cell_type": "code",
   "execution_count": null,
   "id": "5396a251",
   "metadata": {},
   "outputs": [],
   "source": [
    "##remove clusters\n",
    "clusters_remove=[\"20\", \"24\", \"14\", \"25\", \"21\"]\n",
    "\n",
    "adata_E2 = adata_E[~adata_E.obs['leiden_scVI_2_0'].isin(clusters_remove),:]\n",
    "sc.pl.umap(adata_E2, color=\"leiden_scVI_2_0\")"
   ]
  },
  {
   "cell_type": "code",
   "execution_count": 36,
   "id": "e883131d",
   "metadata": {},
   "outputs": [],
   "source": [
    "sc.tl.leiden(adata_E2, key_added=\"leiden_scVI_0_1\", resolution=0.1, random_state=seed)\n",
    "sc.tl.leiden(adata_E2, key_added=\"leiden_scVI_0_3\", resolution=0.3, random_state=seed)\n",
    "sc.tl.leiden(adata_E2, key_added=\"leiden_scVI_0_5\", resolution=0.5, random_state=seed)\n",
    "sc.tl.leiden(adata_E2, key_added=\"leiden_scVI_0_7\", resolution=0.7, random_state=seed)\n",
    "sc.tl.leiden(adata_E2, key_added=\"leiden_scVI_1_0\", resolution=1.0, random_state=seed)"
   ]
  },
  {
   "cell_type": "code",
   "execution_count": null,
   "id": "801fcbdb",
   "metadata": {},
   "outputs": [],
   "source": [
    "sc.pl.umap(adata_E2, color=['leiden_scVI_0_1'], legend_loc='on data')\n",
    "sc.pl.umap(adata_E2, color=['leiden_scVI_0_3'], legend_loc='on data')\n",
    "sc.pl.umap(adata_E2, color=['leiden_scVI_0_5'], legend_loc='on data')\n",
    "sc.pl.umap(adata_E2, color=['leiden_scVI_0_7'], legend_loc='on data')\n",
    "sc.pl.umap(adata_E2, color=['leiden_scVI_1_0'], legend_loc='on data')"
   ]
  },
  {
   "cell_type": "code",
   "execution_count": null,
   "id": "2ae48cc7",
   "metadata": {},
   "outputs": [],
   "source": [
    "sc.pl.dotplot(\n",
    "adata_I,\n",
    "marker_gene_list,\n",
    "groupby='leiden_scVI_2_0',\n",
    "dendrogram=True,\n",
    "color_map=\"Blues\",\n",
    "swap_axes=False,\n",
    "standard_scale=\"var\",\n",
    ")"
   ]
  },
  {
   "cell_type": "code",
   "execution_count": null,
   "id": "3fb656b7",
   "metadata": {},
   "outputs": [],
   "source": [
    "##remove clusters\n",
    "clusters_remove=['11', \"26\", \"24\", \"14\", \"22\", \"20\", \"16\", \"28\", \"19\", \"29\", \"3\", \"4\", \"12\", \"25\", \"30\"]\n",
    "\n",
    "adata_I2 = adata_I[~adata_I.obs['leiden_scVI_2_0'].isin(clusters_remove),:]\n",
    "sc.pl.umap(adata_I2, color=\"leiden_scVI_2_0\")"
   ]
  },
  {
   "cell_type": "code",
   "execution_count": null,
   "id": "53cac9fc",
   "metadata": {},
   "outputs": [],
   "source": [
    "sc.tl.leiden(adata_I2, key_added=\"leiden_scVI_0_1\", resolution=0.1, random_state=seed)\n",
    "sc.tl.leiden(adata_I2, key_added=\"leiden_scVI_0_3\", resolution=0.3, random_state=seed)\n",
    "sc.tl.leiden(adata_I2, key_added=\"leiden_scVI_0_5\", resolution=0.5, random_state=seed)\n",
    "sc.tl.leiden(adata_I2, key_added=\"leiden_scVI_0_7\", resolution=0.7, random_state=seed)\n",
    "sc.tl.leiden(adata_I2, key_added=\"leiden_scVI_1_0\", resolution=1.0, random_state=seed)"
   ]
  },
  {
   "cell_type": "code",
   "execution_count": null,
   "id": "97e35560",
   "metadata": {
    "scrolled": false
   },
   "outputs": [],
   "source": [
    "sc.pl.umap(adata_I2, color=['leiden_scVI_0_1'], legend_loc='on data')\n",
    "sc.pl.umap(adata_I2, color=['leiden_scVI_0_3'], legend_loc='on data')\n",
    "sc.pl.umap(adata_I2, color=['leiden_scVI_0_5'], legend_loc='on data')\n",
    "sc.pl.umap(adata_I2, color=['leiden_scVI_0_7'], legend_loc='on data')\n",
    "sc.pl.umap(adata_I2, color=['leiden_scVI_1_0'], legend_loc='on data')"
   ]
  },
  {
   "cell_type": "code",
   "execution_count": null,
   "id": "e8099873",
   "metadata": {},
   "outputs": [],
   "source": [
    "sc.pl.dotplot(\n",
    "adata_S,\n",
    "marker_gene_list,\n",
    "groupby='leiden_scVI_2_0',\n",
    "dendrogram=True,\n",
    "color_map=\"Blues\",\n",
    "swap_axes=False,\n",
    "standard_scale=\"var\",\n",
    ")"
   ]
  },
  {
   "cell_type": "code",
   "execution_count": null,
   "id": "ce3e9cfa",
   "metadata": {},
   "outputs": [],
   "source": [
    "##remove clusters - not removing too many cells here - epitelial/mesench transition!\n",
    "clusters_remove=[\"26\"]\n",
    "\n",
    "adata_S2 = adata_S[~adata_S.obs['leiden_scVI_2_0'].isin(clusters_remove),:]\n",
    "sc.pl.umap(adata_S2, color=\"leiden_scVI_2_0\")"
   ]
  },
  {
   "cell_type": "code",
   "execution_count": null,
   "id": "e7887251",
   "metadata": {},
   "outputs": [],
   "source": [
    "sc.tl.leiden(adata_S2, key_added=\"leiden_scVI_0_1\", resolution=0.1, random_state=seed)\n",
    "sc.tl.leiden(adata_S2, key_added=\"leiden_scVI_0_3\", resolution=0.3, random_state=seed)\n",
    "sc.tl.leiden(adata_S2, key_added=\"leiden_scVI_0_5\", resolution=0.5, random_state=seed)\n",
    "sc.tl.leiden(adata_S2, key_added=\"leiden_scVI_0_7\", resolution=0.7, random_state=seed)\n",
    "sc.tl.leiden(adata_S2, key_added=\"leiden_scVI_1_0\", resolution=1.0, random_state=seed)"
   ]
  },
  {
   "cell_type": "code",
   "execution_count": null,
   "id": "487e5353",
   "metadata": {},
   "outputs": [],
   "source": [
    "sc.pl.umap(adata_S2, color=['leiden_scVI_0_1'], legend_loc='on data')\n",
    "sc.pl.umap(adata_S2, color=['leiden_scVI_0_3'], legend_loc='on data')\n",
    "sc.pl.umap(adata_S2, color=['leiden_scVI_0_5'], legend_loc='on data')\n",
    "sc.pl.umap(adata_S2, color=['leiden_scVI_0_7'], legend_loc='on data')\n",
    "sc.pl.umap(adata_S2, color=['leiden_scVI_1_0'], legend_loc='on data')"
   ]
  },
  {
   "cell_type": "code",
   "execution_count": 46,
   "id": "2c2b37eb",
   "metadata": {},
   "outputs": [],
   "source": [
    "#group and rename\n",
    "\n",
    "adata_I2.obs['transfer']=adata_I2.obs.leiden_scVI_0_7\n",
    "Rename_cluster = {\n",
    "\"0\": 'Lymph_1',\n",
    "\"1\": 'Myeloid_1',\n",
    "\"2\": 'Myeloid_2',\n",
    "\"3\": 'B',\n",
    "\"4\": 'Myeloid_3',\n",
    "\"5\": 'Myeloid_4',\n",
    "\"6\": 'Lymph_2',\n",
    "\"7\": 'Myeloid_5',\n",
    "\"8\": 'Myeloid_prolif',\n",
    "\"9\": 'Plasma',\n",
    "\"10\": 'Myeloid_6',\n",
    "\"11\": 'Lymph_prolif',\n",
    "}\n",
    "adata_I2.obs['transfer'] = adata_I2.obs['transfer'].replace(Rename_cluster).astype('category')\n",
    "\n"
   ]
  },
  {
   "cell_type": "code",
   "execution_count": 47,
   "id": "d228fd0e",
   "metadata": {},
   "outputs": [],
   "source": [
    "#group and rename\n",
    "\n",
    "adata_E2.obs['transfer']=adata_E2.obs.leiden_scVI_0_3\n",
    "Rename_cluster = {\n",
    "\"0\": 'EC1',\n",
    "\"1\": 'EC2',\n",
    "\"2\": 'EC3',\n",
    "\"3\": 'EC4',\n",
    "\"4\": 'EC5',\n",
    "\"5\": 'EC6',\n",
    "\"6\": 'EC7',\n",
    "}\n",
    "adata_E2.obs['transfer'] = adata_E2.obs['transfer'].replace(Rename_cluster).astype('category')"
   ]
  },
  {
   "cell_type": "code",
   "execution_count": 48,
   "id": "423b0ba9",
   "metadata": {},
   "outputs": [],
   "source": [
    "#group and rename\n",
    "\n",
    "adata_S2.obs['transfer']=adata_S2.obs.leiden_scVI_0_7\n",
    "Rename_cluster = {\n",
    "\"0\": 'Str1',\n",
    "\"1\": 'Str2',\n",
    "\"2\": 'Str3',\n",
    "\"3\": 'Str4',\n",
    "\"4\": 'Str5',\n",
    "\"5\": 'Str6',\n",
    "\"6\": 'Str7',\n",
    "\"7\": 'Str8',\n",
    "\"8\": 'Str9',\n",
    "\"9\": 'Str10',\n",
    "\"10\": 'Str11',\n",
    "\"11\": 'Str12',\n",
    "\"12\": 'Str13',\n",
    "}\n",
    "adata_S2.obs['transfer'] = adata_S2.obs['transfer'].replace(Rename_cluster).astype('category')"
   ]
  },
  {
   "cell_type": "code",
   "execution_count": null,
   "id": "773c5b2f",
   "metadata": {},
   "outputs": [],
   "source": [
    "sc.pl.umap(adata_I2, color=\"transfer\", legend_loc = \"on data\")\n",
    "sc.pl.umap(adata_E2, color=\"transfer\", legend_loc = \"on data\")\n",
    "sc.pl.umap(adata_S2, color=\"transfer\", legend_loc = \"on data\")"
   ]
  },
  {
   "cell_type": "code",
   "execution_count": null,
   "id": "718ca0ae",
   "metadata": {},
   "outputs": [],
   "source": [
    "adata.obs[\"annotation_Atlas_level4\"] = adata.obs[\"annotation_Atlas_level3\"]\n",
    "adata"
   ]
  },
  {
   "cell_type": "code",
   "execution_count": 97,
   "id": "af8d9f9b",
   "metadata": {},
   "outputs": [],
   "source": [
    "adata.obs[\"transfer\"] = adata_I2.obs.transfer"
   ]
  },
  {
   "cell_type": "code",
   "execution_count": 98,
   "id": "d2a89b79",
   "metadata": {},
   "outputs": [],
   "source": [
    "categs = ['Myeloid_1', 'Myeloid_2', 'B', 'Lymph_1', \n",
    "          'Myeloid_5', 'Myeloid_prolif', 'Myeloid_3', \n",
    "          'Myeloid_4', 'Myeloid_6', 'Lymph_prolif', 'Lymph_2', 'Plasma']\n",
    "\n",
    "\n",
    "adata.obs.annotation_Atlas_level4.cat.add_categories(categs, inplace=True)\n",
    "\n",
    "\n",
    "for i in range(len(categs)):\n",
    "    # Create a mask indicating which cells have leiden resolution 2 equal to \"\"\n",
    "    mask = adata.obs['transfer'] == categs[i]\n",
    "\n",
    "    # Update the annotation for cells with leiden resolution 2\n",
    "    adata.obs.loc[mask, 'annotation_Atlas_level4'] = categs[i]"
   ]
  },
  {
   "cell_type": "code",
   "execution_count": 100,
   "id": "6f030e20",
   "metadata": {},
   "outputs": [],
   "source": [
    "del adata.obs[\"transfer\"]\n",
    "\n",
    "adata.obs[\"transfer\"] = adata_E2.obs.transfer\n",
    "\n",
    "categs = ['EC2', 'EC1', 'EC4', 'EC5', 'EC6', 'EC3', 'EC7']\n",
    "\n",
    "\n",
    "adata.obs.annotation_Atlas_level4.cat.add_categories(categs, inplace=True)\n",
    "\n",
    "\n",
    "for i in range(len(categs)):\n",
    "    # Create a mask indicating which cells have leiden resolution 2 equal to \"\"\n",
    "    mask = adata.obs['transfer'] == categs[i]\n",
    "\n",
    "    # Update the annotation for cells with leiden resolution 2\n",
    "    adata.obs.loc[mask, 'annotation_Atlas_level4'] = categs[i]"
   ]
  },
  {
   "cell_type": "code",
   "execution_count": 105,
   "id": "a534a44a",
   "metadata": {},
   "outputs": [],
   "source": [
    "del adata.obs[\"transfer\"]\n",
    "\n",
    "adata.obs[\"transfer\"] = adata_S2.obs.transfer\n",
    "\n",
    "categs = ['Str8', 'Str1', 'Str5', 'Str9', 'Str3', 'Str6', 'Str2', 'Str7', 'Str10', 'Str4', 'Str11', 'Str13', 'Str12']\n",
    "\n",
    "\n",
    "adata.obs.annotation_Atlas_level4.cat.add_categories(categs, inplace=True)\n",
    "\n",
    "\n",
    "for i in range(len(categs)):\n",
    "    # Create a mask indicating which cells have leiden resolution 2 equal to \"\"\n",
    "    mask = adata.obs['transfer'] == categs[i]\n",
    "\n",
    "    # Update the annotation for cells with leiden resolution 2\n",
    "    adata.obs.loc[mask, 'annotation_Atlas_level4'] = categs[i]\n",
    "\n"
   ]
  },
  {
   "cell_type": "code",
   "execution_count": null,
   "id": "711b2e6c",
   "metadata": {},
   "outputs": [],
   "source": [
    "##remove clusters (clusters removed in subsets are cells that were removed)\n",
    "clusters_remove=['Immune', \"EC\", \"Stromal\", \"PT_prolif_unknown_EBF1\"]\n",
    "\n",
    "adata = adata[~adata.obs['annotation_Atlas_level4'].isin(clusters_remove),:]\n",
    "adata"
   ]
  },
  {
   "cell_type": "code",
   "execution_count": 116,
   "id": "c2cd329a",
   "metadata": {},
   "outputs": [],
   "source": [
    "#finally save adata again after cleaning \n",
    "\n",
    "adata.write('Atlas6.3_3000HVG_integrated_V2.h5ad')"
   ]
  }
 ],
 "metadata": {
  "kernelspec": {
   "display_name": "Python 3 (ipykernel)",
   "language": "python",
   "name": "python3"
  },
  "language_info": {
   "codemirror_mode": {
    "name": "ipython",
    "version": 3
   },
   "file_extension": ".py",
   "mimetype": "text/x-python",
   "name": "python",
   "nbconvert_exporter": "python",
   "pygments_lexer": "ipython3",
   "version": "3.9.1"
  }
 },
 "nbformat": 4,
 "nbformat_minor": 5
}
