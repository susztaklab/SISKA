{
 "cells": [
  {
   "cell_type": "code",
   "execution_count": 1,
   "id": "196fd4da",
   "metadata": {},
   "outputs": [
    {
     "name": "stderr",
     "output_type": "stream",
     "text": [
      "Global seed set to 0\n"
     ]
    },
    {
     "name": "stdout",
     "output_type": "stream",
     "text": [
      "-----\n",
      "anndata     0.8.0\n",
      "scanpy      1.9.1\n",
      "-----\n",
      "PIL                 9.2.0\n",
      "absl                NA\n",
      "asttokens           NA\n",
      "attr                22.1.0\n",
      "backcall            0.2.0\n",
      "bottleneck          1.3.5\n",
      "cffi                1.15.1\n",
      "chex                0.1.5\n",
      "colorama            0.4.5\n",
      "cycler              0.10.0\n",
      "cython_runtime      NA\n",
      "dateutil            2.8.2\n",
      "debugpy             1.6.3\n",
      "decorator           4.4.2\n",
      "defusedxml          0.7.1\n",
      "deprecate           0.3.2\n",
      "docrep              0.3.2\n",
      "entrypoints         0.4\n",
      "etils               0.8.0\n",
      "executing           1.0.0\n",
      "flax                0.6.0\n",
      "fsspec              2022.8.2\n",
      "google              NA\n",
      "h5py                3.7.0\n",
      "igraph              0.9.11\n",
      "ipykernel           6.15.3\n",
      "ipython_genutils    0.2.0\n",
      "ipywidgets          8.0.2\n",
      "jax                 0.3.17\n",
      "jaxlib              0.3.15\n",
      "jedi                0.18.0\n",
      "joblib              1.2.0\n",
      "jupyter_server      2.0.4\n",
      "kiwisolver          1.4.4\n",
      "leidenalg           0.8.10\n",
      "llvmlite            0.39.1\n",
      "louvain             0.8.0\n",
      "matplotlib          3.6.0\n",
      "mpl_toolkits        NA\n",
      "msgpack             1.0.4\n",
      "mudata              0.2.0\n",
      "multipledispatch    0.6.0\n",
      "natsort             8.2.0\n",
      "numba               0.56.2\n",
      "numpy               1.23.2\n",
      "numpyro             0.10.1\n",
      "opt_einsum          v3.3.0\n",
      "optax               0.1.3\n",
      "packaging           21.3\n",
      "pandas              1.5.3\n",
      "parso               0.8.1\n",
      "pexpect             4.8.0\n",
      "pickleshare         0.7.5\n",
      "pkg_resources       NA\n",
      "platformdirs        2.6.2\n",
      "prompt_toolkit      3.0.16\n",
      "psutil              5.9.2\n",
      "ptyprocess          0.7.0\n",
      "pure_eval           0.2.2\n",
      "pydev_ipython       NA\n",
      "pydevconsole        NA\n",
      "pydevd              2.8.0\n",
      "pydevd_file_utils   NA\n",
      "pydevd_plugins      NA\n",
      "pydevd_tracing      NA\n",
      "pyexpat             NA\n",
      "pygments            2.13.0\n",
      "pyparsing           3.0.9\n",
      "pyro                1.8.2\n",
      "pytorch_lightning   1.6.5\n",
      "pytz                2021.1\n",
      "rich                NA\n",
      "scipy               1.10.0\n",
      "scvi                0.17.3\n",
      "session_info        1.0.0\n",
      "six                 1.15.0\n",
      "sklearn             1.2.1\n",
      "sphinxcontrib       NA\n",
      "stack_data          0.5.0\n",
      "tensorboard         2.10.0\n",
      "texttable           1.6.4\n",
      "threadpoolctl       3.1.0\n",
      "toolz               0.12.0\n",
      "torch               1.12.1+cu102\n",
      "torchmetrics        0.9.3\n",
      "tornado             6.2\n",
      "tqdm                4.64.1\n",
      "traitlets           5.4.0\n",
      "tree                0.1.7\n",
      "typing_extensions   NA\n",
      "virtualenvwrapper   NA\n",
      "wcwidth             0.2.5\n",
      "wrapt               1.14.1\n",
      "yaml                6.0\n",
      "zmq                 24.0.0\n",
      "-----\n",
      "IPython             8.5.0\n",
      "jupyter_client      7.3.5\n",
      "jupyter_core        5.1.0\n",
      "jupyterlab          3.5.2\n",
      "notebook            6.4.12\n",
      "-----\n",
      "Python 3.9.1 (default, Feb 11 2021, 12:28:03) [GCC 4.8.5 20150623 (Red Hat 4.8.5-39)]\n",
      "Linux-3.10.0-1160.76.1.el7.x86_64-x86_64-with-glibc2.17\n",
      "-----\n",
      "Session information updated at 2023-03-16 13:44\n"
     ]
    }
   ],
   "source": [
    "import sys\n",
    "import pandas as pd\n",
    "import numpy as np\n",
    "import matplotlib.pyplot as plt\n",
    "import anndata\n",
    "import scvi\n",
    "import scanpy as sc\n",
    "import matplotlib\n",
    "import csv\n",
    "import os\n",
    "seed=10\n",
    "os.chdir(\".../Atlas/objects\")\n",
    "sc.logging.print_versions()"
   ]
  },
  {
   "cell_type": "code",
   "execution_count": null,
   "id": "16174bbd",
   "metadata": {},
   "outputs": [],
   "source": [
    "adata = sc.read(\"Atlas6.4_3000HVG_integrated_V2.h5ad\")\n",
    "adata"
   ]
  },
  {
   "cell_type": "code",
   "execution_count": null,
   "id": "76d3f10a",
   "metadata": {},
   "outputs": [],
   "source": [
    "model = scvi.model.SCVI.load(\".../Atlas/Models/Model_Atlas6.1_V2\", adata=adata, use_gpu=False)"
   ]
  },
  {
   "cell_type": "code",
   "execution_count": 7,
   "id": "c887e30b",
   "metadata": {},
   "outputs": [],
   "source": [
    "\n",
    "clusters = [\"DCT_CNT_CD\"]\n",
    "\n",
    "sc.tl.leiden(adata, resolution=1, restrict_to=(\"annotation_final_level1\", clusters), random_state=0, key_added='leiden_restrict_DCT_CNT_CD')\n",
    "\n",
    "\n",
    "\n"
   ]
  },
  {
   "cell_type": "code",
   "execution_count": null,
   "id": "d8b239b4",
   "metadata": {},
   "outputs": [],
   "source": [
    "sc.set_figure_params(figsize=(5,5))\n",
    "sc.pl.umap(adata, color = \"leiden_restrict_DCT_CNT_CD\")\n",
    "sc.set_figure_params(figsize=(10,10))\n",
    "sc.pl.umap(adata, color = \"leiden_restrict_DCT_CNT_CD\", legend_loc = \"on data\")"
   ]
  },
  {
   "cell_type": "code",
   "execution_count": null,
   "id": "f386bf55",
   "metadata": {},
   "outputs": [],
   "source": [
    "#set clustering of interest\n",
    "adata.obs['leiden'] = adata.obs['leiden_restrict_DCT_CNT_CD']\n",
    "#get marker genes\n",
    "de_df = model.differential_expression(\n",
    "    groupby=\"leiden\")\n",
    "de_df.head()\n",
    "markers = {}\n",
    "cats = adata.obs.leiden.cat.categories\n",
    "for i, c in enumerate(cats):\n",
    "    cid = \"{} vs Rest\".format(c)\n",
    "    leiden_scVI_df = de_df.loc[de_df.comparison == cid]\n",
    "    leiden_scVI_df = leiden_scVI_df[leiden_scVI_df.lfc_mean > 0]\n",
    "    leiden_scVI_df = leiden_scVI_df[leiden_scVI_df[\"bayes_factor\"] > 3]\n",
    "    leiden_scVI_df = leiden_scVI_df[leiden_scVI_df[\"non_zeros_proportion1\"] > 0.1]\n",
    "    leiden_scVI_df = leiden_scVI_df[leiden_scVI_df[\"lfc_mean\"] > 0.75]\n",
    "    markers[c] = leiden_scVI_df.index.tolist()[:3]\n",
    "    sc.tl.dendrogram(adata, groupby=\"leiden\", use_rep=\"X_scVI\")\n",
    "    sc.pl.dotplot(\n",
    "    adata,\n",
    "    markers,\n",
    "    groupby='leiden',\n",
    "    dendrogram=True,\n",
    "    color_map=\"Blues\",\n",
    "    swap_axes=True,\n",
    "    use_raw=True,\n",
    "    standard_scale=\"var\",\n",
    ")"
   ]
  },
  {
   "cell_type": "code",
   "execution_count": null,
   "id": "2969334c",
   "metadata": {},
   "outputs": [],
   "source": [
    "#set clustering of interest\n",
    "adata.obs['leiden'] = adata.obs['leiden_restrict_TAL_MD']\n",
    "#get marker genes\n",
    "de_df = model.differential_expression(\n",
    "    groupby=\"leiden\")\n",
    "de_df.head()\n",
    "markers = {}\n",
    "cats = adata.obs.leiden.cat.categories\n",
    "for i, c in enumerate(cats):\n",
    "    cid = \"{} vs Rest\".format(c)\n",
    "    leiden_scVI_df = de_df.loc[de_df.comparison == cid]\n",
    "    leiden_scVI_df = leiden_scVI_df[leiden_scVI_df.lfc_mean > 0]\n",
    "    leiden_scVI_df = leiden_scVI_df[leiden_scVI_df[\"bayes_factor\"] > 3]\n",
    "    leiden_scVI_df = leiden_scVI_df[leiden_scVI_df[\"non_zeros_proportion1\"] > 0.1]\n",
    "    leiden_scVI_df = leiden_scVI_df[leiden_scVI_df[\"lfc_mean\"] > 0.75]\n",
    "    markers[c] = leiden_scVI_df.index.tolist()[:3]\n",
    "    sc.tl.dendrogram(adata, groupby=\"leiden\", use_rep=\"X_scVI\")\n",
    "    sc.pl.dotplot(\n",
    "    adata,\n",
    "    markers,\n",
    "    groupby='leiden',\n",
    "    dendrogram=True,\n",
    "    color_map=\"Blues\",\n",
    "    swap_axes=True,\n",
    "    use_raw=True,\n",
    "    standard_scale=\"var\",\n",
    ")"
   ]
  },
  {
   "cell_type": "code",
   "execution_count": null,
   "id": "c34c0d04",
   "metadata": {},
   "outputs": [],
   "source": [
    "adata_stromal = adata[adata.obs.annotation_final_level1 == \"Stromal\"]\n",
    "\n",
    "sc.tl.dendrogram(adata_stromal, groupby=\"annotation_Atlas_level4\", use_rep=\"X_scVI\")\n"
   ]
  },
  {
   "cell_type": "code",
   "execution_count": null,
   "id": "87aebbfd",
   "metadata": {},
   "outputs": [],
   "source": [
    "sc.pl.dendrogram(adata_stromal, groupby = \"annotation_Atlas_level4\")"
   ]
  },
  {
   "cell_type": "code",
   "execution_count": null,
   "id": "735ee918",
   "metadata": {},
   "outputs": [],
   "source": [
    "adata_EC = adata[adata.obs.annotation_final_level1 == \"EC\"]\n",
    "\n",
    "sc.tl.dendrogram(adata_EC, groupby=\"annotation_Atlas_level4\", use_rep=\"X_scVI\")\n",
    "\n",
    "sc.pl.dendrogram(adata_EC, groupby = \"annotation_Atlas_level4\")"
   ]
  },
  {
   "cell_type": "code",
   "execution_count": null,
   "id": "eca04663",
   "metadata": {},
   "outputs": [],
   "source": [
    "adata_immune = adata[adata.obs.annotation_final_level1 == \"Immune\"]\n",
    "\n",
    "sc.tl.dendrogram(adata_immune, groupby=\"annotation_Atlas_level4\", use_rep=\"X_scVI\")\n",
    "\n",
    "sc.pl.dendrogram(adata_immune, groupby = \"annotation_Atlas_level4\")"
   ]
  },
  {
   "cell_type": "code",
   "execution_count": null,
   "id": "0a2f8a1b",
   "metadata": {},
   "outputs": [],
   "source": [
    "adata.obs[\"annotation_final_level2\"] = adata.obs[\"annotation_Atlas_level4\"]\n",
    "\n",
    "Rename_cluster = {\n",
    "    'CTAL': \"TAL\", 'CD_PC': \"CD_PC\", 'DCT_CNT': \"DCT2\", 'PTS1': \"PTS1\", 'CD_Pap': \"CD_Pap\", \n",
    "    'PTS2': \"PTS2\", 'ICA': \"ICA\", 'EC2': \"EC_Peritub\", 'DCT': \"DCT\", 'Str8': \"Fib2\", \n",
    "    'PTS3': \"PTS3\", 'ICB': \"ICB\", 'CNT': \"CNT\", 'Myeloid_1': \"Myeloid\", 'PEC': \"PEC\", \n",
    "    'EC1': \"EC_Peritub\", 'injPT': \"injPT\", 'DTL': \"DTL\", 'MD': \"MD\", 'Str1': \"Fib1\", 'EC4': \"EC_DVR\", \n",
    "    'Str5': \"VSMC\", 'Str9': \"MC1\", 'ATL': \"ATL\", 'Str3': \"Fib1\", 'ICA2': \"ICA\", 'Podo': \"Podo\", \n",
    "    'MTAL': \"TAL\", 'Str6': \"Fib1\", 'EC5': \"EC_glom\", 'Myeloid_2': \"Myeloid\", 'prolif_PT': \"prolif_Tubule\", 'B': \"B\", \n",
    "    'Str2': \"Fib1\", 'Lymph_1': \"Lymphocyte\", 'EC6': \"EC_Lymph\", 'Myeloid_5': \"Myeloid\", 'Myeloid_prolif': \"Myeloid_prolif\", \n",
    "    'EC3': \"EC_Peritub\", 'Str7': \"Fib1\", 'Str10': \"Myofib\", 'Myeloid_3': \"Myeloid\", 'Str4': \"Fib1\", 'Myeloid_4': \"Myeloid\", \n",
    "    'EC7': \"EC_prolif\", 'Str11': \"VSMC\", 'Myeloid_6': \"Myeloid\", 'Lymph_prolif': \"Lymph_prolif\", 'Lymph_2': \"Lymphocyte\", \n",
    "    'Plasma': \"Plasma\", 'Str13': \"Neural\", 'Str12': \"Fib1\"\n",
    "}\n",
    "adata.obs['annotation_final_level2'] = adata.obs['annotation_final_level2'].replace(Rename_cluster).astype('category')\n",
    "\n"
   ]
  },
  {
   "cell_type": "code",
   "execution_count": null,
   "id": "1522d3e1",
   "metadata": {},
   "outputs": [],
   "source": [
    "#load subclustered TAL \n",
    "adata_TAL = sc.read(\"Atlas6.3_subset_TAL_3000HVG_integratedV2.h5ad\")"
   ]
  },
  {
   "cell_type": "code",
   "execution_count": 9,
   "id": "2abee086",
   "metadata": {},
   "outputs": [],
   "source": [
    "#we will add TAL1 and injured TAL in the next step based on subclustering and reintegration from TAL_only\n",
    "\n",
    "Rename_cluster = {\n",
    "    'TAL': \"TAL2\", \n",
    "}\n",
    "adata.obs['annotation_final_level2'] = adata.obs['annotation_final_level2'].replace(Rename_cluster).astype('category')\n",
    "\n"
   ]
  },
  {
   "cell_type": "code",
   "execution_count": null,
   "id": "abb0eb8e",
   "metadata": {},
   "outputs": [],
   "source": [
    "adata.obs[\"transfer\"] = adata_TAL.obs['annotation_TAL']\n",
    "\n",
    "# Create a mask indicating which cells are TAL-of-interest\n",
    "mask = adata.obs['transfer'] == \"TAL1\"\n",
    "\n",
    "# Add \"MD\" to the list of categories for the annotation column\n",
    "adata.obs['annotation_final_level2'].cat.add_categories(\"TAL1\", inplace=True)\n",
    "\n",
    "# Update the annotation for cells with leiden resolution 2 equal to \"30\" to \"MD\"\n",
    "adata.obs.loc[mask, 'annotation_final_level2'] = \"TAL1\""
   ]
  },
  {
   "cell_type": "code",
   "execution_count": null,
   "id": "030ea177",
   "metadata": {},
   "outputs": [],
   "source": [
    "# Create a mask indicating which cells are TAL-of-interest\n",
    "mask = adata.obs['transfer'] == \"injTAL\"\n",
    "\n",
    "# Add \"MD\" to the list of categories for the annotation column\n",
    "adata.obs['annotation_final_level2'].cat.add_categories(\"injTAL\", inplace=True)\n",
    "\n",
    "# Update the annotation for cells with leiden resolution 2 equal to \"30\" to \"MD\"\n",
    "adata.obs.loc[mask, 'annotation_final_level2'] = \"injTAL\""
   ]
  },
  {
   "cell_type": "code",
   "execution_count": 13,
   "id": "fd61e06c",
   "metadata": {},
   "outputs": [],
   "source": [
    "adata_DCT = sc.read(\"Atlas6.3_subset_DCT_CNT_CD_3000HVG_integratedV2.h5ad\")"
   ]
  },
  {
   "cell_type": "code",
   "execution_count": null,
   "id": "34a8a607",
   "metadata": {},
   "outputs": [],
   "source": [
    "adata.obs[\"transfer\"] = adata_DCT.obs['leiden_scVI_0_5']\n",
    "\n",
    "# Create a mask indicating which cells are TAL-of-interest\n",
    "mask = adata.obs['transfer'] == \"4\"\n",
    "\n",
    "# Add \"MD\" to the list of categories for the annotation column\n",
    "adata.obs['annotation_final_level2'].cat.add_categories(\"injDCT_CNT\", inplace=True)\n",
    "\n",
    "# Update the annotation for cells with leiden resolution 2 equal to \"30\" to \"MD\"\n",
    "adata.obs.loc[mask, 'annotation_final_level2'] = \"injDCT_CNT\""
   ]
  },
  {
   "cell_type": "code",
   "execution_count": null,
   "id": "89049dd7",
   "metadata": {},
   "outputs": [],
   "source": [
    "adata.obs[\"transfer\"] = adata_TAL.obs['annotation_TAL']\n",
    "sc.pl.umap(adata, color = \"transfer\", groups = \"TAL1\")"
   ]
  },
  {
   "cell_type": "code",
   "execution_count": 21,
   "id": "e5fb04fc",
   "metadata": {},
   "outputs": [],
   "source": [
    "\n",
    "Rename_cluster = {\n",
    "    'ATL': \"DTL_ATL\", \n",
    "    'DTL': \"DTL_ATL\", \n",
    "}\n",
    "adata.obs['annotation_final_level2'] = adata.obs['annotation_final_level2'].replace(Rename_cluster).astype('category')\n",
    "\n"
   ]
  },
  {
   "cell_type": "code",
   "execution_count": 25,
   "id": "11efaf03",
   "metadata": {},
   "outputs": [],
   "source": [
    "#export new metadata\n",
    "df = adata.obs\n",
    "df.to_csv(\".../Atlas/Tables/Atlas_6.5_Metadata.csv\")"
   ]
  },
  {
   "cell_type": "code",
   "execution_count": null,
   "id": "b465cebe",
   "metadata": {},
   "outputs": [],
   "source": [
    "adata.write(\"Atlas6.5_3000HVG_integrated_V2.h5ad\")"
   ]
  },
  {
   "cell_type": "code",
   "execution_count": 2,
   "id": "6ef7cf16",
   "metadata": {},
   "outputs": [],
   "source": [
    "#create raw file based on Atlas 6.5\n",
    "adata = sc.read(\"Atlas6.5_3000HVG_integrated_V2.h5ad\")\n",
    "\n",
    "adat = sc.read(\"Atlas6.0.h5ad\")"
   ]
  },
  {
   "cell_type": "code",
   "execution_count": null,
   "id": "f1ee91be",
   "metadata": {},
   "outputs": [],
   "source": [
    "subset_list=adata.obs_names.tolist()\n",
    "adat=adat[adat.obs_names.isin(subset_list),:] \n",
    "adat"
   ]
  },
  {
   "cell_type": "code",
   "execution_count": null,
   "id": "6b0aa4fe",
   "metadata": {},
   "outputs": [],
   "source": [
    "adat.obs = adata.obs\n",
    "adat"
   ]
  },
  {
   "cell_type": "code",
   "execution_count": 5,
   "id": "b7d08a76",
   "metadata": {},
   "outputs": [],
   "source": [
    "adat.write(\"Atlas6.5_raw.h5ad\")"
   ]
  }
 ],
 "metadata": {
  "kernelspec": {
   "display_name": "Python 3 (ipykernel)",
   "language": "python",
   "name": "python3"
  },
  "language_info": {
   "codemirror_mode": {
    "name": "ipython",
    "version": 3
   },
   "file_extension": ".py",
   "mimetype": "text/x-python",
   "name": "python",
   "nbconvert_exporter": "python",
   "pygments_lexer": "ipython3",
   "version": "3.9.1"
  }
 },
 "nbformat": 4,
 "nbformat_minor": 5
}
