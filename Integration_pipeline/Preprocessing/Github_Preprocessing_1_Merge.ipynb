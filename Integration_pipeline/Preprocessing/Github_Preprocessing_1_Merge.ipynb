{
 "cells": [
  {
   "cell_type": "code",
   "execution_count": null,
   "id": "6173b0e6",
   "metadata": {},
   "outputs": [],
   "source": [
    "###data sets were preprocessed in Seurat R including changing of gene names to human otholog genes. \n",
    "\n",
    "##In this script we perform the concatenation to create the first version of our Atlas for the first integration \n"
   ]
  },
  {
   "cell_type": "code",
   "execution_count": null,
   "id": "128e2f2e",
   "metadata": {},
   "outputs": [],
   "source": [
    "import sys\n",
    "import pandas as pd\n",
    "import numpy as np\n",
    "import matplotlib.pyplot as plt\n",
    "import anndata\n",
    "import scvi\n",
    "import scanpy as sc\n",
    "import os\n",
    "seed=10\n",
    "os.chdir(\".../Atlas/objects\")\n",
    "sc.logging.print_versions()"
   ]
  },
  {
   "cell_type": "code",
   "execution_count": null,
   "id": "2fb34409",
   "metadata": {},
   "outputs": [],
   "source": [
    "\n",
    "adata_DOCA = scvi.data.read_h5ad(\"RAT_ABEDINI_humangenes.h5ad\")\n",
    "adata_ZSF = scvi.data.read_h5ad(\"RAT_BALZER_humangenes.h5ad\")\n",
    "adata_KPMP = scvi.data.read_h5ad(\"KPMP_humangenes_orthos.h5ad\")\n",
    "adata_IRImouse = scvi.data.read_h5ad(\"mouseIRI_humangenenames.h5ad\")  \n",
    "adata_1M_Humphreys = scvi.data.read_h5ad(\"Humphreys_1M_humangenes.h5ad\") \n",
    "adata_human = scvi.data.read_h5ad(\"Susztak_HUMAN_humangenes_orthos.h5ad\")  \n",
    "adata_mouse = scvi.data.read_h5ad(\"mouse_susztak_humangenenames.h5ad\")"
   ]
  },
  {
   "cell_type": "code",
   "execution_count": null,
   "id": "818f6bef",
   "metadata": {},
   "outputs": [],
   "source": [
    "#Susztak mouse data "
   ]
  },
  {
   "cell_type": "code",
   "execution_count": null,
   "id": "d3a39f06",
   "metadata": {
    "scrolled": true
   },
   "outputs": [],
   "source": [
    "adata_mouse.X = np.rint(adata_mouse.X)\n",
    "adata_mouse.obs['species'] = 'mouse'\n",
    "adata_mouse.obs['proj'] = 'mouse_susztak'\n",
    "adata_mouse.obs['original_annotation'] = \"unknown\"\n",
    "adata_mouse.obs['condition_harmonized'] = adata_mouse.obs['orig.ident']\n",
    "adata_mouse.obs['sex'] = adata_mouse.obs['orig.ident']\n",
    "adata_mouse"
   ]
  },
  {
   "cell_type": "code",
   "execution_count": null,
   "id": "8c896c37",
   "metadata": {},
   "outputs": [],
   "source": [
    "#Humphreys IRI data Kirita et al. (PNAS, 2020)"
   ]
  },
  {
   "cell_type": "code",
   "execution_count": null,
   "id": "68eaa2c4",
   "metadata": {},
   "outputs": [],
   "source": [
    "adata_IRImouse.obs['species'] = 'mouse'\n",
    "adata_IRImouse.obs['proj'] = 'm_humphrey_IRI'\n",
    "adata_IRImouse.obs['original_annotation'] = adata_IRImouse.obs['celltype']\n",
    "adata_IRImouse.obs['condition_harmonized'] = adata_IRImouse.obs['Group']\n",
    "adata_IRImouse.obs['sex'] = 'male'\n",
    "adata_IRImouse"
   ]
  },
  {
   "cell_type": "code",
   "execution_count": null,
   "id": "2843a40d",
   "metadata": {},
   "outputs": [],
   "source": [
    "#Susztak Rat data DOCA"
   ]
  },
  {
   "cell_type": "code",
   "execution_count": null,
   "id": "44a0708c",
   "metadata": {},
   "outputs": [],
   "source": [
    "adata_DOCA.X = np.rint(adata_DOCA.X)\n",
    "adata_DOCA.obs['species'] = 'rat'\n",
    "adata_DOCA.obs['proj'] = 'r_doca'\n",
    "adata_DOCA.obs['original_annotation'] = adata_DOCA.obs['Idents']\n",
    "adata_DOCA.obs['condition_harmonized'] = adata_DOCA.obs['Status']\n",
    "adata_DOCA.obs['sex'] = 'male'\n",
    "adata_DOCA"
   ]
  },
  {
   "cell_type": "code",
   "execution_count": null,
   "id": "2b57c2cd",
   "metadata": {},
   "outputs": [],
   "source": [
    "#Susztak Rat data ZSF1"
   ]
  },
  {
   "cell_type": "code",
   "execution_count": null,
   "id": "b526e0a2",
   "metadata": {},
   "outputs": [],
   "source": [
    "adata_ZSF.obs['species'] = 'rat'\n",
    "adata_ZSF.obs['proj'] = 'r_ZSF'\n",
    "adata_ZSF.obs['original_annotation'] = adata_ZSF.obs['clusters2']\n",
    "adata_ZSF.obs['condition_harmonized'] = adata_ZSF.obs['exp.cond']\n",
    "adata_ZSF.obs['sex'] = 'male'\n",
    "adata_ZSF"
   ]
  },
  {
   "cell_type": "code",
   "execution_count": null,
   "id": "04359e2e",
   "metadata": {},
   "outputs": [],
   "source": [
    "#KPMP study c798e11b-bbde-45dd-bd91-487f27c93f8f_WashU-UCSD_HuBMAP_KPMP-Biopsy_10X-R_12032021.h5Seurat"
   ]
  },
  {
   "cell_type": "code",
   "execution_count": null,
   "id": "9d5669a9",
   "metadata": {
    "scrolled": true
   },
   "outputs": [],
   "source": [
    "adata_KPMP.obs['species'] = 'human'\n",
    "adata_KPMP.obs['proj'] = 'h_KPMP'\n",
    "adata_KPMP.obs['orig.ident']=adata_KPMP.obs['specimen_id']\n",
    "adata_KPMP.obs['original_annotation'] = adata_KPMP.obs['subclass.l1']\n",
    "adata_KPMP.obs['condition_harmonized'] = adata_KPMP.obs['orig.ident']\n",
    "adata_KPMP.obs['sex'] = adata_KPMP.obs['specimen_id']\n",
    "Rename_KPMP_condition = {\n",
    "\"KRP446\": 'Control',\n",
    "\"3490\": 'Control',\n",
    "\"3535\": 'Control',\n",
    "\"3499\": 'Control',\n",
    "\"3504\": 'Control',\n",
    "\"3593\": 'Control',\n",
    "\"3613\": 'Control',\n",
    "\"18-162\": 'Control',\n",
    "\"18-142\": 'Control',\n",
    "\"18-312\": 'Control',\n",
    "\"KRP460\": 'Control',\n",
    "\"KRP461\": 'Control',\n",
    "\"KRP462\":  'Control',\n",
    "\"31-10001\": 'DKD',\n",
    "\"29-10006\": 'DKD',\n",
    "\"31-10006\": 'H-CKD',\n",
    "\"29-10008\": 'H-CKD',\n",
    "\"29-10012\": 'DKD',\n",
    "\"31-10013\": 'H-CKD',\n",
    "\"31-10000\": 'H-CKD',\n",
    "\"29-10013\": 'H-CKD',\n",
    "\"29-10010\": 'DKD',\n",
    "\"31-10035\": 'DKD',\n",
    "\"30-10034\": 'AKI',\n",
    "\"32-10003\": 'AKI',\n",
    "\"32-10034\": 'AKI',\n",
    "\"32-2\": 'AKI',\n",
    "\"33-10005\": 'AKI',\n",
    "\"33-10006\": 'AKI',\n",
    "}\n",
    "adata_KPMP.obs['condition_harmonized'] = adata_KPMP.obs['condition_harmonized'].replace(Rename_KPMP_condition).astype('category')\n",
    "\n",
    "Rename_KPMP_sex = {\n",
    "\"KRP446\": 'male',\n",
    "\"3490\": 'female',\n",
    "\"3535\": 'male',\n",
    "\"3499\": 'female',\n",
    "\"3504\": 'female',\n",
    "\"3593\": 'male',\n",
    "\"3613\": 'female',\n",
    "\"18-162\": 'female',\n",
    "\"18-142\": 'female',\n",
    "\"18-312\": 'male',\n",
    "\"KRP460\": 'female',\n",
    "\"KRP461\": 'male',\n",
    "\"KRP462\":  'female',\n",
    "\"31-10001\": 'male',\n",
    "\"29-10006\": 'female',\n",
    "\"31-10006\": 'male',\n",
    "\"29-10008\": 'female',\n",
    "\"29-10012\": 'female',\n",
    "\"31-10013\": 'male',\n",
    "\"31-10000\": 'male',\n",
    "\"29-10013\": 'female',\n",
    "\"29-10010\": 'male',\n",
    "\"31-10035\": 'female',\n",
    "\"30-10034\": 'female',\n",
    "\"32-10003\": 'male',\n",
    "\"32-10034\": 'male',\n",
    "\"32-2\": 'male',\n",
    "\"33-10005\": 'male',\n",
    "\"33-10006\": 'male',\n",
    "}\n",
    "adata_KPMP.obs['sex'] = adata_KPMP.obs['sex'].replace(Rename_KPMP_sex).astype('category')\n",
    "adata_KPMP\n"
   ]
  },
  {
   "cell_type": "code",
   "execution_count": null,
   "id": "68dad60a",
   "metadata": {},
   "outputs": [],
   "source": [
    "# Susztak human data Abedini et al."
   ]
  },
  {
   "cell_type": "code",
   "execution_count": null,
   "id": "8c391ac6",
   "metadata": {},
   "outputs": [],
   "source": [
    "adata_human.X = np.rint(adata_human.X)\n",
    "adata_human.obs['species'] = 'human'\n",
    "adata_human.obs['proj'] = 'h_Susztak'\n",
    "adata_human.obs['original_annotation'] = adata_human.obs['Idents']\n",
    "adata_human.obs['condition_harmonized'] = adata_human.obs['orig.ident']\n",
    "adata_human.obs['sex'] = adata_human.obs['orig.ident']\n",
    "adata_human_condition = {\n",
    "\"HK2739\": \"H-CKD\",\n",
    "\"HK2774\": \"H-CKD\",  \n",
    "\"HK2898\": \"Control\",   \n",
    "\"HK2868\": \"H-CKD\",   \n",
    "\"HK2895\": \"Control\",   \n",
    "\"HK2893\": \"Control\",   \n",
    "\"HK2833\": \"Control\",   \n",
    "\"HK2596\": \"DKD\",  \n",
    "\"HK2862\": \"DKD\",   \n",
    "\"HK2770\": \"H-CKD\",  \n",
    "\"HK2663\": \"Control\",   \n",
    "\"HK2844\": \"DKD\",   \n",
    "\"HK2891\": \"H-CKD\",   \n",
    "\"HK2867\": \"Control\",   \n",
    "\"HK2558\": \"H-CKD\",   \n",
    "\"HK2899\": \"Control\",    \n",
    "\"HK2886\": \"DKD\",\n",
    "}\n",
    "adata_human.obs['condition_harmonized'] = adata_human.obs['condition_harmonized'].replace(adata_human_condition).astype('category')\n",
    "adata_human_sex = {\n",
    "\"HK2739\": \"male\",\n",
    "\"HK2774\": \"female\",\n",
    "\"HK2898\": \"female\",\n",
    "\"HK2868\": \"female\",\n",
    "\"HK2895\": \"female\",\n",
    "\"HK2893\": \"male\",\n",
    "\"HK2833\": \"male\",\n",
    "\"HK2596\": \"male\",\n",
    "\"HK2862\": \"male\",\n",
    "\"HK2770\": \"male\",\n",
    "\"HK2663\": \"female\",\n",
    "\"HK2844\": \"female\",\n",
    "\"HK2891\": \"female\",\n",
    "\"HK2867\": \"male\",\n",
    "\"HK2558\": \"male\",\n",
    "\"HK2899\": \"male\",\n",
    "\"HK2886\": \"male\",\n",
    "}\n",
    "adata_human.obs['sex'] = adata_human.obs['sex'].replace(adata_human_sex).astype('category')\n",
    "adata_human\n"
   ]
  },
  {
   "cell_type": "code",
   "execution_count": null,
   "id": "d7e5cb30",
   "metadata": {},
   "outputs": [],
   "source": [
    "# Humphreys 1M DKD mouse atlas"
   ]
  },
  {
   "cell_type": "code",
   "execution_count": null,
   "id": "3ab8f430",
   "metadata": {},
   "outputs": [],
   "source": [
    "adata_1M_Humphreys.obs['species'] = 'mouse'\n",
    "adata_1M_Humphreys.obs['proj'] = 'm_humphreys_DKD'\n",
    "adata_1M_Humphreys.obs['original_annotation'] = adata_1M_Humphreys.obs['celltype']\n",
    "adata_1M_Humphreys.obs['condition_harmonized'] = adata_1M_Humphreys.obs['group2']\n",
    "adata_1M_Humphreys.obs['sex'] = 'female'\n",
    "groups_keep=['7b.db/db+AAV+SGLT2i(2w)', '4b.db/db+AAV+ACEi(2w)', '3b.db/db+AAV+PBS(2w)', '2.db/db', '5b.db/db+AAV+Rosi(2w)', '1.db/m']\n",
    "adata_1M_Humphreys = adata_1M_Humphreys[adata_1M_Humphreys.obs['group2'].isin(groups_keep),:]\n",
    "sc.pp.subsample(adata_1M_Humphreys, fraction=None, n_obs=300000, random_state=seed, copy=False)\n",
    "adata_1M_Humphreys"
   ]
  },
  {
   "cell_type": "code",
   "execution_count": null,
   "id": "665f24c4",
   "metadata": {},
   "outputs": [],
   "source": [
    "# merge mouse files "
   ]
  },
  {
   "cell_type": "code",
   "execution_count": null,
   "id": "2fe60428",
   "metadata": {},
   "outputs": [],
   "source": [
    "adata_M = adata_1M_Humphreys.concatenate(adata_IRImouse, adata_mouse,\n",
    "    join=\"inner\",\n",
    "    batch_key=None,\n",
    "    index_unique=None\n",
    ")\n",
    "\n",
    "adata_M"
   ]
  },
  {
   "cell_type": "code",
   "execution_count": null,
   "id": "5ce7f47c",
   "metadata": {},
   "outputs": [],
   "source": [
    "# merge human files"
   ]
  },
  {
   "cell_type": "code",
   "execution_count": null,
   "id": "bf451eee",
   "metadata": {},
   "outputs": [],
   "source": [
    "adata_H = adata_KPMP.concatenate(adata_human, \n",
    "    join=\"inner\",\n",
    "    batch_key=None,\n",
    "    index_unique=None\n",
    ")\n",
    "\n",
    "adata_H"
   ]
  },
  {
   "cell_type": "code",
   "execution_count": null,
   "id": "f09b2a58",
   "metadata": {},
   "outputs": [],
   "source": [
    "# merge rat files"
   ]
  },
  {
   "cell_type": "code",
   "execution_count": null,
   "id": "b716e0a2",
   "metadata": {},
   "outputs": [],
   "source": [
    "adata_R = adata_ZSF.concatenate(adata_DOCA, \n",
    "    join=\"inner\",\n",
    "    batch_key=None,\n",
    "    index_unique=None\n",
    ")\n",
    "\n",
    "adata_R"
   ]
  },
  {
   "cell_type": "code",
   "execution_count": null,
   "id": "a9584a6a",
   "metadata": {},
   "outputs": [],
   "source": [
    "#merge everything in one Atlas_6.0"
   ]
  },
  {
   "cell_type": "code",
   "execution_count": null,
   "id": "d9dd0e2b",
   "metadata": {},
   "outputs": [],
   "source": [
    "adata = adata_M.concatenate(adata_R, adata_H, \n",
    "    join=\"inner\",\n",
    "    batch_key=None,\n",
    "    index_unique=None\n",
    ")\n",
    "adata.X = np.rint(adata.X)"
   ]
  },
  {
   "cell_type": "code",
   "execution_count": null,
   "id": "6b6910c5",
   "metadata": {},
   "outputs": [],
   "source": [
    "adata.obs_names_make_unique()"
   ]
  },
  {
   "cell_type": "code",
   "execution_count": null,
   "id": "c4e1026b",
   "metadata": {},
   "outputs": [],
   "source": [
    "adata.write('Atlas6.0.h5ad')"
   ]
  },
  {
   "cell_type": "code",
   "execution_count": null,
   "id": "858f91b7",
   "metadata": {},
   "outputs": [],
   "source": [
    "# calculate HVGs"
   ]
  },
  {
   "cell_type": "code",
   "execution_count": null,
   "id": "9fb0b3e0",
   "metadata": {},
   "outputs": [],
   "source": [
    "#change batch key to species\n",
    "adata.obs['percent_mt']=adata.obs['percent.mt']\n",
    "adata.obs['orig_ident']=adata.obs['orig.ident']\n",
    "adata.layers[\"counts\"] = adata.X.copy() # preserve counts\n",
    "sc.pp.normalize_total(adata, target_sum=1e4)\n",
    "sc.pp.log1p(adata)\n",
    "adata.raw = adata # freeze the state in `.raw`\n",
    "sc.pp.highly_variable_genes(\n",
    "    adata,\n",
    "    n_top_genes=3000,\n",
    "    subset=True,\n",
    "    layer=\"counts\",\n",
    "    flavor=\"seurat_v3\",\n",
    "    batch_key=\"species\")\n",
    "adata.write('Atlas6.0_3000HVG.h5ad')"
   ]
  }
 ],
 "metadata": {
  "kernelspec": {
   "display_name": "Python 3 (ipykernel)",
   "language": "python",
   "name": "python3"
  },
  "language_info": {
   "codemirror_mode": {
    "name": "ipython",
    "version": 3
   },
   "file_extension": ".py",
   "mimetype": "text/x-python",
   "name": "python",
   "nbconvert_exporter": "python",
   "pygments_lexer": "ipython3",
   "version": "3.9.1"
  }
 },
 "nbformat": 4,
 "nbformat_minor": 5
}
