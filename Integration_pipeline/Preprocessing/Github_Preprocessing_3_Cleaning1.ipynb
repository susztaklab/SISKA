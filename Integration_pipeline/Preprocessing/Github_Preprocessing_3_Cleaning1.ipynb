{
 "cells": [
  {
   "cell_type": "code",
   "execution_count": 1,
   "id": "4eea88ec",
   "metadata": {},
   "outputs": [
    {
     "name": "stderr",
     "output_type": "stream",
     "text": [
      "Global seed set to 0\n"
     ]
    },
    {
     "name": "stdout",
     "output_type": "stream",
     "text": [
      "-----\n",
      "anndata     0.8.0\n",
      "scanpy      1.9.1\n",
      "-----\n",
      "PIL                 9.2.0\n",
      "absl                NA\n",
      "asttokens           NA\n",
      "attr                22.1.0\n",
      "backcall            0.2.0\n",
      "cffi                1.15.1\n",
      "chex                0.1.5\n",
      "colorama            0.4.5\n",
      "constants           NA\n",
      "cycler              0.10.0\n",
      "cython_runtime      NA\n",
      "dateutil            2.8.2\n",
      "debugpy             1.6.3\n",
      "decorator           4.4.2\n",
      "defusedxml          0.7.1\n",
      "deprecate           0.3.2\n",
      "docrep              0.3.2\n",
      "entrypoints         0.4\n",
      "etils               0.8.0\n",
      "executing           1.0.0\n",
      "flax                0.6.0\n",
      "fsspec              2022.8.2\n",
      "google              NA\n",
      "h5py                3.7.0\n",
      "highs_wrapper       NA\n",
      "igraph              0.9.11\n",
      "ipykernel           6.15.3\n",
      "ipython_genutils    0.2.0\n",
      "ipywidgets          8.0.2\n",
      "jax                 0.3.17\n",
      "jaxlib              0.3.15\n",
      "jedi                0.18.0\n",
      "joblib              1.2.0\n",
      "kiwisolver          1.4.4\n",
      "leidenalg           0.8.10\n",
      "llvmlite            0.39.1\n",
      "louvain             0.8.0\n",
      "matplotlib          3.6.0\n",
      "mpl_toolkits        NA\n",
      "msgpack             1.0.4\n",
      "mudata              0.2.0\n",
      "multipledispatch    0.6.0\n",
      "natsort             8.2.0\n",
      "numba               0.56.2\n",
      "numpy               1.23.5\n",
      "numpyro             0.10.1\n",
      "opt_einsum          v3.3.0\n",
      "optax               0.1.3\n",
      "packaging           21.3\n",
      "pandas              1.3.0\n",
      "parso               0.8.1\n",
      "pexpect             4.8.0\n",
      "pickleshare         0.7.5\n",
      "pkg_resources       NA\n",
      "prompt_toolkit      3.0.16\n",
      "psutil              5.9.2\n",
      "ptyprocess          0.7.0\n",
      "pure_eval           0.2.2\n",
      "pydev_ipython       NA\n",
      "pydevconsole        NA\n",
      "pydevd              2.8.0\n",
      "pydevd_file_utils   NA\n",
      "pydevd_plugins      NA\n",
      "pydevd_tracing      NA\n",
      "pyexpat             NA\n",
      "pygments            2.13.0\n",
      "pyparsing           3.0.9\n",
      "pyro                1.8.2\n",
      "pytorch_lightning   1.6.5\n",
      "pytz                2021.1\n",
      "rich                NA\n",
      "scipy               1.6.0\n",
      "scvi                0.17.3\n",
      "session_info        1.0.0\n",
      "six                 1.15.0\n",
      "sklearn             1.1.2\n",
      "sphinxcontrib       NA\n",
      "stack_data          0.5.0\n",
      "tensorboard         2.10.0\n",
      "texttable           1.6.4\n",
      "threadpoolctl       3.1.0\n",
      "toolz               0.12.0\n",
      "torch               1.12.1+cu102\n",
      "torchmetrics        0.9.3\n",
      "tornado             6.2\n",
      "tqdm                4.64.1\n",
      "traitlets           5.4.0\n",
      "tree                0.1.7\n",
      "typing_extensions   NA\n",
      "virtualenvwrapper   NA\n",
      "wcwidth             0.2.5\n",
      "yaml                6.0\n",
      "zmq                 24.0.0\n",
      "-----\n",
      "IPython             8.5.0\n",
      "jupyter_client      7.3.5\n",
      "jupyter_core        4.11.1\n",
      "notebook            6.4.12\n",
      "-----\n",
      "Python 3.9.1 (default, Feb 11 2021, 12:28:03) [GCC 4.8.5 20150623 (Red Hat 4.8.5-39)]\n",
      "Linux-3.10.0-1127.el7.x86_64-x86_64-with-glibc2.17\n",
      "-----\n",
      "Session information updated at 2022-12-10 15:01\n"
     ]
    }
   ],
   "source": [
    "import sys\n",
    "import pandas as pd\n",
    "import numpy as np\n",
    "import matplotlib.pyplot as plt\n",
    "import anndata\n",
    "import scvi\n",
    "import scanpy as sc\n",
    "import matplotlib\n",
    "import csv\n",
    "import os\n",
    "seed=10\n",
    "os.chdir(\"/home/kloetzer/Atlas/objects\")\n",
    "sc.logging.print_versions()"
   ]
  },
  {
   "cell_type": "code",
   "execution_count": null,
   "id": "25665718",
   "metadata": {},
   "outputs": [],
   "source": [
    "#original file\n",
    "adata= scvi.data.read_h5ad('Atlas6.0_3000HVG.h5ad')\n"
   ]
  },
  {
   "cell_type": "code",
   "execution_count": 19,
   "id": "f8a0f4ae",
   "metadata": {},
   "outputs": [
    {
     "name": "stdout",
     "output_type": "stream",
     "text": [
      "\u001b[34mINFO    \u001b[0m File \u001b[35m/home/kloetzer/Atlas/Models/Model_Atlas6.0_V1/\u001b[0m\u001b[95mmodel.pt\u001b[0m already downloaded      \n"
     ]
    }
   ],
   "source": [
    "#we load the intgeration model from colab\n",
    "\n",
    "model = scvi.model.SCVI.load(\".../Atlas/Models/Model_Atlas6.0_V1\", adata=adata, use_gpu=False)"
   ]
  },
  {
   "cell_type": "code",
   "execution_count": 7,
   "id": "9d55a26a",
   "metadata": {},
   "outputs": [],
   "source": [
    "latent = model.get_latent_representation()\n",
    "adata.obsm[\"X_scVI\"] = latent\n",
    "adata.layers[\"scvi_normalized\"] = model.get_normalized_expression(\n",
    "    library_size=10e4)"
   ]
  },
  {
   "cell_type": "code",
   "execution_count": 8,
   "id": "b517226b",
   "metadata": {},
   "outputs": [],
   "source": [
    "sc.pp.neighbors(adata, n_pcs=30, use_rep=\"X_scVI\", random_state=seed)\n",
    "sc.tl.umap(adata, min_dist=0.3, random_state=seed)"
   ]
  },
  {
   "cell_type": "code",
   "execution_count": null,
   "id": "1fc147c5",
   "metadata": {
    "scrolled": false
   },
   "outputs": [],
   "source": [
    "sc.set_figure_params(figsize=(5,5))\n",
    "sc.pl.umap(adata, color=['proj'])\n",
    "sc.pl.umap(adata, color=['species'])"
   ]
  },
  {
   "cell_type": "code",
   "execution_count": null,
   "id": "c9486f23",
   "metadata": {
    "scrolled": false
   },
   "outputs": [],
   "source": [
    "adata_M=adata[adata.obs.species=='mouse']\n",
    "adata_R=adata[adata.obs.species=='rat']\n",
    "adata_H=adata[adata.obs.species=='human']\n",
    "\n",
    "sc.pl.umap(adata_M, color=['proj'])\n",
    "sc.pl.umap(adata_R, color=['proj'])\n",
    "sc.pl.umap(adata_H, color=['proj'])"
   ]
  },
  {
   "cell_type": "code",
   "execution_count": null,
   "id": "dd6cbb61",
   "metadata": {},
   "outputs": [],
   "source": [
    "sc.pl.umap(adata_M, color=['original_annotation'])\n",
    "sc.pl.umap(adata_M, color=['original_annotation'])"
   ]
  },
  {
   "cell_type": "code",
   "execution_count": null,
   "id": "244854ff",
   "metadata": {},
   "outputs": [],
   "source": [
    "sc.pl.umap(adata, color=['original_annotation'], legend_loc='on data')\n",
    "sc.pl.umap(adata, color=['original_annotation'])"
   ]
  },
  {
   "cell_type": "code",
   "execution_count": null,
   "id": "7c0fe465",
   "metadata": {},
   "outputs": [],
   "source": [
    "sc.pl.umap(adata, color=['percent.mt'], vmax=25)\n",
    "sc.pl.umap(adata, color=['nCount_RNA'], vmax=20000)\n",
    "sc.pl.umap(adata, color=['nFeature_RNA'], vmax=5000)"
   ]
  },
  {
   "cell_type": "code",
   "execution_count": null,
   "id": "c591a3ed",
   "metadata": {},
   "outputs": [],
   "source": [
    "sc.set_figure_params(figsize=(40,20))\n",
    "sc.pl.violin(adata, keys='nFeature_RNA', groupby='proj')\n",
    "sc.pl.violin(adata, keys='nCount_RNA', groupby='proj')\n",
    "sc.pl.violin(adata, keys='percent.mt', groupby='proj')"
   ]
  },
  {
   "cell_type": "code",
   "execution_count": null,
   "id": "940bf7f3",
   "metadata": {},
   "outputs": [],
   "source": [
    "fig, ax = plt.subplots()\n",
    "sc.pl.violin(adata, keys='nCount_RNA', groupby='proj',\n",
    "             rotation=90,\n",
    "             jitter=0.4,ax=ax, show=False)\n",
    "\n",
    "ax.set_ylim(0, 2000)\n",
    "\n",
    "plt.show()"
   ]
  },
  {
   "cell_type": "code",
   "execution_count": null,
   "id": "6a9d24bd",
   "metadata": {},
   "outputs": [],
   "source": [
    "fig, ax = plt.subplots()\n",
    "sc.pl.violin(adata, keys='nFeature_RNA', groupby='proj',\n",
    "             rotation=90,\n",
    "             jitter=0.4,ax=ax, show=False)\n",
    "\n",
    "ax.set_ylim(0, 2000)\n",
    "\n",
    "plt.show()"
   ]
  },
  {
   "cell_type": "code",
   "execution_count": 5,
   "id": "b69e03bc",
   "metadata": {},
   "outputs": [],
   "source": [
    "#run QC control again and if possible make cut-offs consistent \n",
    "adata = adata[adata.obs['percent.mt'] < 15]\n",
    "adata = adata[adata.obs['nFeature_RNA'] > 300]\n",
    "adata = adata[adata.obs['nCount_RNA'] > 300]"
   ]
  },
  {
   "cell_type": "code",
   "execution_count": null,
   "id": "302810ed",
   "metadata": {},
   "outputs": [],
   "source": [
    "sc.set_figure_params(figsize=(5,5))\n",
    "sc.pl.umap(adata, color=['percent.mt'], vmax=15)\n",
    "sc.pl.umap(adata, color=['nCount_RNA'], vmax=15000)\n",
    "sc.pl.umap(adata, color=['nFeature_RNA'], vmax=3000)\n",
    "adata"
   ]
  },
  {
   "cell_type": "code",
   "execution_count": null,
   "id": "3cd70836",
   "metadata": {},
   "outputs": [],
   "source": [
    "sc.tl.leiden(adata, key_added=\"leiden_scVI_0_3\", resolution=0.3, random_state=seed)\n",
    "sc.tl.leiden(adata, key_added=\"leiden_scVI_0_5\", resolution=0.5, random_state=seed)\n",
    "sc.tl.leiden(adata, key_added=\"leiden_scVI_0_7\", resolution=0.7, random_state=seed)"
   ]
  },
  {
   "cell_type": "code",
   "execution_count": null,
   "id": "697098e4",
   "metadata": {},
   "outputs": [],
   "source": [
    "sc.tl.leiden(adata, key_added=\"leiden_scVI_3_0\", resolution=3.0, random_state=seed)"
   ]
  },
  {
   "cell_type": "code",
   "execution_count": null,
   "id": "c2e7bee9",
   "metadata": {
    "scrolled": true
   },
   "outputs": [],
   "source": [
    "sc.set_figure_params(figsize=(5,5))\n",
    "sc.pl.umap(adata, color=['leiden_scVI_0_3'], legend_loc='on data')\n",
    "sc.pl.umap(adata, color=['leiden_scVI_0_5'], legend_loc='on data')\n",
    "sc.pl.umap(adata, color=['leiden_scVI_0_7'], legend_loc='on data')\n",
    "sc.pl.umap(adata, color=['leiden_scVI_3_0'], legend_loc='on data')"
   ]
  },
  {
   "cell_type": "code",
   "execution_count": null,
   "id": "bd14c4ef",
   "metadata": {
    "scrolled": false
   },
   "outputs": [],
   "source": [
    "adata_M=adata[adata.obs.species=='mouse']\n",
    "adata_R=adata[adata.obs.species=='rat']\n",
    "adata_H=adata[adata.obs.species=='human']\n",
    "\n",
    "sc.pl.umap(adata_M, color=['proj'])\n",
    "sc.pl.umap(adata_R, color=['proj'])\n",
    "sc.pl.umap(adata_H, color=['proj'])\n",
    "sc.pl.umap(adata_M, color=['leiden_scVI_0_7'])\n",
    "sc.pl.umap(adata_R, color=['leiden_scVI_0_7'])\n",
    "sc.pl.umap(adata_H, color=['leiden_scVI_0_7'])\n",
    "sc.pl.umap(adata, color=['leiden_scVI_0_7'], legend_loc = \"on data\")"
   ]
  },
  {
   "cell_type": "code",
   "execution_count": null,
   "id": "21581863",
   "metadata": {},
   "outputs": [],
   "source": [
    "#set clustering of interest\n",
    "adata.obs['leiden'] = adata.obs['leiden_scVI_0_3']\n",
    "#get marker genes\n",
    "de_df = model.differential_expression(\n",
    "    groupby=\"leiden\")\n",
    "de_df.head()\n",
    "markers = {}\n",
    "cats = adata.obs.leiden.cat.categories\n",
    "for i, c in enumerate(cats):\n",
    "    cid = \"{} vs Rest\".format(c)\n",
    "    leiden_scVI_df = de_df.loc[de_df.comparison == cid]\n",
    "    leiden_scVI_df = leiden_scVI_df[leiden_scVI_df.lfc_mean > 0]\n",
    "    leiden_scVI_df = leiden_scVI_df[leiden_scVI_df[\"bayes_factor\"] > 3]\n",
    "    leiden_scVI_df = leiden_scVI_df[leiden_scVI_df[\"non_zeros_proportion1\"] > 0.1]\n",
    "    leiden_scVI_df = leiden_scVI_df[leiden_scVI_df[\"lfc_mean\"] > 0.75]\n",
    "    markers[c] = leiden_scVI_df.index.tolist()[:5]\n",
    "    sc.tl.dendrogram(adata, groupby=\"leiden\", use_rep=\"X_scVI\")\n",
    "    sc.pl.dotplot(\n",
    "    adata,\n",
    "    markers,\n",
    "    groupby='leiden',\n",
    "    dendrogram=True,\n",
    "    color_map=\"Blues\",\n",
    "    swap_axes=True,\n",
    "    use_raw=True,\n",
    "    standard_scale=\"var\",\n",
    ")"
   ]
  },
  {
   "cell_type": "code",
   "execution_count": null,
   "id": "29a79e0a",
   "metadata": {},
   "outputs": [],
   "source": [
    "#set clustering of interest\n",
    "adata.obs['leiden'] = adata.obs['leiden_scVI_0_5']\n",
    "#get marker genes\n",
    "de_df = model.differential_expression(\n",
    "    groupby=\"leiden\")\n",
    "de_df.head()\n",
    "markers = {}\n",
    "cats = adata.obs.leiden.cat.categories\n",
    "for i, c in enumerate(cats):\n",
    "    cid = \"{} vs Rest\".format(c)\n",
    "    leiden_scVI_df = de_df.loc[de_df.comparison == cid]\n",
    "    leiden_scVI_df = leiden_scVI_df[leiden_scVI_df.lfc_mean > 0]\n",
    "    leiden_scVI_df = leiden_scVI_df[leiden_scVI_df[\"bayes_factor\"] > 3]\n",
    "    leiden_scVI_df = leiden_scVI_df[leiden_scVI_df[\"non_zeros_proportion1\"] > 0.1]\n",
    "    leiden_scVI_df = leiden_scVI_df[leiden_scVI_df[\"lfc_mean\"] > 0.75]\n",
    "    markers[c] = leiden_scVI_df.index.tolist()[:5]\n",
    "    sc.tl.dendrogram(adata, groupby=\"leiden\", use_rep=\"X_scVI\")\n",
    "    sc.pl.dotplot(\n",
    "    adata,\n",
    "    markers,\n",
    "    groupby='leiden',\n",
    "    dendrogram=True,\n",
    "    color_map=\"Blues\",\n",
    "    swap_axes=True,\n",
    "    use_raw=True,\n",
    "    standard_scale=\"var\",\n",
    ")"
   ]
  },
  {
   "cell_type": "code",
   "execution_count": null,
   "id": "4648ef1c",
   "metadata": {},
   "outputs": [],
   "source": [
    "#set clustering of interest\n",
    "adata.obs['leiden'] = adata.obs['leiden_scVI_0_7']\n",
    "#get marker genes\n",
    "de_df = model.differential_expression(\n",
    "    groupby=\"leiden\")\n",
    "de_df.head()\n",
    "markers = {}\n",
    "cats = adata.obs.leiden.cat.categories\n",
    "for i, c in enumerate(cats):\n",
    "    cid = \"{} vs Rest\".format(c)\n",
    "    leiden_scVI_df = de_df.loc[de_df.comparison == cid]\n",
    "    leiden_scVI_df = leiden_scVI_df[leiden_scVI_df.lfc_mean > 0]\n",
    "    leiden_scVI_df = leiden_scVI_df[leiden_scVI_df[\"bayes_factor\"] > 3]\n",
    "    leiden_scVI_df = leiden_scVI_df[leiden_scVI_df[\"non_zeros_proportion1\"] > 0.1]\n",
    "    leiden_scVI_df = leiden_scVI_df[leiden_scVI_df[\"lfc_mean\"] > 0.75]\n",
    "    markers[c] = leiden_scVI_df.index.tolist()[:10]\n",
    "    sc.tl.dendrogram(adata, groupby=\"leiden\", use_rep=\"X_scVI\")\n",
    "    sc.pl.dotplot(\n",
    "    adata,\n",
    "    markers,\n",
    "    groupby='leiden',\n",
    "    dendrogram=True,\n",
    "    color_map=\"Blues\",\n",
    "    swap_axes=True,\n",
    "    use_raw=True,\n",
    "    standard_scale=\"var\",\n",
    ")"
   ]
  },
  {
   "cell_type": "code",
   "execution_count": null,
   "id": "07d338c7",
   "metadata": {},
   "outputs": [],
   "source": [
    "#set clustering of interest\n",
    "adata.obs['leiden'] = adata.obs['leiden_scVI_3_0']\n",
    "#get marker genes\n",
    "de_df = model.differential_expression(\n",
    "    groupby=\"leiden\")\n",
    "de_df.head()\n",
    "markers = {}\n",
    "cats = adata.obs.leiden.cat.categories\n",
    "for i, c in enumerate(cats):\n",
    "    cid = \"{} vs Rest\".format(c)\n",
    "    leiden_scVI_df = de_df.loc[de_df.comparison == cid]\n",
    "    leiden_scVI_df = leiden_scVI_df[leiden_scVI_df.lfc_mean > 0]\n",
    "    leiden_scVI_df = leiden_scVI_df[leiden_scVI_df[\"bayes_factor\"] > 3]\n",
    "    leiden_scVI_df = leiden_scVI_df[leiden_scVI_df[\"non_zeros_proportion1\"] > 0.1]\n",
    "    leiden_scVI_df = leiden_scVI_df[leiden_scVI_df[\"lfc_mean\"] > 0.75]\n",
    "    markers[c] = leiden_scVI_df.index.tolist()[:5]\n",
    "    sc.tl.dendrogram(adata, groupby=\"leiden\", use_rep=\"X_scVI\")\n",
    "    sc.pl.dotplot(\n",
    "    adata,\n",
    "    markers,\n",
    "    groupby='leiden',\n",
    "    dendrogram=True,\n",
    "    color_map=\"Blues\",\n",
    "    swap_axes=True,\n",
    "    use_raw=True,\n",
    "    standard_scale=\"var\",\n",
    ")"
   ]
  },
  {
   "cell_type": "code",
   "execution_count": null,
   "id": "71694a05",
   "metadata": {},
   "outputs": [],
   "source": [
    "sc.set_figure_params(figsize=(40,10))\n",
    "sc.pl.violin(adata, keys='nFeature_RNA', groupby='leiden_scVI_0_7')\n",
    "sc.pl.violin(adata, keys='nCount_RNA', groupby='leiden_scVI_0_7')\n",
    "sc.pl.violin(adata, keys='percent.mt', groupby='leiden_scVI_0_7')"
   ]
  },
  {
   "cell_type": "code",
   "execution_count": null,
   "id": "0bb4eae6",
   "metadata": {},
   "outputs": [],
   "source": [
    "#remove clusters\n",
    "clusters_remove=['0', '18', '22', '23', '24', '25']\n",
    "adata = adata[~adata.obs['leiden_scVI_0_7'].isin(clusters_remove),:]\n",
    "adata"
   ]
  },
  {
   "cell_type": "code",
   "execution_count": null,
   "id": "2a1b588c",
   "metadata": {},
   "outputs": [],
   "source": [
    "sc.set_figure_params(figsize=(5,5))\n",
    "sc.pl.umap(adata, color=['leiden_scVI_0_7'], legend_loc='on data')"
   ]
  },
  {
   "cell_type": "code",
   "execution_count": 35,
   "id": "4c9e4d87",
   "metadata": {
    "scrolled": true
   },
   "outputs": [],
   "source": [
    "cell_names = adata.obs_names\n",
    "df = pd.DataFrame(cell_names)\n",
    "df.to_csv('.../Atlas6.0_V1_cleaned.csv', columns=[0], header=True)"
   ]
  },
  {
   "cell_type": "code",
   "execution_count": null,
   "id": "d6767d0f",
   "metadata": {},
   "outputs": [],
   "source": [
    "# cell identifier are used to subset the raw mergend anndata object before the next integration run"
   ]
  }
 ],
 "metadata": {
  "kernelspec": {
   "display_name": "Python 3 (ipykernel)",
   "language": "python",
   "name": "python3"
  },
  "language_info": {
   "codemirror_mode": {
    "name": "ipython",
    "version": 3
   },
   "file_extension": ".py",
   "mimetype": "text/x-python",
   "name": "python",
   "nbconvert_exporter": "python",
   "pygments_lexer": "ipython3",
   "version": "3.9.1"
  }
 },
 "nbformat": 4,
 "nbformat_minor": 5
}
