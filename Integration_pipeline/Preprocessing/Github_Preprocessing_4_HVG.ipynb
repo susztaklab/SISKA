{
 "cells": [
  {
   "cell_type": "code",
   "execution_count": 1,
   "id": "ea724605",
   "metadata": {},
   "outputs": [
    {
     "name": "stderr",
     "output_type": "stream",
     "text": [
      "Global seed set to 0\n"
     ]
    },
    {
     "name": "stdout",
     "output_type": "stream",
     "text": [
      "-----\n",
      "anndata     0.8.0\n",
      "scanpy      1.9.1\n",
      "-----\n",
      "PIL                 9.2.0\n",
      "absl                NA\n",
      "asttokens           NA\n",
      "attr                22.1.0\n",
      "backcall            0.2.0\n",
      "cffi                1.15.1\n",
      "chex                0.1.5\n",
      "colorama            0.4.5\n",
      "constants           NA\n",
      "cycler              0.10.0\n",
      "cython_runtime      NA\n",
      "dateutil            2.8.2\n",
      "debugpy             1.6.3\n",
      "decorator           4.4.2\n",
      "defusedxml          0.7.1\n",
      "deprecate           0.3.2\n",
      "docrep              0.3.2\n",
      "entrypoints         0.4\n",
      "etils               0.8.0\n",
      "executing           1.0.0\n",
      "flax                0.6.0\n",
      "fsspec              2022.8.2\n",
      "google              NA\n",
      "h5py                3.7.0\n",
      "highs_wrapper       NA\n",
      "igraph              0.9.11\n",
      "ipykernel           6.15.3\n",
      "ipython_genutils    0.2.0\n",
      "ipywidgets          8.0.2\n",
      "jax                 0.3.17\n",
      "jaxlib              0.3.15\n",
      "jedi                0.18.0\n",
      "joblib              1.2.0\n",
      "kiwisolver          1.4.4\n",
      "leidenalg           0.8.10\n",
      "llvmlite            0.39.1\n",
      "louvain             0.8.0\n",
      "matplotlib          3.6.0\n",
      "mpl_toolkits        NA\n",
      "msgpack             1.0.4\n",
      "mudata              0.2.0\n",
      "multipledispatch    0.6.0\n",
      "natsort             8.2.0\n",
      "numba               0.56.2\n",
      "numpy               1.23.5\n",
      "numpyro             0.10.1\n",
      "opt_einsum          v3.3.0\n",
      "optax               0.1.3\n",
      "packaging           21.3\n",
      "pandas              1.3.0\n",
      "parso               0.8.1\n",
      "pexpect             4.8.0\n",
      "pickleshare         0.7.5\n",
      "pkg_resources       NA\n",
      "prompt_toolkit      3.0.16\n",
      "psutil              5.9.2\n",
      "ptyprocess          0.7.0\n",
      "pure_eval           0.2.2\n",
      "pydev_ipython       NA\n",
      "pydevconsole        NA\n",
      "pydevd              2.8.0\n",
      "pydevd_file_utils   NA\n",
      "pydevd_plugins      NA\n",
      "pydevd_tracing      NA\n",
      "pyexpat             NA\n",
      "pygments            2.13.0\n",
      "pyparsing           3.0.9\n",
      "pyro                1.8.2\n",
      "pytorch_lightning   1.6.5\n",
      "pytz                2021.1\n",
      "rich                NA\n",
      "scipy               1.6.0\n",
      "scvi                0.17.3\n",
      "session_info        1.0.0\n",
      "six                 1.15.0\n",
      "sklearn             1.1.2\n",
      "sphinxcontrib       NA\n",
      "stack_data          0.5.0\n",
      "tensorboard         2.10.0\n",
      "texttable           1.6.4\n",
      "threadpoolctl       3.1.0\n",
      "toolz               0.12.0\n",
      "torch               1.12.1+cu102\n",
      "torchmetrics        0.9.3\n",
      "tornado             6.2\n",
      "tqdm                4.64.1\n",
      "traitlets           5.4.0\n",
      "tree                0.1.7\n",
      "typing_extensions   NA\n",
      "virtualenvwrapper   NA\n",
      "wcwidth             0.2.5\n",
      "yaml                6.0\n",
      "zmq                 24.0.0\n",
      "-----\n",
      "IPython             8.5.0\n",
      "jupyter_client      7.3.5\n",
      "jupyter_core        4.11.1\n",
      "notebook            6.4.12\n",
      "-----\n",
      "Python 3.9.1 (default, Feb 11 2021, 12:28:03) [GCC 4.8.5 20150623 (Red Hat 4.8.5-39)]\n",
      "Linux-3.10.0-1127.el7.x86_64-x86_64-with-glibc2.17\n",
      "-----\n",
      "Session information updated at 2022-12-10 21:14\n"
     ]
    }
   ],
   "source": [
    "import sys\n",
    "import pandas as pd\n",
    "import numpy as np\n",
    "import matplotlib.pyplot as plt\n",
    "import anndata\n",
    "import scvi\n",
    "import scanpy as sc\n",
    "import matplotlib\n",
    "import os\n",
    "seed=10\n",
    "os.chdir(\".../Atlas/Cellnames/Atlas6\")\n",
    "sc.logging.print_versions()"
   ]
  },
  {
   "cell_type": "code",
   "execution_count": 2,
   "id": "4cbd852e",
   "metadata": {},
   "outputs": [],
   "source": [
    "#cell list for subsetting\n",
    "df = pd.read_csv('Atlas6.0_V1_cleaned.csv')"
   ]
  },
  {
   "cell_type": "code",
   "execution_count": null,
   "id": "5432ac86",
   "metadata": {},
   "outputs": [],
   "source": [
    "# adata file for input \n",
    "adata = scvi.data.read_h5ad(\".../Atlas/objects/Atlas6.0.h5ad\")\n",
    "\n",
    "#path for HVG file\n",
    "path_to_save = \".../Atlas/objects/Atlas6.1_3000HVG.h5ad\"\n",
    "adata"
   ]
  },
  {
   "cell_type": "code",
   "execution_count": 4,
   "id": "884ba8e6",
   "metadata": {},
   "outputs": [],
   "source": [
    "#rename .obs for scVI \n",
    "adata.obs['orig_ident']=adata.obs['orig.ident']\n",
    "adata.obs['percent_mt']=adata.obs['percent.mt']"
   ]
  },
  {
   "cell_type": "code",
   "execution_count": null,
   "id": "6c8d38ce",
   "metadata": {},
   "outputs": [],
   "source": [
    "subset_list=df['0']\n",
    "adata_subset=adata[adata.obs_names.isin(subset_list),:] \n",
    "adata_subset"
   ]
  },
  {
   "cell_type": "code",
   "execution_count": 6,
   "id": "c37b1191",
   "metadata": {},
   "outputs": [],
   "source": [
    "#save new Atlas 6.1 after cleaning step 1\n",
    "adata_subset.write('..../Atlas/objects/Atlas6.1.h5ad')"
   ]
  },
  {
   "cell_type": "code",
   "execution_count": 7,
   "id": "e015a114",
   "metadata": {},
   "outputs": [],
   "source": [
    "# HVG and Preprocessing steps\n",
    "adata_subset.layers[\"counts\"] = adata_subset.X.copy() # preserve counts\n",
    "sc.pp.normalize_total(adata_subset, target_sum=1e4)\n",
    "sc.pp.log1p(adata_subset)\n",
    "adata_subset.raw = adata_subset # freeze the state in `.raw`\n",
    "sc.pp.highly_variable_genes(\n",
    "    adata_subset,\n",
    "    n_top_genes=3000,\n",
    "    subset=True,\n",
    "    layer=\"counts\",\n",
    "    flavor=\"seurat_v3\",\n",
    "    batch_key=\"species\")"
   ]
  },
  {
   "cell_type": "code",
   "execution_count": null,
   "id": "06d3e80e",
   "metadata": {},
   "outputs": [],
   "source": [
    "adata_subset"
   ]
  },
  {
   "cell_type": "code",
   "execution_count": 9,
   "id": "3b077402",
   "metadata": {},
   "outputs": [],
   "source": [
    "# save HVG file\n",
    "adata_subset.write(path_to_save)"
   ]
  },
  {
   "cell_type": "code",
   "execution_count": null,
   "id": "78c69ecc",
   "metadata": {},
   "outputs": [],
   "source": [
    "adata_subset"
   ]
  }
 ],
 "metadata": {
  "kernelspec": {
   "display_name": "Python 3 (ipykernel)",
   "language": "python",
   "name": "python3"
  },
  "language_info": {
   "codemirror_mode": {
    "name": "ipython",
    "version": 3
   },
   "file_extension": ".py",
   "mimetype": "text/x-python",
   "name": "python",
   "nbconvert_exporter": "python",
   "pygments_lexer": "ipython3",
   "version": "3.9.1"
  }
 },
 "nbformat": 4,
 "nbformat_minor": 5
}
