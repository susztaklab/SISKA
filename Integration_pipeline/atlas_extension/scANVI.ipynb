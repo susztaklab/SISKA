{
 "cells": [
  {
   "cell_type": "code",
   "execution_count": null,
   "metadata": {
    "colab": {
     "base_uri": "https://localhost:8080/"
    },
    "id": "UIURpQSxr60r",
    "outputId": "ccc66ddd-0130-46a8-8d6e-5cf4ce940672"
   },
   "outputs": [
    {
     "name": "stdout",
     "output_type": "stream",
     "text": [
      "\u001b[34mINFO    \u001b[0m scvi-colab: Installing scvi-tools.                                                                        \n",
      "\u001b[34mINFO    \u001b[0m scvi-colab: Install successful. Testing import.                                                           \n"
     ]
    },
    {
     "name": "stderr",
     "output_type": "stream",
     "text": [
      "/usr/local/lib/python3.10/dist-packages/scvi/_settings.py:63: UserWarning: Since v1.0.0, scvi-tools no longer uses a random seed by default. Run `scvi.settings.seed = 0` to reproduce results from previous versions.\n",
      "  self.seed = seed\n",
      "/usr/local/lib/python3.10/dist-packages/scvi/_settings.py:70: UserWarning: Setting `dl_pin_memory_gpu_training` is deprecated in v1.0 and will be removed in v1.1. Please pass in `pin_memory` to the data loaders instead.\n",
      "  self.dl_pin_memory_gpu_training = (\n"
     ]
    },
    {
     "name": "stdout",
     "output_type": "stream",
     "text": [
      "\u001b[2K     \u001b[90m━━━━━━━━━━━━━━━━━━━━━━━━━━━━━━━━━━━━━━━━\u001b[0m \u001b[32m647.5/647.5 kB\u001b[0m \u001b[31m6.9 MB/s\u001b[0m eta \u001b[36m0:00:00\u001b[0ma \u001b[36m0:00:01\u001b[0m\n",
      "\u001b[?25h  Preparing metadata (setup.py) ... \u001b[?25l\u001b[?25hdone\n",
      "  Building wheel for annoy (setup.py) ... \u001b[?25l\u001b[?25hdone\n"
     ]
    },
    {
     "name": "stderr",
     "output_type": "stream",
     "text": [
      "INFO: Global seed set to 94705\n",
      "INFO:lightning.fabric.utilities.seed:Global seed set to 94705\n"
     ]
    },
    {
     "name": "stdout",
     "output_type": "stream",
     "text": [
      "Collecting anndata2ri\n",
      "  Downloading anndata2ri-1.3.1-py3-none-any.whl (27 kB)\n",
      "Requirement already satisfied: anndata in /usr/local/lib/python3.10/dist-packages (from anndata2ri) (0.10.3)\n",
      "Collecting rpy2>=3.5.2 (from anndata2ri)\n",
      "  Downloading rpy2-3.5.14.tar.gz (219 kB)\n",
      "\u001b[2K     \u001b[90m━━━━━━━━━━━━━━━━━━━━━━━━━━━━━━━━━━━━━━━━\u001b[0m \u001b[32m219.3/219.3 kB\u001b[0m \u001b[31m5.4 MB/s\u001b[0m eta \u001b[36m0:00:00\u001b[0m\n",
      "\u001b[?25h  Installing build dependencies ... \u001b[?25l\u001b[?25hdone\n",
      "  Getting requirements to build wheel ... \u001b[?25l\u001b[?25hdone\n",
      "  Preparing metadata (pyproject.toml) ... \u001b[?25l\u001b[?25hdone\n",
      "Requirement already satisfied: tzlocal in /usr/local/lib/python3.10/dist-packages (from anndata2ri) (5.2)\n",
      "Requirement already satisfied: cffi>=1.10.0 in /usr/local/lib/python3.10/dist-packages (from rpy2>=3.5.2->anndata2ri) (1.16.0)\n",
      "Requirement already satisfied: jinja2 in /usr/local/lib/python3.10/dist-packages (from rpy2>=3.5.2->anndata2ri) (3.1.2)\n",
      "Requirement already satisfied: array-api-compat in /usr/local/lib/python3.10/dist-packages (from anndata->anndata2ri) (1.4)\n",
      "Requirement already satisfied: exceptiongroup in /usr/local/lib/python3.10/dist-packages (from anndata->anndata2ri) (1.2.0)\n",
      "Requirement already satisfied: h5py>=3 in /usr/local/lib/python3.10/dist-packages (from anndata->anndata2ri) (3.9.0)\n",
      "Requirement already satisfied: natsort in /usr/local/lib/python3.10/dist-packages (from anndata->anndata2ri) (8.4.0)\n",
      "Requirement already satisfied: numpy>=1.16.5 in /usr/local/lib/python3.10/dist-packages (from anndata->anndata2ri) (1.23.5)\n",
      "Requirement already satisfied: packaging>=20 in /usr/local/lib/python3.10/dist-packages (from anndata->anndata2ri) (23.2)\n",
      "Requirement already satisfied: pandas!=2.1.0rc0,!=2.1.2,>=1.1.1 in /usr/local/lib/python3.10/dist-packages (from anndata->anndata2ri) (1.5.3)\n",
      "Requirement already satisfied: scipy>1.4 in /usr/local/lib/python3.10/dist-packages (from anndata->anndata2ri) (1.11.4)\n",
      "Requirement already satisfied: pycparser in /usr/local/lib/python3.10/dist-packages (from cffi>=1.10.0->rpy2>=3.5.2->anndata2ri) (2.21)\n",
      "Requirement already satisfied: python-dateutil>=2.8.1 in /usr/local/lib/python3.10/dist-packages (from pandas!=2.1.0rc0,!=2.1.2,>=1.1.1->anndata->anndata2ri) (2.8.2)\n",
      "Requirement already satisfied: pytz>=2020.1 in /usr/local/lib/python3.10/dist-packages (from pandas!=2.1.0rc0,!=2.1.2,>=1.1.1->anndata->anndata2ri) (2023.3.post1)\n",
      "Requirement already satisfied: MarkupSafe>=2.0 in /usr/local/lib/python3.10/dist-packages (from jinja2->rpy2>=3.5.2->anndata2ri) (2.1.3)\n",
      "Requirement already satisfied: six>=1.5 in /usr/local/lib/python3.10/dist-packages (from python-dateutil>=2.8.1->pandas!=2.1.0rc0,!=2.1.2,>=1.1.1->anndata->anndata2ri) (1.16.0)\n",
      "Building wheels for collected packages: rpy2\n",
      "  Building wheel for rpy2 (pyproject.toml) ... \u001b[?25l\u001b[?25hdone\n",
      "  Created wheel for rpy2: filename=rpy2-3.5.14-cp310-cp310-linux_x86_64.whl size=329837 sha256=2c4b81c2c1c804a02c00b091db2203a5abfbab76938c5ecc5ba7fd0130803ae8\n",
      "  Stored in directory: /root/.cache/pip/wheels/d4/b5/2f/529c5de71addd73d8e3c51104721d9e084c97ed2ce1c69de2d\n",
      "Successfully built rpy2\n",
      "Installing collected packages: rpy2, anndata2ri\n",
      "  Attempting uninstall: rpy2\n",
      "    Found existing installation: rpy2 3.4.2\n",
      "    Uninstalling rpy2-3.4.2:\n",
      "      Successfully uninstalled rpy2-3.4.2\n",
      "Successfully installed anndata2ri-1.3.1 rpy2-3.5.14\n",
      "Requirement already satisfied: session_info in /usr/local/lib/python3.10/dist-packages (1.0.0)\n",
      "Requirement already satisfied: stdlib-list in /usr/local/lib/python3.10/dist-packages (from session_info) (0.10.0)\n",
      "-----\n",
      "anndata     0.10.3\n",
      "scanpy      1.9.6\n",
      "-----\n",
      "PIL                 9.4.0\n",
      "absl                NA\n",
      "aiohttp             3.9.1\n",
      "aiosignal           1.3.1\n",
      "anndata2ri          1.3.1\n",
      "anyio               NA\n",
      "astunparse          1.6.3\n",
      "async_timeout       4.0.3\n",
      "attr                23.1.0\n",
      "backcall            0.2.0\n",
      "backoff             2.2.1\n",
      "bs4                 4.11.2\n",
      "certifi             2023.11.17\n",
      "cffi                1.16.0\n",
      "chardet             5.2.0\n",
      "charset_normalizer  3.3.2\n",
      "chex                0.1.7\n",
      "click               8.1.7\n",
      "cloudpickle         2.2.1\n",
      "colorama            0.4.6\n",
      "contextlib2         NA\n",
      "croniter            NA\n",
      "cupy                11.0.0\n",
      "cupy_backends       NA\n",
      "cupyx               NA\n",
      "cycler              0.12.1\n",
      "cython_runtime      NA\n",
      "dask                2023.8.1\n",
      "dateutil            2.8.2\n",
      "debugpy             1.6.6\n",
      "decorator           4.4.2\n",
      "deepdiff            6.7.1\n",
      "defusedxml          0.7.1\n",
      "docrep              0.3.2\n",
      "dot_parser          NA\n",
      "etils               1.5.2\n",
      "exceptiongroup      1.2.0\n",
      "fastapi             0.104.1\n",
      "fastrlock           0.8.2\n",
      "filelock            3.13.1\n",
      "flax                0.7.5\n",
      "frozenlist          1.4.0\n",
      "fsspec              2023.6.0\n",
      "google              NA\n",
      "graphviz            0.20.1\n",
      "h5py                3.9.0\n",
      "html5lib            1.1\n",
      "httplib2            0.22.0\n",
      "huggingface_hub     0.19.4\n",
      "idna                3.6\n",
      "igraph              0.10.8\n",
      "importlib_resources NA\n",
      "iniconfig           NA\n",
      "ipykernel           5.5.6\n",
      "ipython_genutils    0.2.0\n",
      "ipywidgets          7.7.1\n",
      "jax                 0.4.20\n",
      "jaxlib              0.4.20\n",
      "jinja2              3.1.2\n",
      "joblib              1.3.2\n",
      "jsonpickle          3.0.2\n",
      "kiwisolver          1.4.5\n",
      "leidenalg           0.10.1\n",
      "lightning           2.0.9.post0\n",
      "lightning_cloud     0.5.57\n",
      "lightning_utilities 0.10.0\n",
      "llvmlite            0.41.1\n",
      "lxml                4.9.3\n",
      "markupsafe          2.1.3\n",
      "matplotlib          3.7.1\n",
      "matplotlib_inline   0.1.6\n",
      "ml_collections      NA\n",
      "ml_dtypes           0.2.0\n",
      "mpl_toolkits        NA\n",
      "mpmath              1.3.0\n",
      "msgpack             1.0.7\n",
      "mudata              0.2.3\n",
      "multidict           6.0.4\n",
      "multipart           0.0.6\n",
      "multipledispatch    0.6.0\n",
      "natsort             8.4.0\n",
      "numba               0.58.1\n",
      "numexpr             2.8.7\n",
      "numpy               1.23.5\n",
      "numpyro             0.13.2\n",
      "opt_einsum          v3.3.0\n",
      "optax               0.1.7\n",
      "ordered_set         4.1.0\n",
      "packaging           23.2\n",
      "pandas              1.5.3\n",
      "param               2.0.1\n",
      "pexpect             4.9.0\n",
      "pickleshare         0.7.5\n",
      "pkg_resources       NA\n",
      "platformdirs        4.1.0\n",
      "plotly              5.15.0\n",
      "pluggy              1.3.0\n",
      "portpicker          NA\n",
      "prompt_toolkit      3.0.41\n",
      "psutil              5.9.5\n",
      "ptyprocess          0.7.0\n",
      "py                  NA\n",
      "pyarrow             9.0.0\n",
      "pycparser           2.21\n",
      "pydantic            1.10.13\n",
      "pydev_ipython       NA\n",
      "pydevconsole        NA\n",
      "pydevd              2.9.5\n",
      "pydevd_file_utils   NA\n",
      "pydevd_plugins      NA\n",
      "pydevd_tracing      NA\n",
      "pydot               1.4.2\n",
      "pygments            2.16.1\n",
      "pynndescent         0.5.11\n",
      "pyparsing           3.1.1\n",
      "pyro                1.8.6\n",
      "pytest              7.4.3\n",
      "pytz                2023.3.post1\n",
      "regex               2.5.129\n",
      "requests            2.31.0\n",
      "rich                NA\n",
      "rpy2                3.5.14\n",
      "safetensors         0.4.1\n",
      "scipy               1.11.4\n",
      "scvi                1.0.4\n",
      "scvi_colab          0.12.0\n",
      "session_info        1.0.0\n",
      "setuptools          67.7.2\n",
      "sitecustomize       NA\n",
      "six                 1.16.0\n",
      "sklearn             1.2.2\n",
      "sniffio             1.3.0\n",
      "socks               1.7.1\n",
      "soundfile           0.12.1\n",
      "soupsieve           2.5\n",
      "sparse              0.14.0\n",
      "sphinxcontrib       NA\n",
      "starlette           0.27.0\n",
      "storemagic          NA\n",
      "sympy               1.12\n",
      "tblib               3.0.0\n",
      "texttable           1.7.0\n",
      "threadpoolctl       3.2.0\n",
      "tlz                 0.12.0\n",
      "tokenizers          0.15.0\n",
      "tomli               2.0.1\n",
      "toolz               0.12.0\n",
      "torch               2.1.0+cu118\n",
      "torchaudio          2.1.0+cu118\n",
      "torchgen            NA\n",
      "torchmetrics        1.2.1\n",
      "torchvision         0.16.0+cu118\n",
      "tornado             6.3.2\n",
      "tqdm                4.66.1\n",
      "traitlets           5.7.1\n",
      "transformers        4.35.2\n",
      "tree                0.1.8\n",
      "typing_extensions   NA\n",
      "tzlocal             NA\n",
      "urllib3             2.0.7\n",
      "uvicorn             0.24.0.post1\n",
      "wcwidth             0.2.12\n",
      "webencodings        0.5.1\n",
      "websocket           1.7.0\n",
      "websockets          12.0\n",
      "wrapt               1.14.1\n",
      "xarray              2023.7.0\n",
      "xxhash              NA\n",
      "yaml                6.0.1\n",
      "yarl                1.9.3\n",
      "zipp                NA\n",
      "zmq                 23.2.1\n",
      "zoneinfo            NA\n",
      "-----\n",
      "IPython             7.34.0\n",
      "jupyter_client      6.1.12\n",
      "jupyter_core        5.5.0\n",
      "notebook            6.5.5\n",
      "-----\n",
      "Python 3.10.12 (main, Nov 20 2023, 15:14:05) [GCC 11.4.0]\n",
      "Linux-6.1.58+-x86_64-with-glibc2.35\n",
      "-----\n",
      "Session information updated at 2023-12-06 20:50\n"
     ]
    }
   ],
   "source": [
    "!pip install --quiet scvi-colab\n",
    "from scvi_colab import install\n",
    "install()\n",
    "\n",
    "\n",
    "import rich\n",
    "\n",
    "import sys\n",
    "IN_COLAB = \"google.colab\" in sys.modules\n",
    "if IN_COLAB:\n",
    "    !pip install --quiet scrublet\n",
    "    import warnings\n",
    "warnings.simplefilter(action='ignore', category=FutureWarning)\n",
    "\n",
    "import pandas as pd\n",
    "import numpy as np\n",
    "import matplotlib.pyplot as plt\n",
    "\n",
    "import anndata\n",
    "import scvi\n",
    "import scanpy as sc\n",
    "\n",
    "sc.set_figure_params(figsize=(4, 4))\n",
    "scvi.settings.seed = 94705\n",
    "\n",
    "%config InlineBackend.print_figure_kwargs={'facecolor' : \"w\"}\n",
    "%config InlineBackend.figure_format='retina'\n",
    "\n",
    "!pip install anndata2ri\n",
    "import anndata2ri\n",
    "\n",
    "!pip install session_info\n",
    "\n",
    "seed=10\n",
    "sc.logging.print_versions()"
   ]
  },
  {
   "cell_type": "code",
   "execution_count": null,
   "metadata": {
    "id": "3UnIfZuPrhUZ"
   },
   "outputs": [],
   "source": [
    "#load reference adata\n",
    "adata = scvi.data.read_h5ad(\".../Atlas_human_extension_II_3000HVG_cleaned2.h5ad\")\n"
   ]
  },
  {
   "cell_type": "code",
   "execution_count": null,
   "metadata": {
    "colab": {
     "base_uri": "https://localhost:8080/"
    },
    "id": "gABHbQJwHkE5",
    "outputId": "eb706b3e-6afe-4828-d225-0eb425d30a6a"
   },
   "outputs": [],
   "source": [
    "model = scvi.model.SCVI.load(\"/path/to/model/\", adata=adata, use_gpu=True)\n",
    "model\n"
   ]
  },
  {
   "cell_type": "code",
   "execution_count": null,
   "metadata": {
    "colab": {
     "base_uri": "https://localhost:8080/"
    },
    "id": "I6Zt5W_UVor4",
    "outputId": "034ab12c-c686-4dde-a0d7-a20ce8c12a29"
   },
   "outputs": [],
   "source": [
    "adata"
   ]
  },
  {
   "cell_type": "code",
   "execution_count": null,
   "metadata": {
    "id": "-khnvPbR-b5E"
   },
   "outputs": [],
   "source": [
    "seed = 10"
   ]
  },
  {
   "cell_type": "code",
   "execution_count": null,
   "metadata": {
    "id": "3_lH4HNUMcqC"
   },
   "outputs": [],
   "source": [
    "adata_path = \"/content/drive/MyDrive/Konstantin/Atlas_human_extension_II_3000HVG_cleaned2.h5ad\"\n",
    "model_path = \"/content/drive/MyDrive/Konstantin/models_graz/scanvi_2\""
   ]
  },
  {
   "cell_type": "code",
   "execution_count": null,
   "metadata": {
    "colab": {
     "base_uri": "https://localhost:8080/",
     "height": 100
    },
    "id": "1JSy0d86NK_o",
    "outputId": "78fe7679-c43e-4a0d-bde0-9b46c9acb8c9"
   },
   "outputs": [
    {
     "data": {
      "text/html": [
       "<pre style=\"white-space:pre;overflow-x:auto;line-height:normal;font-family:Menlo,'DejaVu Sans Mono',consolas,'Courier New',monospace\">SCVI Model with the following params: \n",
       "n_hidden: <span style=\"color: #008080; text-decoration-color: #008080; font-weight: bold\">128</span>, n_latent: <span style=\"color: #008080; text-decoration-color: #008080; font-weight: bold\">30</span>, n_layers: <span style=\"color: #008080; text-decoration-color: #008080; font-weight: bold\">3</span>, dropout_rate: <span style=\"color: #008080; text-decoration-color: #008080; font-weight: bold\">0.1</span>, dispersion: gene, gene_likelihood: nb, \n",
       "latent_distribution: normal\n",
       "Training status: Trained\n",
       "Model's adata is minified?: <span style=\"color: #ff0000; text-decoration-color: #ff0000; font-style: italic\">False</span>\n",
       "</pre>\n"
      ],
      "text/plain": [
       "SCVI Model with the following params: \n",
       "n_hidden: \u001b[1;36m128\u001b[0m, n_latent: \u001b[1;36m30\u001b[0m, n_layers: \u001b[1;36m3\u001b[0m, dropout_rate: \u001b[1;36m0.1\u001b[0m, dispersion: gene, gene_likelihood: nb, \n",
       "latent_distribution: normal\n",
       "Training status: Trained\n",
       "Model's adata is minified?: \u001b[3;91mFalse\u001b[0m\n"
      ]
     },
     "metadata": {},
     "output_type": "display_data"
    },
    {
     "data": {
      "text/plain": []
     },
     "execution_count": 7,
     "metadata": {},
     "output_type": "execute_result"
    }
   ],
   "source": [
    "model"
   ]
  },
  {
   "cell_type": "code",
   "execution_count": null,
   "metadata": {
    "id": "ssqqtNGUNAPt"
   },
   "outputs": [],
   "source": [
    "scanvi_model = scvi.model.SCANVI.from_scvi_model(model, labels_key=\"annotation_final_level1B\", unlabeled_category = \"Unknown\")"
   ]
  },
  {
   "cell_type": "code",
   "execution_count": null,
   "metadata": {
    "colab": {
     "background_save": true,
     "base_uri": "https://localhost:8080/"
    },
    "id": "KoOPkG8BN14f",
    "outputId": "9aeaa7d1-a4df-4b3e-aa50-c866bd4af16b"
   },
   "outputs": [
    {
     "name": "stdout",
     "output_type": "stream",
     "text": [
      "\u001b[34mINFO    \u001b[0m Training for \u001b[1;36m100\u001b[0m epochs.                                                                                  \n"
     ]
    },
    {
     "name": "stderr",
     "output_type": "stream",
     "text": [
      "INFO: GPU available: True (cuda), used: True\n",
      "INFO:lightning.pytorch.utilities.rank_zero:GPU available: True (cuda), used: True\n",
      "INFO: TPU available: False, using: 0 TPU cores\n",
      "INFO:lightning.pytorch.utilities.rank_zero:TPU available: False, using: 0 TPU cores\n",
      "INFO: IPU available: False, using: 0 IPUs\n",
      "INFO:lightning.pytorch.utilities.rank_zero:IPU available: False, using: 0 IPUs\n",
      "INFO: HPU available: False, using: 0 HPUs\n",
      "INFO:lightning.pytorch.utilities.rank_zero:HPU available: False, using: 0 HPUs\n",
      "INFO: LOCAL_RANK: 0 - CUDA_VISIBLE_DEVICES: [0]\n",
      "INFO:lightning.pytorch.accelerators.cuda:LOCAL_RANK: 0 - CUDA_VISIBLE_DEVICES: [0]\n"
     ]
    },
    {
     "name": "stdout",
     "output_type": "stream",
     "text": [
      "Epoch 100/100: 100%|██████████| 100/100 [4:15:32<00:00, 152.80s/it, v_num=1, train_loss_step=1.11e+3, train_loss_epoch=1.04e+3]"
     ]
    },
    {
     "name": "stderr",
     "output_type": "stream",
     "text": [
      "INFO: `Trainer.fit` stopped: `max_epochs=100` reached.\n",
      "INFO:lightning.pytorch.utilities.rank_zero:`Trainer.fit` stopped: `max_epochs=100` reached.\n"
     ]
    },
    {
     "name": "stdout",
     "output_type": "stream",
     "text": [
      "Epoch 100/100: 100%|██████████| 100/100 [4:15:32<00:00, 153.32s/it, v_num=1, train_loss_step=1.11e+3, train_loss_epoch=1.04e+3]\n"
     ]
    }
   ],
   "source": [
    "\n",
    "\n",
    "\n",
    "scanvi_model.train(max_epochs = 100, plan_kwargs={\"lr\":0.001}, early_stopping = True, early_stopping_patience = 15)\n",
    "\n",
    "\n"
   ]
  },
  {
   "cell_type": "code",
   "execution_count": null,
   "metadata": {
    "colab": {
     "background_save": true
    },
    "id": "O5eTfICd4dcu"
   },
   "outputs": [],
   "source": [
    "scanvi_model.save(model_path)"
   ]
  },
  {
   "cell_type": "code",
   "execution_count": null,
   "metadata": {
    "colab": {
     "background_save": true
    },
    "id": "OuHA314vN11o"
   },
   "outputs": [],
   "source": [
    "adata.obs[\"C_scANVI\"] = scanvi_model.predict(adata)\n",
    "adata.obsm[\"X_scANVI\"] = scanvi_model.get_latent_representation(adata)"
   ]
  },
  {
   "cell_type": "code",
   "execution_count": null,
   "metadata": {
    "colab": {
     "background_save": true
    },
    "id": "C7w1yIhrN1yp"
   },
   "outputs": [],
   "source": [
    "sc.pp.neighbors(adata, use_rep=\"X_scANVI\")\n",
    "sc.tl.umap(adata)"
   ]
  },
  {
   "cell_type": "code",
   "execution_count": null,
   "metadata": {
    "colab": {
     "background_save": true
    },
    "id": "UCWBho0iLKhL"
   },
   "outputs": [],
   "source": [
    "adata.write(adata_path)\n"
   ]
  }
 ],
 "metadata": {
  "accelerator": "GPU",
  "colab": {
   "machine_shape": "hm",
   "provenance": []
  },
  "gpuClass": "standard",
  "kernelspec": {
   "display_name": "Python 3 (ipykernel)",
   "language": "python",
   "name": "python3"
  },
  "language_info": {
   "codemirror_mode": {
    "name": "ipython",
    "version": 3
   },
   "file_extension": ".py",
   "mimetype": "text/x-python",
   "name": "python",
   "nbconvert_exporter": "python",
   "pygments_lexer": "ipython3",
   "version": "3.8.15"
  }
 },
 "nbformat": 4,
 "nbformat_minor": 4
}
