{
 "cells": [
  {
   "cell_type": "code",
   "execution_count": null,
   "id": "f43d15a3-56f9-4a09-b705-e54fadb68831",
   "metadata": {
    "tags": []
   },
   "outputs": [],
   "source": [
    "import sys\n",
    "import pandas as pd\n",
    "import numpy as np\n",
    "import anndata\n",
    "import scvi\n",
    "import scanpy as sc\n",
    "import matplotlib\n",
    "import os\n",
    "\n",
    "seed = 10\n",
    "\n",
    "scvi.settings.seed = 10\n",
    "\n",
    "sc.logging.print_versions()\n",
    "\n"
   ]
  },
  {
   "cell_type": "code",
   "execution_count": null,
   "id": "12a9567f-3ebf-4003-97f5-0d25ae205bd5",
   "metadata": {},
   "outputs": [],
   "source": [
    "celltypes = [\"TAL_MD\", \"TL\", \"Immune\", \"PT\", \"DT\", \"EC_Stromal\", \"IC\", \n",
    "            \"PEC\"]\n",
    "\n",
    "#celltypes = adata_raw.obs.annotation_level0.unique().tolist()\n",
    "\n",
    "for celltype in celltypes: \n",
    "    \n",
    "    path_to_save = f'.../Atlas/human_extension/Cleaning_II/Sub_cleaning/{celltype}/scVI'\n",
    "\n",
    "    path_to_save_anndata = f'.../Atlas/human_extension/Cleaning_II/Sub_cleaning/{celltype}/{celltype}_subcluster.h5ad'\n",
    "\n",
    "    adata = sc.read(path_to_save_anndata)\n",
    "    model = scvi.model.SCVI.load(path_to_save, adata=adata, use_gpu=False)\n",
    "\n",
    "    sc.pl.umap(adata, color=['proj'])\n",
    "\n",
    "    sc.pl.umap(adata, color=['leiden_scVI_3_0'], legend_loc='on data')\n",
    "\n",
    "    sc.pl.umap(adata, color=\"nCount_RNA\", vmax = 10000)\n",
    "    sc.pl.umap(adata, color=\"nFeature_RNA\", vmax = 5000)\n",
    "    sc.pl.umap(adata, color=\"percent_mt\", vmax = 10)\n",
    "    \n",
    "    sc.set_figure_params(figsize=(15,5))\n",
    "\n",
    "    sc.pl.violin(adata, keys='nCount_RNA', groupby='leiden_scVI_3_0', rotation=90)\n",
    "    sc.pl.violin(adata, keys='nFeature_RNA', groupby='leiden_scVI_3_0', rotation=90)\n",
    "    sc.pl.violin(adata, keys='percent_mt', groupby='leiden_scVI_3_0', rotation=90)\n",
    "\n",
    "    sc.set_figure_params(figsize=(5,5))\n",
    "\n",
    "    goi = [\"NPHS1\", \"NPHS2\", \"WT1\", \"ALDH1A2\", \n",
    "       \"FAM189A1\", \"SLC5A2\", \"SLC7A7\", \n",
    "       \"SLC5A12\", \"SLC13A1\", \"SLC13A3\", \"SLC13A2\", \"GRAMD1B\", \"SLC6A18\",\n",
    "       \"SLC7A13\", \"CREB5\", \"ADAMTS1\", \"C3\", \"DIAPH3\", \"TOP2A\", \n",
    "       \"SMC4\", \"PROSER2\", \"CRYAB\", \"EPHA7\", \"NOS1\", \"PAPPA2\", \"ENOX1\", \"SLC12A1\", \"CASR\", \n",
    "       \"UMOD\", \"LAMC2\", \"TRPM7\", \"SLC12A3\", \n",
    "       \"KLHL3\", \"SLC8A1\", \"SCNN1B\", \n",
    "       \"SCNN1G\", \"AQP2\", \"AQP3\", \"FXYD4\", \"ELF5\", \"DCDC2\", \"KIT\", \n",
    "       \"SLC4A1\", \"DMRT2\", \"ATP6V0D2\", \"SLC26A4\", \"INSRR\", \"ARHGAP15\", \"PTPRC\", \"IKZF1\", \"LAMA2\", \n",
    "       \"MEIS1\", \"EBF1\", \"FLT1\", \"PTPRB\", \"EMCN\"]\n",
    "\n",
    "    #dot plot with marker genes\n",
    "    sc.pl.dotplot(\n",
    "    adata,\n",
    "    goi,\n",
    "    groupby='leiden_scVI_3_0',\n",
    "    dendrogram=True,\n",
    "    color_map=\"Blues\",\n",
    "    swap_axes=False,\n",
    "    standard_scale=\"var\",\n",
    "    )"
   ]
  }
 ],
 "metadata": {
  "kernelspec": {
   "display_name": "scvi-pip",
   "language": "python",
   "name": "scvi-pip"
  },
  "language_info": {
   "codemirror_mode": {
    "name": "ipython",
    "version": 3
   },
   "file_extension": ".py",
   "mimetype": "text/x-python",
   "name": "python",
   "nbconvert_exporter": "python",
   "pygments_lexer": "ipython3",
   "version": "3.9.18"
  }
 },
 "nbformat": 4,
 "nbformat_minor": 5
}
