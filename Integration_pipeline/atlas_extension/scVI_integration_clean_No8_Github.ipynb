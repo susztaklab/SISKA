{
 "cells": [
  {
   "cell_type": "code",
   "execution_count": null,
   "id": "f43d15a3-56f9-4a09-b705-e54fadb68831",
   "metadata": {
    "tags": []
   },
   "outputs": [],
   "source": [
    "import sys\n",
    "import pandas as pd\n",
    "import numpy as np\n",
    "import anndata\n",
    "import scvi\n",
    "import scanpy as sc\n",
    "import matplotlib\n",
    "import os\n",
    "\n",
    "seed = 10\n",
    "\n",
    "scvi.settings.seed = 10\n",
    "\n",
    "sc.logging.print_versions()\n",
    "\n",
    "path_to_save = \".../Atlas/human_extension/scVI/A_Ext_II_No2\"\n",
    "\n"
   ]
  },
  {
   "cell_type": "code",
   "execution_count": null,
   "id": "6b6eaf37-369a-4827-95a5-b0778d277d47",
   "metadata": {
    "tags": []
   },
   "outputs": [],
   "source": [
    "adata = sc.read(\".../Atlas/Atlas_human_extension_II.h5ad\")\n",
    "adata"
   ]
  },
  {
   "cell_type": "code",
   "execution_count": null,
   "id": "9f539f64-1be8-46b3-b65a-3828cebb5df9",
   "metadata": {
    "tags": []
   },
   "outputs": [],
   "source": [
    "\n",
    "# Step 1: Read Barcodes from CSV Files\n",
    "folder_path = '.../Atlas/human_extension/Cleaning_II/removed_barcodes'  # Replace with your folder path\n",
    "all_barcodes = set()\n",
    "\n",
    "for filename in os.listdir(folder_path):\n",
    "    if filename.endswith('.csv'):\n",
    "        file_path = os.path.join(folder_path, filename)\n",
    "        barcodes = pd.read_csv(file_path, header=0)\n",
    "        barcodes = barcodes[\"Barcodes\"].tolist()\n",
    "        all_barcodes.update(barcodes)\n",
    "\n",
    "\n",
    "# Step 3: Filter the AnnData Object\n",
    "adata = adata[~adata.obs_names.isin(all_barcodes)].copy()\n",
    "\n",
    "adata = adata[~adata.obs.doubletfinder.isin([\"Doublet\"])].copy()\n"
   ]
  },
  {
   "cell_type": "code",
   "execution_count": null,
   "id": "cfa1716a-15cb-420d-ab3e-d0dc06f596bf",
   "metadata": {
    "tags": []
   },
   "outputs": [],
   "source": [
    "#change batch key to species\n",
    "\n",
    "adata.layers[\"counts\"] = adata.X.copy() # preserve counts\n",
    "sc.pp.normalize_total(adata, target_sum=1e4)\n",
    "sc.pp.log1p(adata)\n",
    "adata.raw = adata # freeze the state in `.raw`\n",
    "sc.pp.highly_variable_genes(\n",
    "    adata,\n",
    "    n_top_genes=3000,\n",
    "    subset=True,\n",
    "    layer=\"counts\",\n",
    "    flavor=\"seurat_v3\",\n",
    "    batch_key=\"proj\")"
   ]
  },
  {
   "cell_type": "code",
   "execution_count": 6,
   "id": "bfedbea1-e092-443b-a2da-eeba857a8328",
   "metadata": {
    "execution": {
     "iopub.execute_input": "2023-12-06T03:04:35.753770Z",
     "iopub.status.busy": "2023-12-06T03:04:35.753430Z",
     "iopub.status.idle": "2023-12-06T03:05:21.474696Z",
     "shell.execute_reply": "2023-12-06T03:05:21.473911Z"
    }
   },
   "outputs": [],
   "source": [
    "\n",
    "\n",
    "adata.write(\".../Atlas/Atlas_human_extension_II_3000HVG_cleaned2.h5ad\")\n",
    "\n"
   ]
  },
  {
   "cell_type": "code",
   "execution_count": 7,
   "id": "d8b62809-5331-4322-a5ce-9bc69fc697a4",
   "metadata": {
    "execution": {
     "iopub.execute_input": "2023-12-06T03:05:21.478120Z",
     "iopub.status.busy": "2023-12-06T03:05:21.477712Z",
     "iopub.status.idle": "2023-12-06T06:52:00.984004Z",
     "shell.execute_reply": "2023-12-06T06:52:00.983443Z"
    }
   },
   "outputs": [
    {
     "name": "stderr",
     "output_type": "stream",
     "text": [
      "WARNING: All log messages before absl::InitializeLog() is called are written to STDERR\n",
      "I0000 00:00:1701831921.485895  338380 tfrt_cpu_pjrt_client.cc:349] TfrtCpuClient created.\n",
      "No GPU/TPU found, falling back to CPU. (Set TF_CPP_MIN_LOG_LEVEL=0 and rerun for more info.)\n",
      "GPU available: True (cuda), used: True\n",
      "TPU available: False, using: 0 TPU cores\n",
      "IPU available: False, using: 0 IPUs\n",
      "HPU available: False, using: 0 HPUs\n",
      "You are using a CUDA device ('NVIDIA A100 80GB PCIe') that has Tensor Cores. To properly utilize them, you should set `torch.set_float32_matmul_precision('medium' | 'high')` which will trade-off precision for performance. For more details, read https://pytorch.org/docs/stable/generated/torch.set_float32_matmul_precision.html#torch.set_float32_matmul_precision\n",
      "LOCAL_RANK: 0 - CUDA_VISIBLE_DEVICES: [3]\n",
      "SLURM auto-requeueing enabled. Setting signal handlers.\n"
     ]
    },
    {
     "name": "stdout",
     "output_type": "stream",
     "text": [
      "Epoch 393/600:  66%|██████▌   | 393/600 [3:46:25<1:59:15, 34.57s/it, v_num=1, train_loss_step=913, train_loss_epoch=951]\n",
      "Monitored metric elbo_validation did not improve in the last 15 records. Best score: 948.971. Signaling Trainer to stop.\n"
     ]
    }
   ],
   "source": [
    "\n",
    "scvi.model.SCVI.setup_anndata(\n",
    "    adata,\n",
    "    batch_key=\"proj\",\n",
    "    layer=\"counts\", categorical_covariate_keys=[\"orig_ident\"],\n",
    "    continuous_covariate_keys=[\"percent_mt\"])\n",
    "model = scvi.model.SCVI(adata)\n",
    "model\n",
    "vae = scvi.model.SCVI(adata, n_layers=3, n_latent=30, gene_likelihood=\"nb\", dropout_rate=0.1)\n",
    "vae.train(max_epochs = 600, plan_kwargs={\"lr\":0.001}, early_stopping = True, early_stopping_patience = 15)\n",
    "model = vae"
   ]
  },
  {
   "cell_type": "code",
   "execution_count": 8,
   "id": "67261b4a-65cd-48e5-a171-44fd5b34487f",
   "metadata": {
    "execution": {
     "iopub.execute_input": "2023-12-06T06:52:00.986606Z",
     "iopub.status.busy": "2023-12-06T06:52:00.986269Z",
     "iopub.status.idle": "2023-12-06T06:52:01.193846Z",
     "shell.execute_reply": "2023-12-06T06:52:01.193306Z"
    }
   },
   "outputs": [],
   "source": [
    "model.save(path_to_save, overwrite = True)"
   ]
  },
  {
   "cell_type": "code",
   "execution_count": 9,
   "id": "40de6286-634f-4800-ba73-fa96033d6fbb",
   "metadata": {
    "execution": {
     "iopub.execute_input": "2023-12-06T06:52:01.196805Z",
     "iopub.status.busy": "2023-12-06T06:52:01.196162Z",
     "iopub.status.idle": "2023-12-06T06:52:35.598773Z",
     "shell.execute_reply": "2023-12-06T06:52:35.597991Z"
    }
   },
   "outputs": [],
   "source": [
    "latent = model.get_latent_representation()\n",
    "adata.obsm[\"X_scVI\"] = latent\n",
    "adata.layers[\"scvi_normalized\"] = model.get_normalized_expression(\n",
    "    library_size=10e4)"
   ]
  },
  {
   "cell_type": "code",
   "execution_count": 10,
   "id": "c38434e0-062a-4503-bd74-fd5d469db5a0",
   "metadata": {
    "execution": {
     "iopub.execute_input": "2023-12-06T06:52:35.601769Z",
     "iopub.status.busy": "2023-12-06T06:52:35.601365Z",
     "iopub.status.idle": "2023-12-06T07:04:26.916255Z",
     "shell.execute_reply": "2023-12-06T07:04:26.915370Z"
    }
   },
   "outputs": [],
   "source": [
    "sc.pp.neighbors(adata, n_pcs=30, use_rep=\"X_scVI\", random_state=seed)\n",
    "sc.tl.umap(adata, min_dist=0.3, random_state=seed)"
   ]
  },
  {
   "cell_type": "code",
   "execution_count": 12,
   "id": "7d554513-b700-475c-8d3d-dad46c09ff9f",
   "metadata": {
    "execution": {
     "iopub.execute_input": "2023-12-06T07:04:29.181745Z",
     "iopub.status.busy": "2023-12-06T07:04:29.181364Z",
     "iopub.status.idle": "2023-12-06T07:05:57.225603Z",
     "shell.execute_reply": "2023-12-06T07:05:57.224337Z"
    }
   },
   "outputs": [],
   "source": [
    "\n",
    "adata.write(\".../Atlas/Atlas_human_extension_II_3000HVG_cleaned2_integrated.h5ad\")"
   ]
  }
 ],
 "metadata": {
  "kernelspec": {
   "display_name": "scvi-pip",
   "language": "python",
   "name": "scvi-pip"
  },
  "language_info": {
   "codemirror_mode": {
    "name": "ipython",
    "version": 3
   },
   "file_extension": ".py",
   "mimetype": "text/x-python",
   "name": "python",
   "nbconvert_exporter": "python",
   "pygments_lexer": "ipython3",
   "version": "3.9.18"
  }
 },
 "nbformat": 4,
 "nbformat_minor": 5
}
