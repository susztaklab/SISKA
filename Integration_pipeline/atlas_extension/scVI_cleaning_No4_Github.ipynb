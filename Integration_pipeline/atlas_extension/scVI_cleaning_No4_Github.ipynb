{
 "cells": [
  {
   "cell_type": "code",
   "execution_count": null,
   "id": "f43d15a3-56f9-4a09-b705-e54fadb68831",
   "metadata": {},
   "outputs": [],
   "source": [
    "import sys\n",
    "import pandas as pd\n",
    "import numpy as np\n",
    "import anndata\n",
    "import scvi\n",
    "import scanpy as sc\n",
    "import matplotlib\n",
    "import os\n",
    "\n",
    "seed = 10\n",
    "\n",
    "scvi.settings.seed = 10\n",
    "\n",
    "sc.logging.print_versions()\n",
    "\n"
   ]
  },
  {
   "cell_type": "code",
   "execution_count": null,
   "id": "6b6eaf37-369a-4827-95a5-b0778d277d47",
   "metadata": {},
   "outputs": [],
   "source": [
    "adata = sc.read(\".../Atlas/Atlas_human_extension_II_3000HVG_integrated_cleaned1.h5ad\")\n",
    "adata"
   ]
  },
  {
   "cell_type": "code",
   "execution_count": null,
   "id": "94091e6c-58b1-4e17-a2bf-f51f0c3aed3c",
   "metadata": {},
   "outputs": [],
   "source": [
    "sc.pl.umap(adata, color=['proj'])\n",
    "sc.pl.umap(adata, color=['annotation_final_level1B'], legend_loc = \"on data\")\n",
    "sc.pl.umap(adata, color=['annotation_final_level1'], legend_loc = \"on data\")\n",
    "sc.pl.umap(adata, color=['leiden_scVI_0_5'], legend_loc = \"on data\")\n",
    "\n"
   ]
  },
  {
   "cell_type": "code",
   "execution_count": null,
   "id": "36f9ec75-c925-4b26-ac6a-c5bd24a4c8eb",
   "metadata": {},
   "outputs": [],
   "source": [
    "adata.obs[\"annotation_level0\"] = adata.obs.leiden_scVI_0_5\n",
    "\n",
    "label_mapping = {\n",
    "    '0': 'TAL_MD',\n",
    "    '1': 'PT',\n",
    "    '2': 'DT',\n",
    "    '3': 'EC_Stromal',\n",
    "    '4': 'PT',\n",
    "    '5': 'EC_Stromal',\n",
    "    '6': 'DT',\n",
    "    '7': 'TAL_MD',\n",
    "    '8': 'IC',\n",
    "    '9': 'TL',\n",
    "    '10': 'Immune',\n",
    "    '11': 'Immune',\n",
    "    '12': 'Podo',\n",
    "    '13': 'EC_Stromal',\n",
    "    '14': 'IC',\n",
    "    '15': 'PEC',\n",
    "    '16': 'DT',\n",
    "    '17': 'EC_Stromal',\n",
    "    '18': 'EC_Stromal',\n",
    "\n",
    "\n",
    "\n",
    "}\n",
    "\n",
    "# Replace old labels with new annotations in adata.obs[\"annotation_level1\"]\n",
    "adata.obs[\"annotation_level0\"] = adata.obs[\"annotation_level0\"].replace(label_mapping)\n",
    "\n"
   ]
  },
  {
   "cell_type": "code",
   "execution_count": null,
   "id": "6fe349de-7a35-4c88-b36a-0f72ebed2dc6",
   "metadata": {},
   "outputs": [],
   "source": [
    "cells_keep = adata.obs_names.unique().tolist()"
   ]
  },
  {
   "cell_type": "code",
   "execution_count": null,
   "id": "e916e57e-81ec-4e03-9358-5667523cefd4",
   "metadata": {},
   "outputs": [],
   "source": [
    "adata_raw = sc.read(\".../Atlas/Atlas_human_extension_II.h5ad\")\n",
    "\n",
    "adata_raw"
   ]
  },
  {
   "cell_type": "code",
   "execution_count": null,
   "id": "7f468a0e-c0f6-4af6-bbf1-43660481abb7",
   "metadata": {},
   "outputs": [],
   "source": [
    "adata_raw = adata_raw[adata_raw.obs_names.isin(cells_keep)]\n",
    "\n",
    "adata_raw.obs[\"annotation_level0\"] = adata.obs[\"annotation_level0\"]"
   ]
  },
  {
   "cell_type": "code",
   "execution_count": null,
   "id": "12a9567f-3ebf-4003-97f5-0d25ae205bd5",
   "metadata": {
    "tags": []
   },
   "outputs": [],
   "source": [
    "celltypes = [\"Podo\"]\n",
    "\n",
    "#celltypes = adata_raw.obs.annotation_level0.unique().tolist()\n",
    "\n",
    "for celltype in celltypes: \n",
    "    \n",
    "    directory = f'.../Atlas/human_extension/Cleaning_II/Sub_cleaning/{celltype}'\n",
    "    os.makedirs(directory, exist_ok=True)\n",
    "    \n",
    "    path_to_save = f'.../Atlas/human_extension/Cleaning_II/Sub_cleaning/{celltype}/scVI'\n",
    "\n",
    "    path_to_save_anndata = f'.../Atlas/human_extension/Cleaning_II/Sub_cleaning/{celltype}/{celltype}_subcluster.h5ad'\n",
    "\n",
    "    adata = adata_raw[adata_raw.obs.annotation_level0==celltype].copy()\n",
    "\n",
    "    adata.layers[\"counts\"] = adata.X.copy() # preserve counts\n",
    "    sc.pp.normalize_total(adata, target_sum=1e4)\n",
    "    sc.pp.log1p(adata)\n",
    "    adata.raw = adata # freeze the state in `.raw`\n",
    "    sc.pp.highly_variable_genes(\n",
    "        adata,\n",
    "        n_top_genes=3000,\n",
    "        subset=True,\n",
    "        layer=\"counts\",\n",
    "        flavor=\"seurat_v3\",\n",
    "        #batch_key=\"proj\", \n",
    "        span = 0.5) #we increase span based on the experienced \"There are other near singularities as well\" error\n",
    "\n",
    "    scvi.model.SCVI.setup_anndata(\n",
    "        adata,\n",
    "        batch_key=\"proj\",\n",
    "        layer=\"counts\", categorical_covariate_keys=[\"orig_ident\"],\n",
    "        continuous_covariate_keys=[\"percent_mt\"])\n",
    "    model = scvi.model.SCVI(adata)\n",
    "    model\n",
    "    vae = scvi.model.SCVI(adata, n_layers=3, n_latent=50, gene_likelihood=\"nb\", dropout_rate=0.1)\n",
    "    vae.train(max_epochs = 600, plan_kwargs={\"lr\":0.001}, early_stopping = True, early_stopping_patience = 15)\n",
    "    model = vae\n",
    "\n",
    "    model.save(path_to_save, overwrite = True)\n",
    "\n",
    "    latent = model.get_latent_representation()\n",
    "    adata.obsm[\"X_scVI\"] = latent\n",
    "    adata.layers[\"scvi_normalized\"] = model.get_normalized_expression(\n",
    "        library_size=10e4)\n",
    "\n",
    "    sc.pp.neighbors(adata, n_pcs=50, use_rep=\"X_scVI\", random_state=seed)\n",
    "    \n",
    "    sc.tl.umap(adata, min_dist=0.3, random_state=seed)\n",
    "\n",
    "    sc.pl.umap(adata, color=['proj'])\n",
    "\n",
    "    sc.tl.leiden(adata, key_added=\"leiden_scVI_3_0\", resolution=3.0, random_state=seed)\n",
    "\n",
    "    sc.pl.umap(adata, color=['leiden_scVI_3_0'], legend_loc='on data')\n",
    "\n",
    "    sc.set_figure_params(figsize=(15,5))\n",
    "\n",
    "    sc.pl.violin(adata, keys='nCount_RNA', groupby='leiden_scVI_3_0', rotation=90)\n",
    "    sc.pl.violin(adata, keys='nFeature_RNA', groupby='leiden_scVI_3_0', rotation=90)\n",
    "    sc.pl.violin(adata, keys='percent_mt', groupby='leiden_scVI_3_0', rotation=90)\n",
    "\n",
    "    sc.set_figure_params(figsize=(5,5))\n",
    "\n",
    "    adata.write(path_to_save_anndata)"
   ]
  }
 ],
 "metadata": {
  "kernelspec": {
   "display_name": "scvi-pip",
   "language": "python",
   "name": "scvi-pip"
  },
  "language_info": {
   "codemirror_mode": {
    "name": "ipython",
    "version": 3
   },
   "file_extension": ".py",
   "mimetype": "text/x-python",
   "name": "python",
   "nbconvert_exporter": "python",
   "pygments_lexer": "ipython3",
   "version": "3.9.18"
  }
 },
 "nbformat": 4,
 "nbformat_minor": 5
}
