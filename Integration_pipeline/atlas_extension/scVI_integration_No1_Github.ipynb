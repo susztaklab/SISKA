{
 "cells": [
  {
   "cell_type": "code",
   "execution_count": null,
   "id": "f43d15a3-56f9-4a09-b705-e54fadb68831",
   "metadata": {},
   "outputs": [],
   "source": [
    "import sys\n",
    "import pandas as pd\n",
    "import numpy as np\n",
    "import anndata\n",
    "import scvi\n",
    "import scanpy as sc\n",
    "import matplotlib\n",
    "\n",
    "seed = 10\n",
    "\n",
    "scvi.settings.seed = 10\n",
    "\n",
    "sc.logging.print_versions()\n",
    "\n",
    "path_to_save = \".../o_kloetzer/Atlas/human_extension/scVI/A_Ext_II_No1\""
   ]
  },
  {
   "cell_type": "code",
   "execution_count": null,
   "id": "6b6eaf37-369a-4827-95a5-b0778d277d47",
   "metadata": {},
   "outputs": [],
   "source": [
    "adata = sc.read(\".../Atlas/Atlas_human_extension_II_3000HVG.h5ad\")\n",
    "adata"
   ]
  },
  {
   "cell_type": "code",
   "execution_count": null,
   "id": "d8b62809-5331-4322-a5ce-9bc69fc697a4",
   "metadata": {},
   "outputs": [],
   "source": [
    "\n",
    "scvi.model.SCVI.setup_anndata(\n",
    "    adata,\n",
    "    batch_key=\"proj\",\n",
    "    layer=\"counts\", categorical_covariate_keys=[\"orig_ident\"],\n",
    "    continuous_covariate_keys=[\"percent_mt\"])\n",
    "model = scvi.model.SCVI(adata)\n",
    "model\n",
    "vae = scvi.model.SCVI(adata, n_layers=3, n_latent=30, gene_likelihood=\"nb\", dropout_rate=0.1)\n",
    "vae.train(max_epochs = 600, plan_kwargs={\"lr\":0.001}, early_stopping = True, early_stopping_patience = 15)\n",
    "model = vae"
   ]
  },
  {
   "cell_type": "code",
   "execution_count": null,
   "id": "67261b4a-65cd-48e5-a171-44fd5b34487f",
   "metadata": {},
   "outputs": [],
   "source": [
    "model.save(path_to_save, overwrite = True)"
   ]
  },
  {
   "cell_type": "code",
   "execution_count": null,
   "id": "40de6286-634f-4800-ba73-fa96033d6fbb",
   "metadata": {},
   "outputs": [],
   "source": [
    "latent = model.get_latent_representation()\n",
    "adata.obsm[\"X_scVI\"] = latent\n",
    "adata.layers[\"scvi_normalized\"] = model.get_normalized_expression(\n",
    "    library_size=10e4)"
   ]
  },
  {
   "cell_type": "code",
   "execution_count": null,
   "id": "c38434e0-062a-4503-bd74-fd5d469db5a0",
   "metadata": {},
   "outputs": [],
   "source": [
    "sc.pp.neighbors(adata, n_pcs=30, use_rep=\"X_scVI\", random_state=seed)\n",
    "sc.tl.umap(adata, min_dist=0.3, random_state=seed)"
   ]
  },
  {
   "cell_type": "code",
   "execution_count": null,
   "id": "94091e6c-58b1-4e17-a2bf-f51f0c3aed3c",
   "metadata": {},
   "outputs": [],
   "source": [
    "sc.pl.umap(adata, color=['proj'])"
   ]
  },
  {
   "cell_type": "code",
   "execution_count": null,
   "id": "64ea9b81-1d11-4dff-93d1-00860b82222d",
   "metadata": {
    "tags": []
   },
   "outputs": [],
   "source": [
    "adata.write(\".../Atlas/Atlas_human_extension_II_3000HVG_integrated.h5ad\")"
   ]
  }
 ],
 "metadata": {
  "kernelspec": {
   "display_name": "scvi-pip",
   "language": "python",
   "name": "scvi-pip"
  },
  "language_info": {
   "codemirror_mode": {
    "name": "ipython",
    "version": 3
   },
   "file_extension": ".py",
   "mimetype": "text/x-python",
   "name": "python",
   "nbconvert_exporter": "python",
   "pygments_lexer": "ipython3",
   "version": "3.9.18"
  }
 },
 "nbformat": 4,
 "nbformat_minor": 5
}
