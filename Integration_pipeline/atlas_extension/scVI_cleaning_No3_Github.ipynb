{
 "cells": [
  {
   "cell_type": "code",
   "execution_count": null,
   "id": "f43d15a3-56f9-4a09-b705-e54fadb68831",
   "metadata": {},
   "outputs": [],
   "source": [
    "import sys\n",
    "import pandas as pd\n",
    "import numpy as np\n",
    "import anndata\n",
    "import scvi\n",
    "import scanpy as sc\n",
    "import matplotlib\n",
    "\n",
    "seed = 10\n",
    "\n",
    "scvi.settings.seed = 10\n",
    "\n",
    "sc.logging.print_versions()\n",
    "\n"
   ]
  },
  {
   "cell_type": "code",
   "execution_count": null,
   "id": "6b6eaf37-369a-4827-95a5-b0778d277d47",
   "metadata": {},
   "outputs": [],
   "source": [
    "adata = sc.read(\".../Atlas/Atlas_human_extension_II_3000HVG_integrated.h5ad\")\n",
    "adata"
   ]
  },
  {
   "cell_type": "code",
   "execution_count": null,
   "id": "94091e6c-58b1-4e17-a2bf-f51f0c3aed3c",
   "metadata": {},
   "outputs": [],
   "source": [
    "sc.pl.umap(adata, color=['proj'])\n",
    "sc.pl.umap(adata, color=['annotation_final_level1B'], legend_loc = \"on data\")\n",
    "sc.pl.umap(adata, color=['annotation_final_level1'], legend_loc = \"on data\")"
   ]
  },
  {
   "cell_type": "code",
   "execution_count": null,
   "id": "97988518-a8a3-40ec-bd0a-7783e5dd467f",
   "metadata": {},
   "outputs": [],
   "source": [
    "goi = [\"SLC26A3\", \"SPP1\", \"EEF1A1\", \"MMP7\", \"SRP14\", \"AQP2\", \"FTL\", \"GPX3\", \"ALDOB\", \"APOE\", \"NRXN1\", \"CDH19\", \"SLC26A3\"]\n",
    "\n",
    "sc.pl.umap(adata, color=goi)"
   ]
  },
  {
   "cell_type": "code",
   "execution_count": null,
   "id": "8da3bfbc-b489-4705-b1a9-dfe4a7e44884",
   "metadata": {},
   "outputs": [],
   "source": [
    "sc.pl.umap(adata, color=['doubletfinder'], legend_loc='on data')"
   ]
  },
  {
   "cell_type": "code",
   "execution_count": null,
   "id": "9b79a1ec-6172-424d-9fcb-813b2d41d4cf",
   "metadata": {},
   "outputs": [],
   "source": [
    "sc.pl.umap(adata, color=['leiden_scVI_3_0'], legend_loc='on data')"
   ]
  },
  {
   "cell_type": "code",
   "execution_count": null,
   "id": "2d6a0bac-ecc2-49d1-aab0-c7a763a73f48",
   "metadata": {},
   "outputs": [],
   "source": [
    "#we create lists of cells we want to remove\n",
    "\n",
    "clusters_remove = [\"0\", \"46\", \"23\", \"27\", \"60\"]\n",
    "\n",
    "adata_remove = adata[adata.obs.leiden_scVI_3_0.isin(clusters_remove)]\n",
    "\n",
    "removed_barcodes = adata_remove.obs_names.unique().tolist()"
   ]
  },
  {
   "cell_type": "code",
   "execution_count": null,
   "id": "08946912-4576-4a60-999b-9ab6a1555b4c",
   "metadata": {},
   "outputs": [],
   "source": [
    "# Create a DataFrame from the list\n",
    "df = pd.DataFrame(removed_barcodes, columns=[\"Barcodes\"])\n",
    "\n",
    "# Save the DataFrame as a CSV file\n",
    "df.to_csv(\".../Atlas/human_extension/Cleaning_II/Atlas_human_ext_II_remove_1.csv\", index=False)\n",
    "\n"
   ]
  },
  {
   "cell_type": "code",
   "execution_count": null,
   "id": "f7ca5e5c-5ba8-4d98-b424-3fdb5259284e",
   "metadata": {},
   "outputs": [],
   "source": [
    "\n",
    "\n",
    "adata = adata[~adata.obs.leiden_scVI_3_0.isin(clusters_remove)]\n",
    "                                              \n",
    "                                              "
   ]
  },
  {
   "cell_type": "code",
   "execution_count": null,
   "id": "ca12084b-f359-474b-8428-7cc59912ef66",
   "metadata": {},
   "outputs": [],
   "source": [
    "sc.tl.leiden(adata, key_added=\"leiden_scVI_0_5\", resolution=0.5, random_state=seed)\n",
    "\n",
    "sc.pl.umap(adata, color=['leiden_scVI_0_5'], legend_loc='on data')"
   ]
  },
  {
   "cell_type": "code",
   "execution_count": null,
   "id": "a98e655b-e472-4408-a819-c41472852ff2",
   "metadata": {
    "tags": []
   },
   "outputs": [],
   "source": [
    "adata.write(\".../Atlas/Atlas_human_extension_II_3000HVG_integrated_cleaned1.h5ad\")"
   ]
  }
 ],
 "metadata": {
  "kernelspec": {
   "display_name": "scvi-pip",
   "language": "python",
   "name": "scvi-pip"
  },
  "language_info": {
   "codemirror_mode": {
    "name": "ipython",
    "version": 3
   },
   "file_extension": ".py",
   "mimetype": "text/x-python",
   "name": "python",
   "nbconvert_exporter": "python",
   "pygments_lexer": "ipython3",
   "version": "3.9.18"
  }
 },
 "nbformat": 4,
 "nbformat_minor": 5
}
