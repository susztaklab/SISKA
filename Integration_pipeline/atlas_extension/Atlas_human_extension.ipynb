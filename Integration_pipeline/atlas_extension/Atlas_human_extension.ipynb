{
 "cells": [
  {
   "cell_type": "code",
   "execution_count": null,
   "id": "39ffb13e",
   "metadata": {},
   "outputs": [],
   "source": [
    "import sys\n",
    "import pandas as pd\n",
    "import numpy as np\n",
    "import matplotlib.pyplot as plt\n",
    "import anndata\n",
    "import scvi\n",
    "import scanpy as sc\n",
    "import matplotlib\n",
    "import csv\n",
    "import os\n",
    "import seaborn as sns\n",
    "from pySankey.sankey import sankey\n",
    "seed=10\n",
    "os.chdir(\".../Atlas/objects\")\n",
    "sc.logging.print_versions()\n",
    "!pip list"
   ]
  },
  {
   "cell_type": "code",
   "execution_count": null,
   "id": "80518c3f",
   "metadata": {},
   "outputs": [],
   "source": [
    "adata = scvi.data.read_h5ad(\"Atlas6_Human.h5ad\")  \n",
    "adata"
   ]
  },
  {
   "cell_type": "code",
   "execution_count": null,
   "id": "1629ffb0",
   "metadata": {
    "scrolled": true
   },
   "outputs": [],
   "source": [
    "sc.set_figure_params(figsize=(15,5))\n",
    "\n",
    "sc.pl.violin(adata, keys='nCount_RNA', groupby='orig.ident', rotation=90)\n",
    "sc.pl.violin(adata, keys='nFeature_RNA', groupby='orig.ident', rotation=90)\n",
    "sc.pl.violin(adata, keys='percent.mt', groupby='orig.ident', rotation=90)\n",
    "\n",
    "sc.set_figure_params(figsize=(5,5))"
   ]
  },
  {
   "cell_type": "code",
   "execution_count": null,
   "id": "f895b9b4",
   "metadata": {},
   "outputs": [],
   "source": [
    "# downloaded from https://cellxgene.cziscience.com/datasets"
   ]
  },
  {
   "cell_type": "code",
   "execution_count": null,
   "id": "bf67694f",
   "metadata": {},
   "outputs": [],
   "source": [
    "#new adata 6.4_heathy\n",
    "adata_q1 = sc.read(\"humphreys_DKD.h5ad\")\n",
    "adata_q1\n"
   ]
  },
  {
   "cell_type": "code",
   "execution_count": null,
   "id": "62d2e0ce",
   "metadata": {},
   "outputs": [],
   "source": [
    "adata_q1.obs[\"disease\"].value_counts()"
   ]
  },
  {
   "cell_type": "code",
   "execution_count": null,
   "id": "34c92705",
   "metadata": {},
   "outputs": [],
   "source": [
    "adata_q1.obs[\"donor_id\"].value_counts()"
   ]
  },
  {
   "cell_type": "code",
   "execution_count": null,
   "id": "189bcd60",
   "metadata": {},
   "outputs": [],
   "source": [
    "#we only want to keep healthy sample 6 since 1 to 5 overlap with ADPDK humphreys study\n",
    "\n",
    "samples_to_keep = ['diabetic_1', 'diabetic_2', 'diabetic_3', \n",
    "                   'diabetic_4', 'diabetic_5', 'healthy_6']\n",
    "\n",
    "adata_q1 = adata_q1[adata_q1.obs.donor_id.isin(samples_to_keep)]\n",
    "\n",
    "adata_q1.obs[\"donor_id\"].value_counts()"
   ]
  },
  {
   "cell_type": "code",
   "execution_count": null,
   "id": "34cddf48",
   "metadata": {},
   "outputs": [],
   "source": [
    "adata_q1.var[\"feature_name\"]"
   ]
  },
  {
   "cell_type": "code",
   "execution_count": null,
   "id": "871b1716",
   "metadata": {},
   "outputs": [],
   "source": [
    "adata_q1.var_names = adata_q1.var[\"feature_name\"]\n",
    "\n",
    "# Store original barcodes in a new column 'original_barcode'\n",
    "adata_q1.obs['original_barcode'] = adata_q1.obs.index\n",
    "\n",
    "# Add the 'orig_ident' prefix to the barcodes\n",
    "adata_q1.obs.index = adata_q1.obs['donor_id'].astype(str) + '_' + adata_q1.obs.index\n",
    "\n",
    "adata_q1.obs[\"proj\"]=\"humphreys_DKD\"\n",
    "adata_q1.obs[\"orig_ident\"]=adata_q1.obs['donor_id'].astype(str) + '_' + adata_q1.obs['proj'].astype(str)\n",
    "adata_q1.obs[\"percent_mt\"]=adata_q1.obs[\"percent.mt\"]\n",
    "adata_q1.obs[\"annotation_final_level1B\"] = \"Unknown\"\n",
    "adata_q1.obs[\"annotation_final_level1\"] = \"Unknown\"\n",
    "adata_q1.obs[\"species\"] = \"human\"\n",
    "\n"
   ]
  },
  {
   "cell_type": "code",
   "execution_count": null,
   "id": "aee5e848",
   "metadata": {},
   "outputs": [],
   "source": [
    "sc.set_figure_params(figsize=(15,5))\n",
    "\n",
    "sc.pl.violin(adata_q1, keys='nCount_RNA', groupby='orig_ident', rotation=90)\n",
    "sc.pl.violin(adata_q1, keys='nFeature_RNA', groupby='orig_ident', rotation=90)\n",
    "sc.pl.violin(adata_q1, keys='percent.mt', groupby='orig_ident', rotation=90)\n",
    "\n",
    "sc.set_figure_params(figsize=(5,5))"
   ]
  },
  {
   "cell_type": "code",
   "execution_count": null,
   "id": "7f260ca5",
   "metadata": {},
   "outputs": [],
   "source": [
    "#new adata 6.4_heathy\n",
    "adata_q2 = sc.read(\".../data/Humphreys_ADPKD/ADPKD_object.h5ad\")\n",
    "adata_q2\n"
   ]
  },
  {
   "cell_type": "code",
   "execution_count": null,
   "id": "83e6c92c",
   "metadata": {},
   "outputs": [],
   "source": [
    "\n",
    "\n",
    "adata_q2.obs[\"proj\"]=\"humphreys_ADPKD\"\n",
    "adata_q2.obs[\"orig_ident\"]=adata_q2.obs['patient'].astype(str) + '_' + adata_q2.obs['proj'].astype(str)\n",
    "adata_q2.obs[\"percent_mt\"]=adata_q2.obs[\"percent.mt\"]\n",
    "adata_q2.obs[\"annotation_final_level1B\"] = \"Unknown\"\n",
    "adata_q2.obs[\"annotation_final_level1\"] = \"Unknown\"\n",
    "adata_q2.obs[\"disease\"] = adata_q2.obs[\"orig.ident\"]\n",
    "adata_q2.obs[\"species\"] = \"human\"\n",
    "\n"
   ]
  },
  {
   "cell_type": "code",
   "execution_count": null,
   "id": "e53cf4ac",
   "metadata": {},
   "outputs": [],
   "source": [
    "adata_q2.obs[\"orig_ident\"].value_counts()"
   ]
  },
  {
   "cell_type": "code",
   "execution_count": null,
   "id": "e14bee74",
   "metadata": {
    "scrolled": true
   },
   "outputs": [],
   "source": [
    "sc.set_figure_params(figsize=(15,5))\n",
    "\n",
    "sc.pl.violin(adata_q2, keys='nCount_RNA', groupby='orig_ident', rotation=90)\n",
    "sc.pl.violin(adata_q2, keys='nFeature_RNA', groupby='orig_ident', rotation=90)\n",
    "sc.pl.violin(adata_q2, keys='percent.mt', groupby='orig_ident', rotation=90)\n",
    "\n",
    "sc.set_figure_params(figsize=(5,5))"
   ]
  },
  {
   "cell_type": "code",
   "execution_count": null,
   "id": "fd6f5243",
   "metadata": {},
   "outputs": [],
   "source": [
    "#Calico data\n",
    "adata_q3 = sc.read(\".../Atlas/Atlas_Extension/Cal_CKD_raw/Cal_CKD_new_object.h5ad\")\n",
    "adata_q3"
   ]
  },
  {
   "cell_type": "code",
   "execution_count": null,
   "id": "9fcfb472",
   "metadata": {},
   "outputs": [],
   "source": [
    "obs_delete = ['pANN_0.25_0.26_110', 'DF.classifications_0.25_0.26_110', 'pANN_0.25_0.005_863', 'DF.classifications_0.25_0.005_863', 'pANN_0.25_0.005_580', 'DF.classifications_0.25_0.005_580', 'pANN_0.25_0.21_642', 'DF.classifications_0.25_0.21_642', 'pANN_0.25_0.01_671', 'DF.classifications_0.25_0.01_671', 'pANN_0.25_0.01_604', 'DF.classifications_0.25_0.01_604', 'pANN_0.25_0.27_1658', 'DF.classifications_0.25_0.27_1658', 'pANN_0.25_0.28_1588', 'DF.classifications_0.25_0.28_1588', 'pANN_0.25_0.09_790', 'DF.classifications_0.25_0.09_790']\n",
    "\n",
    "adata_q3.obs.drop(columns=obs_delete, inplace=True, errors='ignore')\n",
    "\n",
    "adata_q3"
   ]
  },
  {
   "cell_type": "code",
   "execution_count": null,
   "id": "4428dc7d",
   "metadata": {},
   "outputs": [],
   "source": [
    "sc.set_figure_params(figsize=(15,5))\n",
    "\n",
    "sc.pl.violin(adata_q3, keys='nCount_RNA', groupby='orig.ident', rotation=90)\n",
    "sc.pl.violin(adata_q3, keys='nFeature_RNA', groupby='orig.ident', rotation=90)\n",
    "sc.pl.violin(adata_q3, keys='percent.mt', groupby='orig.ident', rotation=90)\n",
    "\n",
    "sc.set_figure_params(figsize=(5,5))"
   ]
  },
  {
   "cell_type": "code",
   "execution_count": null,
   "id": "f21a7d9a",
   "metadata": {},
   "outputs": [],
   "source": [
    "\n",
    "adata_q3.var_names"
   ]
  },
  {
   "cell_type": "code",
   "execution_count": null,
   "id": "41ae91b4",
   "metadata": {},
   "outputs": [],
   "source": [
    "adata_q3.obs[\"orig.ident\"].value_counts()"
   ]
  },
  {
   "cell_type": "code",
   "execution_count": null,
   "id": "01bbc08b",
   "metadata": {},
   "outputs": [],
   "source": [
    "# Store original barcodes in a new column 'original_barcode'\n",
    "adata_q3.obs['original_barcode'] = adata_q3.obs.index\n",
    "\n",
    "# Add the 'orig_ident' prefix to the barcodes\n",
    "adata_q3.obs.index = adata_q3.obs['orig.ident'].astype(str) + '_' + adata_q3.obs.index\n",
    "\n",
    "adata_q3.obs[\"proj\"]=\"multiome_CKD\"\n",
    "adata_q3.obs[\"orig_ident\"]=adata_q3.obs[\"orig.ident\"]\n",
    "adata_q3.obs[\"percent_mt\"]=adata_q3.obs[\"percent.mt\"]\n",
    "adata_q3.obs[\"annotation_final_level1B\"] = \"Unknown\"\n",
    "adata_q3.obs[\"annotation_final_level1\"] = \"Unknown\"\n",
    "adata_q3.obs[\"disease\"] = \"CKD\"\n",
    "adata_q3.obs[\"species\"] = \"human\"\n"
   ]
  },
  {
   "cell_type": "code",
   "execution_count": null,
   "id": "136cfb76",
   "metadata": {},
   "outputs": [],
   "source": [
    "#one sample should be removed since sn data from the same sample was already part of the core atlas.\n",
    "\n",
    "sample_remove = [\"HK2770\"]\n",
    "\n",
    "adata_q3 = adata_q3[~adata_q3.obs.orig_ident.isin(sample_remove)].copy()"
   ]
  },
  {
   "cell_type": "code",
   "execution_count": null,
   "id": "8b843058",
   "metadata": {},
   "outputs": [],
   "source": [
    "sc.set_figure_params(figsize=(15,5))\n",
    "\n",
    "sc.pl.violin(adata_q3, keys='nCount_RNA', groupby='orig_ident', rotation=90)\n",
    "sc.pl.violin(adata_q3, keys='nFeature_RNA', groupby='orig_ident', rotation=90)\n",
    "sc.pl.violin(adata_q3, keys='percent_mt', groupby='orig_ident', rotation=90)\n",
    "\n",
    "sc.set_figure_params(figsize=(5,5))"
   ]
  },
  {
   "cell_type": "code",
   "execution_count": null,
   "id": "ff64d450",
   "metadata": {},
   "outputs": [],
   "source": [
    "adata_q4 = sc.read(\".../KRAD/KRAD.All.Idents.11.19.h5ad\")\n",
    "adata_q4"
   ]
  },
  {
   "cell_type": "code",
   "execution_count": null,
   "id": "60619b5b",
   "metadata": {},
   "outputs": [],
   "source": [
    "adata_q4.obs.index"
   ]
  },
  {
   "cell_type": "code",
   "execution_count": null,
   "id": "da893acf",
   "metadata": {},
   "outputs": [],
   "source": [
    "# Store original barcodes in a new column 'original_barcode'\n",
    "adata_q4.obs['original_barcode'] = adata_q4.obs.index\n",
    "\n",
    "# Add the 'orig_ident' prefix to the barcodes\n",
    "adata_q4.obs.index = adata_q4.obs['orig.ident'].astype(str) + '_' + adata_q4.obs.index\n",
    "\n",
    "adata_q4.obs[\"proj\"]=\"KRAD\"\n",
    "adata_q4.obs[\"orig_ident\"]=adata_q4.obs[\"orig.ident\"]\n",
    "adata_q4.obs[\"percent_mt\"]=adata_q4.obs[\"percent.mt\"]\n",
    "adata_q4.obs[\"annotation_final_level1B\"] = \"Unknown\"\n",
    "adata_q4.obs[\"annotation_final_level1\"] = \"Unknown\"\n",
    "adata_q4.obs[\"disease\"] = \"diseased\"\n",
    "adata_q4.obs[\"species\"] = \"human\"\n",
    "\n"
   ]
  },
  {
   "cell_type": "code",
   "execution_count": null,
   "id": "e7b1d5e8",
   "metadata": {},
   "outputs": [],
   "source": [
    "adata_q4.obs[\"species\"].value_counts()"
   ]
  },
  {
   "cell_type": "code",
   "execution_count": null,
   "id": "4a072951",
   "metadata": {},
   "outputs": [],
   "source": [
    "sc.set_figure_params(figsize=(15,5))\n",
    "\n",
    "sc.pl.violin(adata_q4, keys='nCount_RNA', groupby='orig_ident', rotation=90)\n",
    "sc.pl.violin(adata_q4, keys='nFeature_RNA', groupby='orig_ident', rotation=90)\n",
    "sc.pl.violin(adata_q4, keys='percent.mt', groupby='orig_ident', rotation=90)\n",
    "\n",
    "sc.set_figure_params(figsize=(5,5))"
   ]
  },
  {
   "cell_type": "code",
   "execution_count": null,
   "id": "7f08243e",
   "metadata": {},
   "outputs": [],
   "source": [
    "adata_test = adata_q4[adata_q4.obs[\"orig_ident\"]==\"KRAD40\"]\n",
    "\n",
    "adata_test.obs.orig_ident.value_counts()"
   ]
  },
  {
   "cell_type": "code",
   "execution_count": null,
   "id": "e0034365",
   "metadata": {},
   "outputs": [],
   "source": [
    "adata_q4 = adata_q4[~adata_q4.obs[\"orig_ident\"].isin([\"KRAD40\"])]\n",
    "\n",
    "sc.set_figure_params(figsize=(15,5))\n",
    "\n",
    "sc.pl.violin(adata_q4, keys='nCount_RNA', groupby='orig_ident', rotation=90)\n",
    "sc.pl.violin(adata_q4, keys='nFeature_RNA', groupby='orig_ident', rotation=90)\n",
    "sc.pl.violin(adata_q4, keys='percent.mt', groupby='orig_ident', rotation=90)\n",
    "\n",
    "sc.set_figure_params(figsize=(5,5))"
   ]
  },
  {
   "cell_type": "code",
   "execution_count": null,
   "id": "2ff795d1",
   "metadata": {},
   "outputs": [],
   "source": [
    "adata_q5 = sc.read(\".../Atlas/Atlas_Extension/KPMP_data_additional/KPMP_new_object_doubletfinder.h5ad\")\n",
    "adata_q5"
   ]
  },
  {
   "cell_type": "code",
   "execution_count": null,
   "id": "82abfaf4",
   "metadata": {},
   "outputs": [],
   "source": [
    "\n",
    "obs_delete = ['pANN_0.25_0.005_561', 'DF.classifications_0.25_0.005_561', 'pANN_0.25_0.3_563', 'DF.classifications_0.25_0.3_563', 'pANN_0.25_0.001_847', 'DF.classifications_0.25_0.001_847', 'pANN_0.25_0.01_734', 'DF.classifications_0.25_0.01_734', 'pANN_0.25_0.25_141', 'DF.classifications_0.25_0.25_141', 'pANN_0.25_0.07_971', 'DF.classifications_0.25_0.07_971', 'pANN_0.25_0.005_266', 'DF.classifications_0.25_0.005_266', 'pANN_0.25_0.25_263', 'DF.classifications_0.25_0.25_263', 'pANN_0.25_0.18_278', 'DF.classifications_0.25_0.18_278', 'pANN_0.25_0.01_199', 'DF.classifications_0.25_0.01_199', 'pANN_0.25_0.04_81', 'DF.classifications_0.25_0.04_81', 'pANN_0.25_0.005_435', 'DF.classifications_0.25_0.005_435', 'pANN_0.25_0.01_652', 'DF.classifications_0.25_0.01_652', 'pANN_0.25_0.3_372', 'DF.classifications_0.25_0.3_372', 'pANN_0.25_0.24_578', 'DF.classifications_0.25_0.24_578', 'pANN_0.25_0.29_373', 'DF.classifications_0.25_0.29_373', 'pANN_0.25_0.04_64', 'DF.classifications_0.25_0.04_64', 'pANN_0.25_0.16_741', 'DF.classifications_0.25_0.16_741', 'pANN_0.25_0.27_247', 'DF.classifications_0.25_0.27_247', 'pANN_0.25_0.19_659', 'DF.classifications_0.25_0.19_659', 'pANN_0.25_0.01_1274', 'DF.classifications_0.25_0.01_1274', 'pANN_0.25_0.3_1475', 'DF.classifications_0.25_0.3_1475', 'pANN_0.25_0.22_5', 'DF.classifications_0.25_0.22_5', 'pANN_0.25_0.29_213', 'DF.classifications_0.25_0.29_213', 'pANN_0.25_0.27_893', 'DF.classifications_0.25_0.27_893', 'pANN_0.25_0.24_304', 'DF.classifications_0.25_0.24_304', 'pANN_0.25_0.01_109', 'DF.classifications_0.25_0.01_109', 'pANN_0.25_0.16_28', 'DF.classifications_0.25_0.16_28', 'pANN_0.25_0.005_1701', 'DF.classifications_0.25_0.005_1701', 'pANN_0.25_0.005_398', 'DF.classifications_0.25_0.005_398', 'pANN_0.25_0.005_352', 'DF.classifications_0.25_0.005_352', 'pANN_0.25_0.17_6', 'DF.classifications_0.25_0.17_6', 'pANN_0.25_0.01_472', 'DF.classifications_0.25_0.01_472', 'pANN_0.25_0.005_400', 'DF.classifications_0.25_0.005_400', 'pANN_0.25_0.22_566', 'DF.classifications_0.25_0.22_566', 'pANN_0.25_0.15_699', 'DF.classifications_0.25_0.15_699', 'pANN_0.25_0.3_613', 'DF.classifications_0.25_0.3_613', 'pANN_0.25_0.28_692', 'DF.classifications_0.25_0.28_692', 'pANN_0.25_0.005_427', 'DF.classifications_0.25_0.005_427', 'pANN_0.25_0.02_491', 'DF.classifications_0.25_0.02_491', 'pANN_0.25_0.28_495', 'DF.classifications_0.25_0.28_495', 'pANN_0.25_0.3_600', 'DF.classifications_0.25_0.3_600', 'pANN_0.25_0.005_559', 'DF.classifications_0.25_0.005_559', 'pANN_0.25_0.19_270', 'DF.classifications_0.25_0.19_270', 'pANN_0.25_0.01_284', 'DF.classifications_0.25_0.01_284', 'pANN_0.25_0.3_110', 'DF.classifications_0.25_0.3_110', 'pANN_0.25_0.29_414', 'DF.classifications_0.25_0.29_414', 'pANN_0.25_0.005_1039', 'DF.classifications_0.25_0.005_1039', 'pANN_0.25_0.23_49', 'DF.classifications_0.25_0.23_49', 'pANN_0.25_0.03_516', 'DF.classifications_0.25_0.03_516', 'pANN_0.25_0.005_443', 'DF.classifications_0.25_0.005_443', 'pANN_0.25_0.28_867', 'DF.classifications_0.25_0.28_867', 'pANN_0.25_0.27_378', 'DF.classifications_0.25_0.27_378', 'pANN_0.25_0.01_574', 'DF.classifications_0.25_0.01_574', 'pANN_0.25_0.3_264', 'DF.classifications_0.25_0.3_264', 'pANN_0.25_0.01_490', 'DF.classifications_0.25_0.01_490', 'pANN_0.25_0.05_446', 'DF.classifications_0.25_0.05_446', 'pANN_0.25_0.3_436', 'DF.classifications_0.25_0.3_436', 'pANN_0.25_0.01_640', 'DF.classifications_0.25_0.01_640', 'pANN_0.25_0.02_305', 'DF.classifications_0.25_0.02_305', 'pANN_0.25_0.01_669', 'DF.classifications_0.25_0.01_669', 'pANN_0.25_0.25_463', 'DF.classifications_0.25_0.25_463', 'pANN_0.25_0.3_106', 'DF.classifications_0.25_0.3_106', 'pANN_0.25_0.08_325', 'DF.classifications_0.25_0.08_325', 'pANN_0.25_0.01_360', 'DF.classifications_0.25_0.01_360', 'pANN_0.25_0.24_540', 'DF.classifications_0.25_0.24_540', 'pANN_0.25_0.15_185', 'DF.classifications_0.25_0.15_185', 'pANN_0.25_0.02_68', 'DF.classifications_0.25_0.02_68', 'pANN_0.25_0.09_544', 'DF.classifications_0.25_0.09_544', 'pANN_0.25_0.23_437', 'DF.classifications_0.25_0.23_437', 'pANN_0.25_0.03_319', 'DF.classifications_0.25_0.03_319']"
   ]
  },
  {
   "cell_type": "code",
   "execution_count": null,
   "id": "ceac497c",
   "metadata": {},
   "outputs": [],
   "source": [
    "adata_q5.obs.drop(columns=obs_delete, inplace=True, errors='ignore')\n",
    "\n",
    "adata_q5"
   ]
  },
  {
   "cell_type": "code",
   "execution_count": null,
   "id": "6b2c5c7c",
   "metadata": {},
   "outputs": [],
   "source": [
    "adata_q5.obs.doubletfinder.value_counts()"
   ]
  },
  {
   "cell_type": "code",
   "execution_count": null,
   "id": "53d60dab",
   "metadata": {},
   "outputs": [],
   "source": []
  },
  {
   "cell_type": "code",
   "execution_count": null,
   "id": "3c96f215",
   "metadata": {},
   "outputs": [],
   "source": [
    "adata_q5.obs.index"
   ]
  },
  {
   "cell_type": "code",
   "execution_count": null,
   "id": "b1e54b12",
   "metadata": {},
   "outputs": [],
   "source": [
    "# Store original barcodes in a new column 'original_barcode'\n",
    "adata_q5.obs['original_barcode'] = adata_q5.obs.index\n",
    "\n",
    "# Add the 'orig_ident' prefix to the barcodes\n",
    "adata_q5.obs.index = adata_q5.obs['orig.ident'].astype(str) + '_' + adata_q5.obs.index\n",
    "\n",
    "adata_q5.obs[\"proj\"]=\"KPMP_new\"\n",
    "adata_q5.obs[\"orig_ident\"]=adata_q5.obs[\"orig.ident\"]\n",
    "adata_q5.obs[\"percent_mt\"]=adata_q5.obs[\"percent.mt\"]\n",
    "adata_q5.obs[\"annotation_final_level1B\"] = \"Unknown\"\n",
    "adata_q5.obs[\"annotation_final_level1\"] = \"Unknown\"\n",
    "adata_q5.obs[\"disease\"] = adata_q5.obs[\"orig_ident\"]\n",
    "adata_q5.obs[\"species\"] = \"human\""
   ]
  },
  {
   "cell_type": "code",
   "execution_count": null,
   "id": "29213758",
   "metadata": {},
   "outputs": [],
   "source": [
    "sc.set_figure_params(figsize=(15,5))\n",
    "\n",
    "sc.pl.violin(adata_q5, keys='nCount_RNA', groupby='orig.ident', rotation=90)\n",
    "sc.pl.violin(adata_q5, keys='nFeature_RNA', groupby='orig.ident', rotation=90)\n",
    "sc.pl.violin(adata_q5, keys='percent.mt', groupby='orig.ident', rotation=90)\n",
    "\n",
    "sc.set_figure_params(figsize=(5,5))"
   ]
  },
  {
   "cell_type": "code",
   "execution_count": null,
   "id": "7d954d88",
   "metadata": {},
   "outputs": [],
   "source": [
    "adata = adata.concatenate(adata_q1, adata_q2, adata_q3, adata_q4, adata_q5,\n",
    "    join=\"inner\",\n",
    "    batch_key=None,\n",
    "    index_unique=None\n",
    ")\n",
    "adata.X = np.rint(adata.X)\n",
    "adata"
   ]
  },
  {
   "cell_type": "code",
   "execution_count": null,
   "id": "c7fc9937",
   "metadata": {},
   "outputs": [],
   "source": [
    "adata.obs[\"proj\"]=adata.obs[\"proj\"].astype(str)\n",
    "adata.obs[\"orig_ident\"]=adata.obs[\"orig_ident\"].astype(str)\n",
    "\n",
    "adata.obs[\"annotation_final_level1B\"] = adata.obs[\"annotation_final_level1B\"].astype(str)\n",
    "adata.obs[\"annotation_final_level1\"] = adata.obs[\"annotation_final_level1\"].astype(str)\n",
    "adata.obs[\"disease\"] = adata.obs[\"disease\"].astype(str)\n",
    "adata.obs[\"species\"] = adata.obs[\"species\"].astype(str)"
   ]
  },
  {
   "cell_type": "code",
   "execution_count": null,
   "id": "2e98ec29",
   "metadata": {},
   "outputs": [],
   "source": [
    "del adata.obs['is_primary_data']"
   ]
  },
  {
   "cell_type": "code",
   "execution_count": null,
   "id": "e395c83b",
   "metadata": {},
   "outputs": [],
   "source": [
    "sc.set_figure_params(figsize=(30,5))\n",
    "\n",
    "sc.pl.violin(adata, keys='nCount_RNA', groupby='orig_ident', rotation=90)\n",
    "sc.pl.violin(adata, keys='nFeature_RNA', groupby='orig_ident', rotation=90)\n",
    "sc.pl.violin(adata, keys='percent_mt', groupby='orig_ident', rotation=90)\n",
    "\n",
    "sc.set_figure_params(figsize=(5,5))"
   ]
  },
  {
   "cell_type": "code",
   "execution_count": null,
   "id": "2b628bbc",
   "metadata": {},
   "outputs": [],
   "source": [
    "adata = adata[adata.obs.nCount_RNA < 20000, :]\n",
    "adata = adata[adata.obs.nFeature_RNA < 5000, :]\n",
    "\n",
    "adata = adata[adata.obs.nFeature_RNA > 200, :]\n",
    "\n",
    "adata = adata[adata.obs.percent_mt < 15, :]\n"
   ]
  },
  {
   "cell_type": "code",
   "execution_count": null,
   "id": "71053703",
   "metadata": {},
   "outputs": [],
   "source": [
    "sc.set_figure_params(figsize=(30,5))\n",
    "\n",
    "sc.pl.violin(adata, keys='nCount_RNA', groupby='orig_ident', rotation=90)\n",
    "sc.pl.violin(adata, keys='nFeature_RNA', groupby='orig_ident', rotation=90)\n",
    "sc.pl.violin(adata, keys='percent_mt', groupby='orig_ident', rotation=90)\n",
    "\n",
    "sc.set_figure_params(figsize=(5,5))"
   ]
  },
  {
   "cell_type": "code",
   "execution_count": null,
   "id": "d3783268",
   "metadata": {},
   "outputs": [],
   "source": [
    "adata"
   ]
  },
  {
   "cell_type": "code",
   "execution_count": null,
   "id": "8f2a957c",
   "metadata": {},
   "outputs": [],
   "source": [
    "adata.write(\".../Atlas/objects/Atlas_human_extension_II.h5ad\")"
   ]
  },
  {
   "cell_type": "code",
   "execution_count": null,
   "id": "9c3b3306",
   "metadata": {},
   "outputs": [],
   "source": [
    "#change batch key to species\n",
    "\n",
    "adata.layers[\"counts\"] = adata.X.copy() # preserve counts\n",
    "sc.pp.normalize_total(adata, target_sum=1e4)\n",
    "sc.pp.log1p(adata)\n",
    "adata.raw = adata # freeze the state in `.raw`\n",
    "sc.pp.highly_variable_genes(\n",
    "    adata,\n",
    "    n_top_genes=3000,\n",
    "    subset=True,\n",
    "    layer=\"counts\",\n",
    "    flavor=\"seurat_v3\",\n",
    "    batch_key=\"proj\")"
   ]
  },
  {
   "cell_type": "code",
   "execution_count": null,
   "id": "b50d3b26",
   "metadata": {},
   "outputs": [],
   "source": [
    "adata.write(\".../Atlas/objects/Atlas_human_extension_II_3000HVG.h5ad\")"
   ]
  },
  {
   "cell_type": "code",
   "execution_count": null,
   "id": "bdeedb36",
   "metadata": {},
   "outputs": [],
   "source": [
    "########continue after scVI + Cleaning + scANVI\n",
    "adata = sc.read(\".../Atlas/objects/Atlas_human_extension_II_3000HVG_cleaned2.h5ad\")\n",
    "adata"
   ]
  },
  {
   "cell_type": "code",
   "execution_count": null,
   "id": "eab9870c",
   "metadata": {},
   "outputs": [],
   "source": [
    "#raw counts file for exporting\n",
    "\n",
    "adata_raw = sc.read(\".../Atlas/objects/Atlas_human_extension_II.h5ad\")\n",
    "\n",
    "adata_raw"
   ]
  },
  {
   "cell_type": "code",
   "execution_count": null,
   "id": "e9da55f8",
   "metadata": {},
   "outputs": [],
   "source": [
    "del adata_raw.obs\n",
    "del adata_raw.var\n",
    "adata_raw"
   ]
  },
  {
   "cell_type": "code",
   "execution_count": null,
   "id": "11b22176",
   "metadata": {},
   "outputs": [],
   "source": [
    "barcodes_to_keep = adata.obs_names.unique().tolist()\n",
    "\n",
    "adata_raw = adata_raw[adata_raw.obs_names.isin(barcodes_to_keep)]\n",
    "\n",
    "adata_raw"
   ]
  },
  {
   "cell_type": "code",
   "execution_count": null,
   "id": "4c54763c",
   "metadata": {},
   "outputs": [],
   "source": [
    "sc.settings.set_figure_params(dpi=200, frameon=False, facecolor='white', color_map = \"viridis\")\n",
    "sc.set_figure_params(dpi=200)\n",
    "sc.set_figure_params(figsize=(4, 4))\n",
    "plt.rcParams['figure.dpi'] = 200\n",
    "plt.rcParams['figure.figsize'] = (4, 4)"
   ]
  },
  {
   "cell_type": "code",
   "execution_count": null,
   "id": "6f1cd775",
   "metadata": {},
   "outputs": [],
   "source": [
    "\n",
    "\n",
    "cell_colors = {\"CD_PC\": \"#c6dbef\", \n",
    "               \"CNT\": \"#bcbddc\", \n",
    "               \"DCT\": \"#3182bd\",\n",
    "               \"DCT2\": \"mediumturquoise\", \n",
    "               \"DTL_ATL\": \"#fdd0a2\",\n",
    "               \"EC\": \"seagreen\", \n",
    "               \"ICA\": \"orange\",\n",
    "               \"ICB\": \"red\", \n",
    "               \"Immune\": \"#c7e9c0\",\n",
    "               \"Podo\": \"#000004\", \n",
    "               \"Stromal\": \"limegreen\",\n",
    "               \"PEC\": \"#fde725\",\n",
    "               \"PTS1\": \"royalblue\", \n",
    "               \"PTS2\": \"navy\",\n",
    "               \"PTS3\": \"darkcyan\", \n",
    "               \"injPT\": \"darkorchid\",\n",
    "               \"prolif_Tubule\": \"darkred\", \n",
    "               \"MD\": \"crimson\", \n",
    "               \"TAL\": \"lightcoral\",\n",
    "               \"injTAL\": \"IndianRed\",\n",
    "               \"injDCT_CNT\": \"midnightblue\",  \n",
    "               \"Unknown\": \"black\"\n",
    "              }\n",
    "\n",
    "sc.pl.umap(adata, color='C_scANVI', frameon=False, title=\"\", legend_loc = False, add_outline=True, palette = cell_colors)\n",
    "\n"
   ]
  },
  {
   "cell_type": "code",
   "execution_count": null,
   "id": "1ab1e0e6",
   "metadata": {},
   "outputs": [],
   "source": [
    "#save..."
   ]
  }
 ],
 "metadata": {
  "kernelspec": {
   "display_name": "Python 3 (ipykernel)",
   "language": "python",
   "name": "python3"
  },
  "language_info": {
   "codemirror_mode": {
    "name": "ipython",
    "version": 3
   },
   "file_extension": ".py",
   "mimetype": "text/x-python",
   "name": "python",
   "nbconvert_exporter": "python",
   "pygments_lexer": "ipython3",
   "version": "3.9.1"
  }
 },
 "nbformat": 4,
 "nbformat_minor": 5
}
