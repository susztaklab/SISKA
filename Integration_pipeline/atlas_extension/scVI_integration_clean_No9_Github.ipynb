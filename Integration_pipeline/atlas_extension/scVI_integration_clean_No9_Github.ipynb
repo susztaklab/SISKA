{
 "cells": [
  {
   "cell_type": "code",
   "execution_count": null,
   "id": "f43d15a3-56f9-4a09-b705-e54fadb68831",
   "metadata": {
    "tags": []
   },
   "outputs": [],
   "source": [
    "import sys\n",
    "import pandas as pd\n",
    "import numpy as np\n",
    "import anndata\n",
    "import scvi\n",
    "import scanpy as sc\n",
    "import matplotlib\n",
    "import os\n",
    "\n",
    "seed = 10\n",
    "\n",
    "scvi.settings.seed = 10\n",
    "\n",
    "sc.logging.print_versions()\n",
    "\n",
    "path_to_save = \".../Atlas/human_extension/scVI/A_Ext_II_No2\"\n",
    "\n"
   ]
  },
  {
   "cell_type": "code",
   "execution_count": null,
   "id": "6b6eaf37-369a-4827-95a5-b0778d277d47",
   "metadata": {},
   "outputs": [],
   "source": [
    "adata = sc.read(\".../Atlas/Atlas_human_extension_II_3000HVG_cleaned2_integrated.h5ad\")\n",
    "adata"
   ]
  },
  {
   "cell_type": "code",
   "execution_count": null,
   "id": "94091e6c-58b1-4e17-a2bf-f51f0c3aed3c",
   "metadata": {},
   "outputs": [],
   "source": [
    "sc.pl.umap(adata, color=['proj'])\n",
    "sc.pl.umap(adata, color=['annotation_final_level1B'], legend_loc = \"on data\")\n",
    "sc.pl.umap(adata, color=['nCount_RNA', 'nFeature_RNA', 'percent_mt'])\n",
    "sc.pl.umap(adata, color=['leiden_scVI_1_0'], legend_loc = \"on data\")"
   ]
  },
  {
   "cell_type": "code",
   "execution_count": null,
   "id": "dfa1f6f0-d03c-4e27-b352-c20c18611f19",
   "metadata": {
    "tags": []
   },
   "outputs": [],
   "source": [
    "\n",
    "\n",
    "sc.tl.leiden(adata, key_added=\"leiden_scVI_4_0\", resolution=4.0, random_state=seed)\n",
    "sc.pl.umap(adata, color=['leiden_scVI_3_0'], legend_loc = \"on data\")\n",
    "\n",
    "sc.tl.leiden(adata, key_added=\"leiden_scVI_5_0\", resolution=5.0, random_state=seed)\n",
    "sc.pl.umap(adata, color=['leiden_scVI_3_0'], legend_loc = \"on data\")\n",
    "\n",
    "sc.tl.leiden(adata, key_added=\"leiden_scVI_6_0\", resolution=6.0, random_state=seed)\n",
    "sc.pl.umap(adata, color=['leiden_scVI_3_0'], legend_loc = \"on data\")"
   ]
  },
  {
   "cell_type": "code",
   "execution_count": null,
   "id": "45cedc16-9add-4356-b01f-049f27c32ba9",
   "metadata": {},
   "outputs": [],
   "source": [
    "adata.write(\".../Atlas/Atlas_human_extension_II_3000HVG_cleaned2_integrated.h5ad\")"
   ]
  }
 ],
 "metadata": {
  "kernelspec": {
   "display_name": "scvi-pip",
   "language": "python",
   "name": "scvi-pip"
  },
  "language_info": {
   "codemirror_mode": {
    "name": "ipython",
    "version": 3
   },
   "file_extension": ".py",
   "mimetype": "text/x-python",
   "name": "python",
   "nbconvert_exporter": "python",
   "pygments_lexer": "ipython3",
   "version": "3.9.18"
  }
 },
 "nbformat": 4,
 "nbformat_minor": 5
}
