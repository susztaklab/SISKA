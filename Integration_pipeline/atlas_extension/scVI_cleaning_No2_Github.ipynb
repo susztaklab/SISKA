{
 "cells": [
  {
   "cell_type": "code",
   "execution_count": null,
   "id": "f43d15a3-56f9-4a09-b705-e54fadb68831",
   "metadata": {},
   "outputs": [],
   "source": [
    "import sys\n",
    "import pandas as pd\n",
    "import numpy as np\n",
    "import anndata\n",
    "import scvi\n",
    "import scanpy as sc\n",
    "import matplotlib\n",
    "\n",
    "seed = 10\n",
    "\n",
    "scvi.settings.seed = 10\n",
    "\n",
    "sc.logging.print_versions()\n",
    "\n",
    "path_to_save = \".../Atlas/human_extension/scVI/A_Ext_II_No1\""
   ]
  },
  {
   "cell_type": "code",
   "execution_count": null,
   "id": "6b6eaf37-369a-4827-95a5-b0778d277d47",
   "metadata": {},
   "outputs": [],
   "source": [
    "adata = sc.read(\".../Atlas/Atlas_human_extension_II_3000HVG_integrated.h5ad\")\n",
    "adata"
   ]
  },
  {
   "cell_type": "code",
   "execution_count": null,
   "id": "94091e6c-58b1-4e17-a2bf-f51f0c3aed3c",
   "metadata": {},
   "outputs": [],
   "source": [
    "sc.pl.umap(adata, color=['proj'])\n",
    "sc.pl.umap(adata, color=['annotation_final_level1B'], legend_loc = \"on data\")\n",
    "sc.pl.umap(adata, color=['annotation_final_level1'], legend_loc = \"on data\")"
   ]
  },
  {
   "cell_type": "code",
   "execution_count": null,
   "id": "050daf92-4341-4f5a-b730-56bfcda7a270",
   "metadata": {
    "tags": []
   },
   "outputs": [],
   "source": [
    "celltypes = adata.obs.annotation_final_level1B.unique().tolist()\n",
    "\n",
    "for ct in celltypes:\n",
    "\n",
    "    sc.pl.umap(adata, color=['annotation_final_level1B'], groups = ct)"
   ]
  },
  {
   "cell_type": "code",
   "execution_count": null,
   "id": "721cc827-f80d-448d-83b5-72aae9da02a0",
   "metadata": {},
   "outputs": [],
   "source": [
    "celltypes = adata.obs.proj.unique().tolist()\n",
    "\n",
    "for ct in celltypes:\n",
    "\n",
    "    sc.pl.umap(adata, color=['proj'], groups = ct)"
   ]
  },
  {
   "cell_type": "code",
   "execution_count": null,
   "id": "a9624bb1-5c9a-40f7-bc16-520cae2caae1",
   "metadata": {},
   "outputs": [],
   "source": [
    "sc.tl.leiden(adata, key_added=\"leiden_scVI_3_0\", resolution=3.0, random_state=seed)"
   ]
  },
  {
   "cell_type": "code",
   "execution_count": null,
   "id": "9b79a1ec-6172-424d-9fcb-813b2d41d4cf",
   "metadata": {},
   "outputs": [],
   "source": [
    "sc.pl.umap(adata, color=['leiden_scVI_3_0'], legend_loc='on data')"
   ]
  },
  {
   "cell_type": "code",
   "execution_count": null,
   "id": "1d80bb08-b42f-4479-8f07-2aae08165a83",
   "metadata": {},
   "outputs": [],
   "source": [
    "sc.set_figure_params(figsize=(15,5))\n",
    "\n",
    "sc.pl.violin(adata, keys='nCount_RNA', groupby='leiden_scVI_3_0', rotation=90)\n",
    "sc.pl.violin(adata, keys='nFeature_RNA', groupby='leiden_scVI_3_0', rotation=90)\n",
    "sc.pl.violin(adata, keys='percent_mt', groupby='leiden_scVI_3_0', rotation=90)\n",
    "\n",
    "sc.set_figure_params(figsize=(5,5))"
   ]
  },
  {
   "cell_type": "code",
   "execution_count": null,
   "id": "d4a798b2-cb56-424e-9fb0-dd295d9feb34",
   "metadata": {},
   "outputs": [],
   "source": [
    "sc.pl.umap(adata, color=\"nCount_RNA\", vmax = 10000)\n",
    "sc.pl.umap(adata, color=\"nFeature_RNA\", vmax = 5000)\n",
    "sc.pl.umap(adata, color=\"percent_mt\", vmax = 10)"
   ]
  },
  {
   "cell_type": "code",
   "execution_count": null,
   "id": "950d427e-220c-4f0a-bc9f-96420109e4f3",
   "metadata": {},
   "outputs": [],
   "source": [
    "sc.tl.rank_genes_groups(adata, 'leiden_scVI_3_0', method='wilcoxon', key_added = \"wilcoxon3\")\n",
    "sc.pl.rank_genes_groups(adata, n_genes=25, sharey=False, key = \"wilcoxon3\")"
   ]
  },
  {
   "cell_type": "code",
   "execution_count": null,
   "id": "64ea9b81-1d11-4dff-93d1-00860b82222d",
   "metadata": {},
   "outputs": [],
   "source": [
    "adata.write(\".../Atlas/Atlas_human_extension_II_3000HVG_integrated.h5ad\")"
   ]
  },
  {
   "cell_type": "code",
   "execution_count": null,
   "id": "7d554513-b700-475c-8d3d-dad46c09ff9f",
   "metadata": {},
   "outputs": [],
   "source": [
    "model = scvi.model.SCVI.load(path_to_save, adata=adata, use_gpu=False)\n"
   ]
  },
  {
   "cell_type": "code",
   "execution_count": null,
   "id": "dfa1f6f0-d03c-4e27-b352-c20c18611f19",
   "metadata": {
    "tags": []
   },
   "outputs": [],
   "source": [
    "#set clustering of interest\n",
    "adata.obs['leiden'] = adata.obs['leiden_scVI_3_0']\n",
    "#get marker genes\n",
    "de_df = model.differential_expression(\n",
    "    groupby=\"leiden\")\n",
    "de_df.head()\n",
    "markers = {}\n",
    "cats = adata.obs.leiden.cat.categories\n",
    "for i, c in enumerate(cats):\n",
    "    cid = \"{} vs Rest\".format(c)\n",
    "    leiden_scVI_df = de_df.loc[de_df.comparison == cid]\n",
    "    leiden_scVI_df = leiden_scVI_df[leiden_scVI_df.lfc_mean > 0]\n",
    "    leiden_scVI_df = leiden_scVI_df[leiden_scVI_df[\"bayes_factor\"] > 3]\n",
    "    leiden_scVI_df = leiden_scVI_df[leiden_scVI_df[\"non_zeros_proportion1\"] > 0.1]\n",
    "    leiden_scVI_df = leiden_scVI_df[leiden_scVI_df[\"lfc_mean\"] > 0.75]\n",
    "    markers[c] = leiden_scVI_df.index.tolist()[:5]\n",
    "    sc.tl.dendrogram(adata, groupby=\"leiden\", use_rep=\"X_scVI\")\n",
    "    sc.pl.dotplot(\n",
    "    adata,\n",
    "    markers,\n",
    "    groupby='leiden',\n",
    "    dendrogram=True,\n",
    "    color_map=\"Blues\",\n",
    "    swap_axes=True,\n",
    "    use_raw=True,\n",
    "    standard_scale=\"var\",\n",
    ")"
   ]
  }
 ],
 "metadata": {
  "kernelspec": {
   "display_name": "scvi-pip",
   "language": "python",
   "name": "scvi-pip"
  },
  "language_info": {
   "codemirror_mode": {
    "name": "ipython",
    "version": 3
   },
   "file_extension": ".py",
   "mimetype": "text/x-python",
   "name": "python",
   "nbconvert_exporter": "python",
   "pygments_lexer": "ipython3",
   "version": "3.9.18"
  }
 },
 "nbformat": 4,
 "nbformat_minor": 5
}
