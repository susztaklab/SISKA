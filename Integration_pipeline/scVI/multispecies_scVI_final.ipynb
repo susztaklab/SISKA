{
 "cells": [
  {
   "cell_type": "code",
   "execution_count": 1,
   "metadata": {
    "executionInfo": {
     "elapsed": 3,
     "status": "ok",
     "timestamp": 1670725925203,
     "user": {
      "displayName": "Katalin Susztak",
      "userId": "13028305710480751886"
     },
     "user_tz": 300
    },
    "id": "KDGwHWCn_tbv"
   },
   "outputs": [],
   "source": [
    "#data was cleaned after a first integration run. \n",
    "#This is the final integration based on optimized scVI hyperparameters\n",
    "#CAVE: we used a GPU in Google colab. Be aware that colab environments are difficult to control and dependencies can change anytime. \n",
    "#To reproduce this work check the version prints. "
   ]
  },
  {
   "cell_type": "code",
   "execution_count": 2,
   "metadata": {
    "colab": {
     "base_uri": "https://localhost:8080/"
    },
    "executionInfo": {
     "elapsed": 86513,
     "status": "ok",
     "timestamp": 1670726011714,
     "user": {
      "displayName": "Katalin Susztak",
      "userId": "13028305710480751886"
     },
     "user_tz": 300
    },
    "id": "VvHUirXk5rBm",
    "outputId": "8a0c1fba-ac5b-40db-d3ab-f9de5e3f6a89"
   },
   "outputs": [
    {
     "name": "stdout",
     "output_type": "stream",
     "text": [
      "\u001b[K     |████████████████████████████████| 237 kB 3.9 MB/s \n",
      "\u001b[K     |████████████████████████████████| 51 kB 2.5 MB/s \n",
      "\u001b[?25h\u001b[34mINFO    \u001b[0m scvi-colab: Installing scvi-tools.                                                                        \n",
      "\u001b[34mINFO    \u001b[0m scvi-colab: Install successful. Testing import.                                                           \n"
     ]
    },
    {
     "name": "stderr",
     "output_type": "stream",
     "text": [
      "INFO:pytorch_lightning.utilities.seed:Global seed set to 0\n",
      "/usr/local/lib/python3.8/dist-packages/pytorch_lightning/utilities/warnings.py:53: LightningDeprecationWarning: pytorch_lightning.utilities.warnings.rank_zero_deprecation has been deprecated in v1.6 and will be removed in v1.8. Use the equivalent function from the pytorch_lightning.utilities.rank_zero module instead.\n",
      "  new_rank_zero_deprecation(\n",
      "/usr/local/lib/python3.8/dist-packages/pytorch_lightning/utilities/warnings.py:58: LightningDeprecationWarning: The `pytorch_lightning.loggers.base.rank_zero_experiment` is deprecated in v1.7 and will be removed in v1.9. Please use `pytorch_lightning.loggers.logger.rank_zero_experiment` instead.\n",
      "  return new_rank_zero_deprecation(*args, **kwargs)\n"
     ]
    },
    {
     "name": "stdout",
     "output_type": "stream",
     "text": [
      "\u001b[K     |████████████████████████████████| 647 kB 4.3 MB/s \n",
      "\u001b[?25h  Building wheel for annoy (setup.py) ... \u001b[?25l\u001b[?25hdone\n"
     ]
    },
    {
     "name": "stderr",
     "output_type": "stream",
     "text": [
      "INFO:pytorch_lightning.utilities.seed:Global seed set to 94705\n"
     ]
    },
    {
     "name": "stdout",
     "output_type": "stream",
     "text": [
      "Looking in indexes: https://pypi.org/simple, https://us-python.pkg.dev/colab-wheels/public/simple/\n",
      "Collecting anndata2ri\n",
      "  Downloading anndata2ri-1.1-py3-none-any.whl (25 kB)\n",
      "Requirement already satisfied: rpy2>=3.4.3 in /usr/local/lib/python3.8/dist-packages (from anndata2ri) (3.5.5)\n",
      "Collecting get-version\n",
      "  Downloading get_version-3.5.4-py3-none-any.whl (18 kB)\n",
      "Requirement already satisfied: tzlocal in /usr/local/lib/python3.8/dist-packages (from anndata2ri) (1.5.1)\n",
      "Requirement already satisfied: anndata in /usr/local/lib/python3.8/dist-packages (from anndata2ri) (0.8.0)\n",
      "Requirement already satisfied: pytz in /usr/local/lib/python3.8/dist-packages (from rpy2>=3.4.3->anndata2ri) (2022.6)\n",
      "Requirement already satisfied: cffi>=1.10.0 in /usr/local/lib/python3.8/dist-packages (from rpy2>=3.4.3->anndata2ri) (1.15.1)\n",
      "Requirement already satisfied: jinja2 in /usr/local/lib/python3.8/dist-packages (from rpy2>=3.4.3->anndata2ri) (2.11.3)\n",
      "Requirement already satisfied: pycparser in /usr/local/lib/python3.8/dist-packages (from cffi>=1.10.0->rpy2>=3.4.3->anndata2ri) (2.21)\n",
      "Requirement already satisfied: packaging>=20 in /usr/local/lib/python3.8/dist-packages (from anndata->anndata2ri) (21.3)\n",
      "Requirement already satisfied: scipy>1.4 in /usr/local/lib/python3.8/dist-packages (from anndata->anndata2ri) (1.7.3)\n",
      "Requirement already satisfied: numpy>=1.16.5 in /usr/local/lib/python3.8/dist-packages (from anndata->anndata2ri) (1.21.6)\n",
      "Requirement already satisfied: pandas>=1.1.1 in /usr/local/lib/python3.8/dist-packages (from anndata->anndata2ri) (1.3.5)\n",
      "Requirement already satisfied: h5py>=3 in /usr/local/lib/python3.8/dist-packages (from anndata->anndata2ri) (3.1.0)\n",
      "Requirement already satisfied: natsort in /usr/local/lib/python3.8/dist-packages (from anndata->anndata2ri) (5.5.0)\n",
      "Requirement already satisfied: pyparsing!=3.0.5,>=2.0.2 in /usr/local/lib/python3.8/dist-packages (from packaging>=20->anndata->anndata2ri) (3.0.9)\n",
      "Requirement already satisfied: python-dateutil>=2.7.3 in /usr/local/lib/python3.8/dist-packages (from pandas>=1.1.1->anndata->anndata2ri) (2.8.2)\n",
      "Requirement already satisfied: six>=1.5 in /usr/local/lib/python3.8/dist-packages (from python-dateutil>=2.7.3->pandas>=1.1.1->anndata->anndata2ri) (1.15.0)\n",
      "Collecting dunamai\n",
      "  Downloading dunamai-1.15.0-py3-none-any.whl (23 kB)\n",
      "Requirement already satisfied: MarkupSafe>=0.23 in /usr/local/lib/python3.8/dist-packages (from jinja2->rpy2>=3.4.3->anndata2ri) (2.0.1)\n",
      "Installing collected packages: dunamai, get-version, anndata2ri\n",
      "Successfully installed anndata2ri-1.1 dunamai-1.15.0 get-version-3.5.4\n",
      "Looking in indexes: https://pypi.org/simple, https://us-python.pkg.dev/colab-wheels/public/simple/\n",
      "Collecting session_info\n",
      "  Downloading session_info-1.0.0.tar.gz (24 kB)\n",
      "Requirement already satisfied: stdlib_list in /usr/local/lib/python3.8/dist-packages (from session_info) (0.8.0)\n",
      "Building wheels for collected packages: session-info\n",
      "  Building wheel for session-info (setup.py) ... \u001b[?25l\u001b[?25hdone\n",
      "  Created wheel for session-info: filename=session_info-1.0.0-py3-none-any.whl size=8046 sha256=f419338fda45730b014c05c31300f2422b6da70c258e8c53e40e4de37e0994dd\n",
      "  Stored in directory: /root/.cache/pip/wheels/5c/1b/4d/111d73980c5c6a8e5e5905a19eccc34296cb359cac54c6c5b9\n",
      "Successfully built session-info\n",
      "Installing collected packages: session-info\n",
      "Successfully installed session-info-1.0.0\n",
      "WARNING: If you miss a compact list, please try `print_header`!\n",
      "The `sinfo` package has changed name and is now called `session_info` to become more discoverable and self-explanatory. The `sinfo` PyPI package will be kept around to avoid breaking old installs and you can downgrade to 0.3.2 if you want to use it without seeing this message. For the latest features and bug fixes, please install `session_info` instead. The usage and defaults also changed slightly, so please review the latest README at https://gitlab.com/joelostblom/session_info.\n",
      "-----\n",
      "anndata     0.8.0\n",
      "scanpy      1.8.2\n",
      "sinfo       0.3.4\n",
      "-----\n",
      "PIL                         7.1.2\n",
      "absl                        NA\n",
      "anndata2ri                  1.1\n",
      "astor                       0.8.1\n",
      "astunparse                  1.6.3\n",
      "atomicwrites                1.4.1\n",
      "attr                        22.1.0\n",
      "backcall                    0.2.0\n",
      "beta_ufunc                  NA\n",
      "binom_ufunc                 NA\n",
      "certifi                     2022.09.24\n",
      "cffi                        1.15.1\n",
      "chardet                     3.0.4\n",
      "chex                        0.1.5\n",
      "cloudpickle                 1.5.0\n",
      "contextlib2                 NA\n",
      "cupy                        11.0.0\n",
      "cupy_backends               NA\n",
      "cupyx                       NA\n",
      "cycler                      0.10.0\n",
      "cython_runtime              NA\n",
      "dask                        2022.02.1\n",
      "dateutil                    2.8.2\n",
      "debugpy                     1.0.0\n",
      "decorator                   4.4.2\n",
      "defusedxml                  0.7.1\n",
      "deprecate                   0.3.2\n",
      "dill                        0.3.6\n",
      "docrep                      0.3.2\n",
      "etils                       0.9.0\n",
      "fastrlock                   0.8.1\n",
      "flax                        0.6.3\n",
      "fsspec                      2022.11.0\n",
      "google                      NA\n",
      "graphviz                    0.10.1\n",
      "h5py                        3.1.0\n",
      "httplib2                    0.17.4\n",
      "idna                        2.10\n",
      "igraph                      0.10.2\n",
      "importlib_resources         NA\n",
      "ipykernel                   5.3.4\n",
      "ipython_genutils            0.2.0\n",
      "ipywidgets                  7.7.1\n",
      "jax                         0.3.25\n",
      "jaxlib                      0.3.25\n",
      "jinja2                      2.11.3\n",
      "joblib                      1.2.0\n",
      "kiwisolver                  1.4.4\n",
      "leidenalg                   0.9.0\n",
      "llvmlite                    0.39.1\n",
      "markupsafe                  2.0.1\n",
      "matplotlib                  3.2.2\n",
      "ml_collections              NA\n",
      "more_itertools              9.0.0\n",
      "mpl_toolkits                NA\n",
      "msgpack                     1.0.4\n",
      "mudata                      0.2.1\n",
      "multipledispatch            0.6.0\n",
      "natsort                     5.5.0\n",
      "nbinom_ufunc                NA\n",
      "numba                       0.56.4\n",
      "numexpr                     2.8.4\n",
      "numpy                       1.21.6\n",
      "numpyro                     0.10.1\n",
      "opt_einsum                  v3.3.0\n",
      "optax                       0.1.4\n",
      "packaging                   21.3\n",
      "pandas                      1.3.5\n",
      "pexpect                     4.8.0\n",
      "pickleshare                 0.7.5\n",
      "pkg_resources               NA\n",
      "platformdirs                2.5.4\n",
      "plotly                      5.5.0\n",
      "pluggy                      0.7.1\n",
      "portpicker                  NA\n",
      "prompt_toolkit              2.0.10\n",
      "psutil                      5.4.8\n",
      "ptyprocess                  0.7.0\n",
      "py                          1.11.0\n",
      "pyarrow                     9.0.0\n",
      "pycparser                   2.21\n",
      "pydev_ipython               NA\n",
      "pydevconsole                NA\n",
      "pydevd                      2.0.0\n",
      "pydevd_concurrency_analyser NA\n",
      "pydevd_file_utils           NA\n",
      "pydevd_plugins              NA\n",
      "pydevd_tracing              NA\n",
      "pygments                    2.6.1\n",
      "pynndescent                 0.5.8\n",
      "pyparsing                   3.0.9\n",
      "pyro                        1.8.0\n",
      "pytest                      3.6.4\n",
      "pytorch_lightning           1.7.7\n",
      "pytz                        2022.6\n",
      "regex                       2.5.115\n",
      "requests                    2.23.0\n",
      "rich                        NA\n",
      "rpy2                        3.5.5\n",
      "scipy                       1.7.3\n",
      "scvi                        0.19.0\n",
      "scvi_colab                  0.11.0\n",
      "sitecustomize               NA\n",
      "six                         1.15.0\n",
      "sklearn                     1.0.2\n",
      "socks                       1.7.1\n",
      "sphinxcontrib               NA\n",
      "storemagic                  NA\n",
      "tables                      3.7.0\n",
      "tblib                       1.7.0\n",
      "tensorboard                 2.9.1\n",
      "texttable                   1.6.7\n",
      "threadpoolctl               3.1.0\n",
      "tlz                         0.12.0\n",
      "toolz                       0.12.0\n",
      "torch                       1.13.0+cu116\n",
      "torchmetrics                0.11.0\n",
      "torchtext                   0.14.0\n",
      "torchvision                 0.14.0+cu116\n",
      "tornado                     6.0.4\n",
      "tqdm                        4.64.1\n",
      "traitlets                   5.6.0\n",
      "tree                        0.1.7\n",
      "typing_extensions           NA\n",
      "tzlocal                     NA\n",
      "urllib3                     1.24.3\n",
      "wcwidth                     0.2.5\n",
      "wrapt                       1.14.1\n",
      "yaml                        6.0\n",
      "zipp                        NA\n",
      "zmq                         23.2.1\n",
      "-----\n",
      "IPython             7.9.0\n",
      "jupyter_client      6.1.12\n",
      "jupyter_core        5.1.0\n",
      "notebook            5.7.16\n",
      "-----\n",
      "Python 3.8.16 (default, Dec  7 2022, 01:12:13) [GCC 7.5.0]\n",
      "Linux-5.10.133+-x86_64-with-glibc2.27\n",
      "8 logical CPU cores, x86_64\n",
      "-----\n",
      "Session information updated at 2022-12-11 02:33\n",
      "\n"
     ]
    }
   ],
   "source": [
    "!pip install --quiet scvi-colab\n",
    "from scvi_colab import install\n",
    "install()\n",
    "\n",
    "import sys\n",
    "IN_COLAB = \"google.colab\" in sys.modules\n",
    "if IN_COLAB:\n",
    "    !pip install --quiet scrublet\n",
    "    import warnings\n",
    "warnings.simplefilter(action='ignore', category=FutureWarning)\n",
    "\n",
    "import pandas as pd\n",
    "import numpy as np\n",
    "import matplotlib.pyplot as plt\n",
    "\n",
    "import anndata\n",
    "import scvi\n",
    "import scanpy as sc\n",
    "\n",
    "sc.set_figure_params(figsize=(4, 4))\n",
    "scvi.settings.seed = 94705\n",
    "\n",
    "%config InlineBackend.print_figure_kwargs={'facecolor' : \"w\"}\n",
    "%config InlineBackend.figure_format='retina'\n",
    "\n",
    "!pip install anndata2ri\n",
    "import anndata2ri\n",
    "\n",
    "!pip install session_info\n",
    "\n",
    "seed=10\n",
    "sc.logging.print_versions()"
   ]
  },
  {
   "cell_type": "code",
   "execution_count": 3,
   "metadata": {
    "executionInfo": {
     "elapsed": 27,
     "status": "ok",
     "timestamp": 1670726011715,
     "user": {
      "displayName": "Katalin Susztak",
      "userId": "13028305710480751886"
     },
     "user_tz": 300
    },
    "id": "AMmFkAidt7mF"
   },
   "outputs": [],
   "source": [
    "path = '.../Atlas6.1_3000HVG.h5ad'"
   ]
  },
  {
   "cell_type": "code",
   "execution_count": 5,
   "metadata": {
    "executionInfo": {
     "elapsed": 150251,
     "status": "ok",
     "timestamp": 1670726344797,
     "user": {
      "displayName": "Katalin Susztak",
      "userId": "13028305710480751886"
     },
     "user_tz": 300
    },
    "id": "eblCrNv5QuzT"
   },
   "outputs": [],
   "source": [
    "adata = scvi.data.read_h5ad(path)"
   ]
  },
  {
   "cell_type": "code",
   "execution_count": null,
   "metadata": {
    "colab": {
     "base_uri": "https://localhost:8080/"
    },
    "executionInfo": {
     "elapsed": 12,
     "status": "ok",
     "timestamp": 1670726344797,
     "user": {
      "displayName": "Katalin Susztak",
      "userId": "13028305710480751886"
     },
     "user_tz": 300
    },
    "id": "8jSrEOG5KNoA",
    "outputId": "0da3e599-326e-486b-ba7c-8a2cd8890c64"
   },
   "outputs": [],
   "source": [
    "adata"
   ]
  },
  {
   "cell_type": "code",
   "execution_count": null,
   "metadata": {
    "colab": {
     "background_save": true,
     "base_uri": "https://localhost:8080/"
    },
    "id": "z0c94PeTzEO_"
   },
   "outputs": [
    {
     "name": "stderr",
     "output_type": "stream",
     "text": [
      "INFO:pytorch_lightning.utilities.rank_zero:GPU available: True (cuda), used: True\n",
      "INFO:pytorch_lightning.utilities.rank_zero:TPU available: False, using: 0 TPU cores\n",
      "INFO:pytorch_lightning.utilities.rank_zero:IPU available: False, using: 0 IPUs\n",
      "INFO:pytorch_lightning.utilities.rank_zero:HPU available: False, using: 0 HPUs\n",
      "INFO:pytorch_lightning.accelerators.cuda:LOCAL_RANK: 0 - CUDA_VISIBLE_DEVICES: [0]\n"
     ]
    },
    {
     "name": "stdout",
     "output_type": "stream",
     "text": [
      "Epoch 378/600:  63%|██████▎   | 378/600 [12:32:35<7:21:59, 119.46s/it, loss=801, v_num=1]\n",
      "Monitored metric elbo_validation did not improve in the last 15 records. Best score: 798.321. Signaling Trainer to stop.\n"
     ]
    }
   ],
   "source": [
    "scvi.model.SCVI.setup_anndata(\n",
    "    adata, \n",
    "    batch_key=\"species\",\n",
    "    layer=\"counts\", categorical_covariate_keys=[\"orig_ident\"], \n",
    "    continuous_covariate_keys=[\"percent_mt\"])\n",
    "model = scvi.model.SCVI(adata)\n",
    "model\n",
    "vae = scvi.model.SCVI(adata, n_layers=3, n_latent=30, gene_likelihood=\"nb\", dropout_rate=0.1)\n",
    "vae.train(max_epochs = 600, plan_kwargs={\"lr\":0.001}, early_stopping = True, early_stopping_patience = 15)\n",
    "model = vae"
   ]
  },
  {
   "cell_type": "code",
   "execution_count": null,
   "metadata": {
    "colab": {
     "background_save": true
    },
    "id": "JKNncrx3e1eo"
   },
   "outputs": [],
   "source": [
    "model.save(\".../Model_Atlas6.1_V2\")\n"
   ]
  }
 ],
 "metadata": {
  "accelerator": "GPU",
  "colab": {
   "authorship_tag": "ABX9TyNOxo7kgNspVqi3XmVdl+x6",
   "machine_shape": "hm",
   "mount_file_id": "1I6GAgQ9miOy3bpX6CQbIbCbD4lkpRpmp",
   "name": "",
   "provenance": [
    {
     "file_id": "1JB-ojoV18338uF221A-H34pXnZTF7rhT",
     "timestamp": 1670725878257
    },
    {
     "file_id": "1U2WuXaMm1cw72gAG9o9cUmtazY-IPvRW",
     "timestamp": 1670725408161
    },
    {
     "file_id": "1_Isd1XtUGUEC-ZhcJQOpFPIRUXEpG_1l",
     "timestamp": 1670614638984
    },
    {
     "file_id": "1IrrgZs5OV5kI16oO2EWtTxc6aczqRUr3",
     "timestamp": 1670184278278
    },
    {
     "file_id": "1dyngupZghGeNUVZCBs81Jf2lCto9nJmD",
     "timestamp": 1669947018322
    },
    {
     "file_id": "1Nr-eb_zRMwnyu8jh-LOsZR6cFzi16bHM",
     "timestamp": 1669772057413
    },
    {
     "file_id": "1Gb4OyyDd0AVojmRfp4NdustmmyQNcsNp",
     "timestamp": 1665614703781
    },
    {
     "file_id": "1d5MIGSw5-k8aWdiAXFAA8diT7Kv8y-w4",
     "timestamp": 1665614688257
    },
    {
     "file_id": "16YBdZa1FP9bOfpQQbdzk4kU1ph82AvP0",
     "timestamp": 1665613335209
    },
    {
     "file_id": "1B8XVjdA2LNeG5BEQKmmjHxYmsvKo3M4g",
     "timestamp": 1665536499126
    },
    {
     "file_id": "10MxIqguf3lZl1PSU_etHX90XYLEHWiHT",
     "timestamp": 1665502049777
    },
    {
     "file_id": "1buyzEMKLZO6wvp3AawiZFm819dyRsrMK",
     "timestamp": 1663981887877
    },
    {
     "file_id": "1Klee2wk7lXz3b3pz1R68ZVPAnTQmVayK",
     "timestamp": 1663797493746
    },
    {
     "file_id": "1gM2GXF1_iJE5_E9OJ0uUWrTKL83tbATy",
     "timestamp": 1663769953119
    },
    {
     "file_id": "1B2OlwJkQtATL-T9yMFUrAp7PFvQ0u7os",
     "timestamp": 1663683407807
    },
    {
     "file_id": "1dlSapu-ljBVP4mZ89sbXQgdDx1g3PZq4",
     "timestamp": 1663185624076
    },
    {
     "file_id": "1elCVz0AmCsKlEnR_5VXIPgse0O15KnXe",
     "timestamp": 1663166529191
    },
    {
     "file_id": "15uaY6P5jU4Ohn-n_jDv8UL9Yytr3XRV8",
     "timestamp": 1663124480680
    },
    {
     "file_id": "1t6aEjQijMqallzKHW8Cq4koOM7ZSUQf-",
     "timestamp": 1663082741815
    },
    {
     "file_id": "13y1YyQ2NQBvjFZjAg5SLHyFvruB_mBMm",
     "timestamp": 1662767488501
    },
    {
     "file_id": "17oc6rWNnm44hMeToYVIFiZ-Tl5bHXo8I",
     "timestamp": 1662745900182
    },
    {
     "file_id": "1QLdt6UW5YP6EPyaWCY8LqfjWcbHlrr5o",
     "timestamp": 1662738978367
    },
    {
     "file_id": "1sk_uSfDQz6jx_gTqQHzyy7BWXkSohGw1",
     "timestamp": 1662692494613
    },
    {
     "file_id": "1-3h2THG8Mfbi2adssVlk7hcVxq2vCcym",
     "timestamp": 1662663381916
    },
    {
     "file_id": "1K65jysoonzTu5goezKaU6IkqTYz0pH7z",
     "timestamp": 1662585432261
    },
    {
     "file_id": "1EkPaWGU_4uyr5MbMM557D9f13pizopwJ",
     "timestamp": 1662519385332
    },
    {
     "file_id": "1yJZbua6C1PTuZ_UUWT2UJ2tDXRsAymco",
     "timestamp": 1662131621524
    },
    {
     "file_id": "19FWDuYi8H61RELuHZzPJkR9LyZJzTOqo",
     "timestamp": 1661974990083
    },
    {
     "file_id": "1k--sv7HaK1KI6nvdNbyGERbybP1L8Pu6",
     "timestamp": 1661968135805
    }
   ],
   "version": ""
  },
  "gpuClass": "standard",
  "kernelspec": {
   "display_name": "Python 3 (ipykernel)",
   "language": "python",
   "name": "python3"
  },
  "language_info": {
   "codemirror_mode": {
    "name": "ipython",
    "version": 3
   },
   "file_extension": ".py",
   "mimetype": "text/x-python",
   "name": "python",
   "nbconvert_exporter": "python",
   "pygments_lexer": "ipython3",
   "version": "3.9.1"
  }
 },
 "nbformat": 4,
 "nbformat_minor": 1
}
